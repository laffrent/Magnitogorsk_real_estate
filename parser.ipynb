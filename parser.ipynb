{
 "cells": [
  {
   "cell_type": "markdown",
   "metadata": {},
   "source": [
    "# Парсинг и трансформация данных"
   ]
  },
  {
   "cell_type": "code",
   "execution_count": null,
   "metadata": {},
   "outputs": [],
   "source": [
    "%pip install -r requirements.txt"
   ]
  },
  {
   "cell_type": "code",
   "execution_count": 2,
   "metadata": {},
   "outputs": [],
   "source": [
    "import time\n",
    "import re\n",
    "import random\n",
    "import json\n",
    "\n",
    "import requests\n",
    "from bs4 import BeautifulSoup\n",
    "import base64\n",
    "import lxml\n",
    "\n",
    "from selenium import webdriver\n",
    "from selenium.webdriver.common.by import By\n",
    "from selenium.webdriver.chrome.options import Options\n",
    "from selenium.webdriver.common.desired_capabilities import DesiredCapabilities\n",
    "from selenium.webdriver.support.ui import WebDriverWait\n",
    "from selenium.webdriver.support import expected_conditions as EC\n",
    "from selenium.common.exceptions import TimeoutException\n",
    "\n",
    "import pandas as pd\n",
    "\n",
    "from geopy.geocoders import Nominatim\n",
    "from geopy.distance import geodesic\n",
    "from geopy import distance\n",
    "from geopy.extra.rate_limiter import RateLimiter\n",
    "\n",
    "pd.set_option('max_colwidth', 600)\n",
    "pd.set_option('display.width', 600)"
   ]
  },
  {
   "cell_type": "code",
   "execution_count": 3,
   "metadata": {},
   "outputs": [
    {
     "name": "stdout",
     "output_type": "stream",
     "text": [
      "Working with 1 page\n",
      "Page #1 sucsefully added\n",
      "Working with 2 page\n",
      "Page #2 sucsefully added\n",
      "Working with 3 page\n",
      "Page #3 sucsefully added\n",
      "Working with 4 page\n",
      "Page #4 sucsefully added\n",
      "Working with 5 page\n",
      "Page #5 sucsefully added\n"
     ]
    }
   ],
   "source": [
    "# Используем url c текстовой таблицей\n",
    "URL = \"http://citystar.ru/detal.htm?d=43&nm=%CE%E1%FA%FF%E2%EB%E5%ED%E8%FF+%2D+%CF%F0%EE%E4%E0%EC+%EA%E2%E0%F0%F2%E8%F0%F3+%E2+%E3%2E+%CC%E0%E3%ED%E8%F2%EE%E3%EE%F0%F1%EA%E5&v_id=1&pN=\"\n",
    "\n",
    "data = []\n",
    "for page in range(5):\n",
    "    print(f\"Working with {page+1} page\")\n",
    "    full_url = URL + str(page+1)\n",
    "    response = requests.get(full_url)\n",
    "    html_content = response.content\n",
    "    soup = BeautifulSoup(html_content, \"html.parser\")\n",
    "    table = soup.find(\"table\", class_=\"tbrd\")\n",
    "    rows = table.find_all(\"tr\")\n",
    "\n",
    "    # делим по разметке на тексты\n",
    "    delimiter = '</td></tr>\\n<tr class=\\\"tbb\\\">'\n",
    "    result = str(rows[0]).split(delimiter) \n",
    "\n",
    "    data.extend(result)\n",
    "    print(f\"Page #{page+1} sucsefully added\")\n"
   ]
  },
  {
   "cell_type": "code",
   "execution_count": 4,
   "metadata": {},
   "outputs": [],
   "source": [
    "data_clean = [t.split('\\\">')[1] for t in data] # if t.strip()\n",
    "data_clean = [t.split(\"</td>\")[0] for t in data_clean]\n",
    "data_clean = [t for t in data_clean if \"<\" not in t] # if t.strip()"
   ]
  },
  {
   "cell_type": "code",
   "execution_count": 5,
   "metadata": {},
   "outputs": [
    {
     "data": {
      "text/plain": [
       "['27.08.2023.  Продам двухкомнатную квартиру.  ул. Советская, дом 174, этаж 5/9. Общая площадь - 49.80 кв.м., жилая площадь - 30.00 кв.м., кухня - 9.00 кв.м.. , id:26097. \\r\\nВНИМАНИЕ! ЭКСКЛЮЗИВНОЕ ПРЕДЛОЖЕНИЕ РИО-ЛЮКС!\\r\\nПредлагается к покупке ДВУХКОМНАТНАЯ квартира в идеальном состоянии!\\r\\n\\r\\nИнфраструктура\\r\\nОтличный экологически благополучный район, есть все для комфортной жизни.\\r\\nВ шаговой доступности:\\r\\n\\r\\nУдобная транспортная развязка в любой район города\\r\\nТорговый центр «Тройка», магазины «Монетка», «Магнит», «Пятерочка», «Красно-белое».\\r\\nАптеки, парикмахерские, кафе, кондитерские.\\r\\n\\r\\nПространство для детей\\r\\n\\r\\n\\r\\nСовременные детские и спортивные площадки.\\r\\n\\r\\n\\r\\n\\r\\nДля малышей в шаговой доступности, детские сады  17,  30,  136,  49,  9,\\r\\n\\r\\n\\r\\n\\r\\nДля детей постарше школа 10,  32,  50,  1\\r\\nКрытый каток Умка, спортивные секции, ФОК «Дюна»\\r\\n\\r\\nО доме\\r\\n\\r\\n\\r\\nДом панельный, 9-ти этажный, качество постройки по ГОСТ!!!\\r\\nОтличная шумоизоляция, толстые стены, соседей не слышно\\r\\n\\r\\nО квартире. Наши преимущества перед аналогичными квартирами:\\r\\n\\r\\n\\r\\nКвартира светлая, окна выходят на восток.\\r\\nПланировка – раздельная, комнаты изолированные, санузел раздельный.\\r\\nКвартира в идеальном состоянии, недавно сделан добротный качественный ремонт.\\r\\nОкна пластиковые, новые межкомнатные двери, на полу в комнатах – ламинат, в коридоре и кухне – линолеум, санузел раздельный, полностью в кафеле\\r\\nКухня большая, квадратная 9 кв.м.\\r\\nВ подарок новым собственникам остается встроенная прихожая, кухонный гарнитур с посудомоечной машинкой, водогрейка.\\r\\nПо договоренности можем оставить остальную мебель за дополнительную стоимость\\r\\nТри взрослых собственника. В собственности более 5ти лет. Документы готовы. Можем быстро выйти на сделку и освободить квартиру для нового владельца!\\r\\nПроведена юридическая проверка, отсутствуют ограничения, обременения, один собственник, чистая продажа\\r\\n\\r\\nВы получаете подготовленную и комфортно проведенную сделку от лучшего агентства недвижимости с 25-летним опытом безупречной работы!\\r\\n\\r\\n\\xa0. Цена - 4000 т.р.. Обращаться: тел. 79226322001, e-mail: nedorezova.riolux@mail.ru, Светлана Недорезова, агентство \"Рио-Люкс\"',\n",
       " '27.08.2023.  Продам двухкомнатную квартиру.  ул. Коробова, дом 6/1, этаж 13/14. Общая площадь - 66.20 кв.м., жилая площадь - 40.00 кв.м., кухня - 10.50 кв.м.. , id:2527. \\r\\nПродам нестандартную, двухкомнатную квартиру в Орджоникидзевском районе. В квартире выполнен капитальный ремонт: установлены пластиковые окна и трубы, выровнены стены, натяжные потолки, медная электропроводка, на заливные полы уложен ламинат и линолеум. Балкон застеклен пластиковыми стеклопакетами, утеплен, обшит евровагонкой. Район с развитой инфраструктурой, в шаговой доступности детские сады  67,  183, школа  67, магазины, аптеки, остановки общественного транспорта с удобной транспортной развязкой. Квартира без долгов и обременений, один взрослый собственник, документы готовы к сделке, подходит под все виды расчетов, чистая продажа. Торг!. Цена - 3999 т.р.. Обращаться: тел. 79128050419, e-mail: trifonov.riolux@mail.ru, Алексей Трифонов, агентство \"Рио-Люкс\"',\n",
       " '27.08.2023.  Продам трехкомнатную квартиру. Орджоникидзевский район, ул. Жукова, дом 25, этаж 7/10. Общая площадь - 65.00 кв.м., жилая площадь - 46.00 кв.м., кухня - 9.00 кв.м.. ,  КВАРТИРА, КОТОРАЯ ДОСТОЙНА ВАШЕГО ВНИМАНИЯ!!! brДавно ищите большую квартиру, с хорошим ремонтом, и удачным месторасположением?brbrbbrО КВАРТИРЕ/bbrКачественный ремонтbrКухонный гарнитур со встроенной техникойbrЛаминат по всей квартиреbrНатяжные потолкиbrХорошие межкомнатные двериbr Много встроенных шкафов и мебелиbrРаздельные ванна и туалетbrОкна выходят на восток и запад (просыпаетесь с первыми лучами солнца, и провожаете закаты)brБольшая и уютная лоджия скрасит ваши вечера brbrbО ДОМЕbr/bУдачное расположение дома, обеспечивает доступ во все крупные магазины города:br- ТЦ Лавкаbr- Поликлиника br- Метро в 3 минутах езды на машине. br- Удобный выезд из города, по всем объездным. brАптеки, парикмахерские, а так же магазины Магнит у дома, КБ, Пятёрочка.brДля любителей спорта, в рядом находиться 3 спорт зала! Теперь не нужно ни куда ездить, что бы держать себя в форме!brbrb О РАЙОНЕbr/bВ 5 минутах ходьбы находиться школа 1, и детский сад 73, 66! brРазвитая инфраструктура.brБольшой парк для прогулок с семьёй и друзьямиbrbrb ЗВОНИТЕ, Я С УДОВОЛЬСТВИЕМ ВАМ РАССКАЖУ И ПОКАЖУ ЭТУ ЗАМЕЧАТЕЛЬНУЮ КВАРТИРУ  /bbr\\r\\n\\r\\nbr\\r\\nID объекта в нашей базе: 755. Цена - 5400 т.р.. Обращаться: тел. 79080711288, e-mail: a-ivanov-keys@yandex.ru, Алексей Андреевич, агентство \"Агентство Недвижимости Ключи\"']"
      ]
     },
     "execution_count": 5,
     "metadata": {},
     "output_type": "execute_result"
    }
   ],
   "source": [
    "data_clean[:3]"
   ]
  },
  {
   "cell_type": "code",
   "execution_count": 6,
   "metadata": {},
   "outputs": [],
   "source": [
    "df = pd.DataFrame(data_clean, columns=['text'])\n",
    "df = df.drop_duplicates().reset_index(drop=True)"
   ]
  },
  {
   "cell_type": "code",
   "execution_count": 7,
   "metadata": {},
   "outputs": [
    {
     "name": "stdout",
     "output_type": "stream",
     "text": [
      "<class 'pandas.core.frame.DataFrame'>\n",
      "RangeIndex: 465 entries, 0 to 464\n",
      "Data columns (total 1 columns):\n",
      " #   Column  Non-Null Count  Dtype \n",
      "---  ------  --------------  ----- \n",
      " 0   text    465 non-null    object\n",
      "dtypes: object(1)\n",
      "memory usage: 3.8+ KB\n"
     ]
    }
   ],
   "source": [
    "df.info()"
   ]
  },
  {
   "cell_type": "markdown",
   "metadata": {},
   "source": [
    "## transform"
   ]
  },
  {
   "cell_type": "code",
   "execution_count": 8,
   "metadata": {},
   "outputs": [],
   "source": [
    "df['date'] = df['text'].apply(lambda x: x.split('.  Продам')[0])\n",
    "df['note_len'] = df['text'].apply(lambda x: len(x))\n",
    "df = df.loc[df['note_len'] > 3]\n",
    "\n",
    "df['date'] = pd.to_datetime(df['date'], format=\"%d.%m.%Y\")\n",
    "\n",
    "df['day'] = df['date'].dt.day\n",
    "df['month'] = df['date'].dt.month\n",
    "df['year'] = df['date'].dt.year\n",
    "df['dayofweek'] = df['date'].dt.dayofweek #Monday=0, Sunday=6"
   ]
  },
  {
   "cell_type": "code",
   "execution_count": 9,
   "metadata": {},
   "outputs": [],
   "source": [
    "df['rooms'] = df['text'].apply(lambda x: x.split(\"Продам \")[1].split('квартиру')[0])"
   ]
  },
  {
   "cell_type": "code",
   "execution_count": 10,
   "metadata": {},
   "outputs": [],
   "source": [
    "def district_sort(text):\n",
    "    text = text.lower()\n",
    "    if 'орджоникидз' in text:\n",
    "        if 'левый берег' in text or 'левом' in text:\n",
    "            return 'Орджоникидзевский(левый берег)'\n",
    "        else:\n",
    "            return 'Орджоникидзевский'\n",
    "    elif 'правобереж' in text:\n",
    "        return 'Правобережный'\n",
    "    elif 'ленинск' in text:\n",
    "        if 'левый берег' in text or 'левом' in text:\n",
    "            return 'Ленинский(левый берег)'\n",
    "        else:\n",
    "            return 'Ленинский'"
   ]
  },
  {
   "cell_type": "code",
   "execution_count": 11,
   "metadata": {},
   "outputs": [],
   "source": [
    "df['district'] = df['text'].apply(district_sort)\n",
    "df['text'] = df['text'].map(lambda x: x.replace('ул. ул. ', 'ул. '))\n",
    "df['street'] = df['text'].apply(lambda x: x.split(\"ул.\")[1].split(', этаж')[0] if \"ул.\" in x else 'unknown')\n",
    "df['street'] = df['street'].map(lambda x: x.replace('ул ', ''))\n",
    "\n",
    "df['street'] = df['street'].apply(lambda x: x.lstrip(\". \").rstrip(\", \")).map(lambda x: x.replace('дом ', ''))"
   ]
  },
  {
   "cell_type": "code",
   "execution_count": 12,
   "metadata": {},
   "outputs": [],
   "source": [
    "df[['floor', 'total_floors']] = df['text'].apply(\n",
    "    lambda x: x.split(\"этаж\")[1].split(',')[0].split('.')[0] if \"этаж\" in x else 'unknown').str.split('/', expand=True)"
   ]
  },
  {
   "cell_type": "code",
   "execution_count": 13,
   "metadata": {},
   "outputs": [],
   "source": [
    "df['total_area'] = df['text'].apply(lambda x: x.split(\"Общая площадь - \")[1].split(' кв.м.')[0] if \"Общая площадь\" in x else 'unknown')\n",
    "df['living_area'] = df['text'].apply(lambda x: x.split(\"жилая площадь - \")[1].split(' кв.м.')[0] if \"жилая площадь - \" in x else 'unknown')\n",
    "df['kitchen_area'] = df['text'].apply(lambda x: x.split(\"кухня - \")[1].split(' кв.м.')[0] if \"кухня - \" in x else 'unknown')\n",
    "\n",
    "df['price'] = df['text'].apply(lambda x: x.split(\"Цена - \")[1].split(' т.р.')[0] if \"Цена - \" in x else None)"
   ]
  },
  {
   "cell_type": "code",
   "execution_count": 14,
   "metadata": {},
   "outputs": [],
   "source": [
    "df['street'] = 'Магнитогорск, ' + df['street']"
   ]
  },
  {
   "cell_type": "code",
   "execution_count": null,
   "metadata": {},
   "outputs": [],
   "source": [
    "geolocator = Nominatim(user_agent=\"my-app\")\n",
    "geocode = RateLimiter(geolocator.geocode, min_delay_seconds=1)\n",
    "\n",
    "df['location'] = df['street'].apply(geocode)"
   ]
  },
  {
   "cell_type": "code",
   "execution_count": 16,
   "metadata": {},
   "outputs": [],
   "source": [
    "df['lat_long'] = df['location'].dropna().apply(lambda x: x[1])"
   ]
  },
  {
   "cell_type": "code",
   "execution_count": 17,
   "metadata": {},
   "outputs": [],
   "source": [
    "df.loc[df['district'].isna(), 'district'] = df['location'].dropna().apply(lambda x: x[0].split('район')[0].split(', ')[-1] if 'район' in str(x) else 'unknown')\n",
    "\n",
    "parks_and_center = {'park_eko':(53.402233, 58.952641),\n",
    "'attraction':(53.381266, 58.953624),\n",
    "'south':(53.351887, 58.990688),\n",
    "'eternal_fire':(53.405914, 58.991158),\n",
    "'veter':(53.429143, 59.000213),\n",
    "'city_center':(53.407164, 58.980285)}"
   ]
  },
  {
   "cell_type": "code",
   "execution_count": 18,
   "metadata": {},
   "outputs": [
    {
     "name": "stdout",
     "output_type": "stream",
     "text": [
      "<class 'pandas.core.frame.DataFrame'>\n",
      "Index: 464 entries, 0 to 464\n",
      "Data columns (total 24 columns):\n",
      " #   Column        Non-Null Count  Dtype         \n",
      "---  ------        --------------  -----         \n",
      " 0   text          464 non-null    object        \n",
      " 1   date          464 non-null    datetime64[ns]\n",
      " 2   note_len      464 non-null    int64         \n",
      " 3   day           464 non-null    int32         \n",
      " 4   month         464 non-null    int32         \n",
      " 5   year          464 non-null    int32         \n",
      " 6   dayofweek     464 non-null    int32         \n",
      " 7   rooms         464 non-null    object        \n",
      " 8   district      393 non-null    object        \n",
      " 9   street        464 non-null    object        \n",
      " 10  floor         464 non-null    object        \n",
      " 11  total_floors  464 non-null    object        \n",
      " 12  total_area    464 non-null    object        \n",
      " 13  living_area   464 non-null    object        \n",
      " 14  kitchen_area  464 non-null    object        \n",
      " 15  price         460 non-null    object        \n",
      " 16  location      326 non-null    object        \n",
      " 17  lat_long      326 non-null    object        \n",
      " 18  park_eko      326 non-null    float64       \n",
      " 19  attraction    326 non-null    float64       \n",
      " 20  south         326 non-null    float64       \n",
      " 21  eternal_fire  326 non-null    float64       \n",
      " 22  veter         326 non-null    float64       \n",
      " 23  city_center   326 non-null    float64       \n",
      "dtypes: datetime64[ns](1), float64(6), int32(4), int64(1), object(12)\n",
      "memory usage: 83.4+ KB\n"
     ]
    },
    {
     "data": {
      "text/plain": [
       "'двухкомнатную '"
      ]
     },
     "execution_count": 18,
     "metadata": {},
     "output_type": "execute_result"
    }
   ],
   "source": [
    "# Итерирование по ключам словаря parks\n",
    "for key in parks_and_center:\n",
    "    # Создание нового столбца с именем ключа и заполнение его значениями\n",
    "    df[key] = [(parks_and_center[key])]* len(df['lat_long'])\n",
    "    df[key] = df[[key, 'lat_long']].dropna().apply(lambda row: round(distance.distance(row[key], row[\"lat_long\"]).km, 2), axis=1)\n",
    "df.info()\n",
    "df['rooms'].value_counts()\n",
    "df['rooms'][0]"
   ]
  },
  {
   "cell_type": "code",
   "execution_count": 19,
   "metadata": {},
   "outputs": [],
   "source": [
    "def rooms_num(rooms):\n",
    "    rooms = rooms.rstrip()\n",
    "    answ = -1\n",
    "    if rooms == 'однокомнатную':\n",
    "        answ = 1\n",
    "    if rooms == 'двухкомнатную':\n",
    "        answ = 2\n",
    "    if rooms == 'трехкомнатную':\n",
    "        answ = 3\n",
    "    if rooms == 'четырехкомнатную':\n",
    "        answ = 4\n",
    "    if rooms == 'многокомнатную':\n",
    "        answ = 5\n",
    "    return answ"
   ]
  },
  {
   "cell_type": "code",
   "execution_count": 20,
   "metadata": {},
   "outputs": [
    {
     "data": {
      "text/plain": [
       "district\n",
       "Орджоникидзевский                 129\n",
       "Ленинский                         103\n",
       "Правобережный                      88\n",
       "Орджоникидзевский                  24\n",
       "Ленинский                          17\n",
       "Правобережный                      15\n",
       "Орджоникидзевский(левый берег)     14\n",
       "unknown                             1\n",
       "Ленинский(левый берег)              1\n",
       "141-ый микро                        1\n",
       "Name: count, dtype: int64"
      ]
     },
     "execution_count": 20,
     "metadata": {},
     "output_type": "execute_result"
    }
   ],
   "source": [
    "df['rooms'] = df['rooms'].apply(rooms_num)\n",
    "df['district'].value_counts()"
   ]
  },
  {
   "cell_type": "code",
   "execution_count": 21,
   "metadata": {},
   "outputs": [],
   "source": [
    "df[['floor', 'total_floors', 'total_area', 'living_area', 'kitchen_area', 'price']] = \\\n",
    "df[['floor', 'total_floors', 'total_area', 'living_area', 'kitchen_area', 'price']].apply(pd.to_numeric, errors='coerce').dropna()\n",
    "\n",
    "df['district'] = df['district'].dropna().apply(lambda x: x.lstrip().rstrip())\n",
    "\n",
    "df = df.drop(['text',  'note_len', 'location'], axis=1)\n",
    "\n",
    "df['price'] = df['price'].dropna()\n",
    "\n",
    "df = df.dropna(subset=['price'])\n",
    "\n",
    "df['price_sq_meter'] = df['price'] / df['total_area']\n",
    "df['floor_type'] = 'middle'\n",
    "\n",
    "df.loc[df.floor == 1, 'floor_type'] = 'first'\n",
    "df.loc[(df.floor == df.total_floors) & (df.floor != 1), 'floor_type'] = 'last'"
   ]
  },
  {
   "cell_type": "code",
   "execution_count": 22,
   "metadata": {},
   "outputs": [],
   "source": [
    "df.to_csv('df_2.csv')"
   ]
  }
 ],
 "metadata": {
  "kernelspec": {
   "display_name": ".venv",
   "language": "python",
   "name": "python3"
  },
  "language_info": {
   "codemirror_mode": {
    "name": "ipython",
    "version": 3
   },
   "file_extension": ".py",
   "mimetype": "text/x-python",
   "name": "python",
   "nbconvert_exporter": "python",
   "pygments_lexer": "ipython3",
   "version": "3.10.4"
  },
  "orig_nbformat": 4
 },
 "nbformat": 4,
 "nbformat_minor": 2
}
