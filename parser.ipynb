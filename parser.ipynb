{
 "cells": [
  {
   "cell_type": "markdown",
   "metadata": {},
   "source": [
    "# Парсинг данных"
   ]
  },
  {
   "cell_type": "code",
   "execution_count": 1,
   "metadata": {},
   "outputs": [
    {
     "name": "stdout",
     "output_type": "stream",
     "text": [
      "Requirement already satisfied: pandas in e:\\gitlocal\\magnitogorsk_real_estate\\.venv\\lib\\site-packages (from -r requirements.txt (line 1)) (2.0.3)\n",
      "Requirement already satisfied: numpy==1.24.3 in e:\\gitlocal\\magnitogorsk_real_estate\\.venv\\lib\\site-packages (from -r requirements.txt (line 2)) (1.24.3)\n",
      "Requirement already satisfied: matplotlib in e:\\gitlocal\\magnitogorsk_real_estate\\.venv\\lib\\site-packages (from -r requirements.txt (line 3)) (3.7.2)\n",
      "Requirement already satisfied: seaborn==0.11.1 in e:\\gitlocal\\magnitogorsk_real_estate\\.venv\\lib\\site-packages (from -r requirements.txt (line 4)) (0.11.1)\n",
      "Requirement already satisfied: plotly==5.15.0 in e:\\gitlocal\\magnitogorsk_real_estate\\.venv\\lib\\site-packages (from -r requirements.txt (line 5)) (5.15.0)\n",
      "Requirement already satisfied: bs4 in e:\\gitlocal\\magnitogorsk_real_estate\\.venv\\lib\\site-packages (from -r requirements.txt (line 6)) (0.0.1)\n",
      "Requirement already satisfied: requests==2.31.0 in e:\\gitlocal\\magnitogorsk_real_estate\\.venv\\lib\\site-packages (from -r requirements.txt (line 7)) (2.31.0)\n",
      "Requirement already satisfied: lxml==4.9.2 in e:\\gitlocal\\magnitogorsk_real_estate\\.venv\\lib\\site-packages (from -r requirements.txt (line 8)) (4.9.2)\n",
      "Requirement already satisfied: openpyxl==3.1.2 in e:\\gitlocal\\magnitogorsk_real_estate\\.venv\\lib\\site-packages (from -r requirements.txt (line 10)) (3.1.2)\n",
      "Requirement already satisfied: nbformat>=4.2.0 in e:\\gitlocal\\magnitogorsk_real_estate\\.venv\\lib\\site-packages (from -r requirements.txt (line 11)) (5.9.2)\n",
      "Requirement already satisfied: selenium in e:\\gitlocal\\magnitogorsk_real_estate\\.venv\\lib\\site-packages (from -r requirements.txt (line 13)) (4.11.2)\n",
      "Requirement already satisfied: scikit-learn in e:\\gitlocal\\magnitogorsk_real_estate\\.venv\\lib\\site-packages (from -r requirements.txt (line 14)) (1.3.0)\n",
      "Requirement already satisfied: wordcloud==1.9.2 in e:\\gitlocal\\magnitogorsk_real_estate\\.venv\\lib\\site-packages (from -r requirements.txt (line 16)) (1.9.2)\n",
      "Requirement already satisfied: scipy>=1.0 in e:\\gitlocal\\magnitogorsk_real_estate\\.venv\\lib\\site-packages (from seaborn==0.11.1->-r requirements.txt (line 4)) (1.11.2)\n",
      "Requirement already satisfied: tenacity>=6.2.0 in e:\\gitlocal\\magnitogorsk_real_estate\\.venv\\lib\\site-packages (from plotly==5.15.0->-r requirements.txt (line 5)) (8.2.3)\n",
      "Requirement already satisfied: packaging in e:\\gitlocal\\magnitogorsk_real_estate\\.venv\\lib\\site-packages (from plotly==5.15.0->-r requirements.txt (line 5)) (23.1)\n",
      "Requirement already satisfied: charset-normalizer<4,>=2 in e:\\gitlocal\\magnitogorsk_real_estate\\.venv\\lib\\site-packages (from requests==2.31.0->-r requirements.txt (line 7)) (3.2.0)\n",
      "Requirement already satisfied: idna<4,>=2.5 in e:\\gitlocal\\magnitogorsk_real_estate\\.venv\\lib\\site-packages (from requests==2.31.0->-r requirements.txt (line 7)) (3.4)\n",
      "Requirement already satisfied: urllib3<3,>=1.21.1 in e:\\gitlocal\\magnitogorsk_real_estate\\.venv\\lib\\site-packages (from requests==2.31.0->-r requirements.txt (line 7)) (2.0.4)\n",
      "Requirement already satisfied: certifi>=2017.4.17 in e:\\gitlocal\\magnitogorsk_real_estate\\.venv\\lib\\site-packages (from requests==2.31.0->-r requirements.txt (line 7)) (2023.7.22)\n",
      "Requirement already satisfied: et-xmlfile in e:\\gitlocal\\magnitogorsk_real_estate\\.venv\\lib\\site-packages (from openpyxl==3.1.2->-r requirements.txt (line 10)) (1.1.0)\n",
      "Requirement already satisfied: pillow in e:\\gitlocal\\magnitogorsk_real_estate\\.venv\\lib\\site-packages (from wordcloud==1.9.2->-r requirements.txt (line 16)) (10.0.0)\n",
      "Requirement already satisfied: python-dateutil>=2.8.2 in e:\\gitlocal\\magnitogorsk_real_estate\\.venv\\lib\\site-packages (from pandas->-r requirements.txt (line 1)) (2.8.2)\n",
      "Requirement already satisfied: pytz>=2020.1 in e:\\gitlocal\\magnitogorsk_real_estate\\.venv\\lib\\site-packages (from pandas->-r requirements.txt (line 1)) (2023.3)\n",
      "Requirement already satisfied: tzdata>=2022.1 in e:\\gitlocal\\magnitogorsk_real_estate\\.venv\\lib\\site-packages (from pandas->-r requirements.txt (line 1)) (2023.3)\n",
      "Requirement already satisfied: contourpy>=1.0.1 in e:\\gitlocal\\magnitogorsk_real_estate\\.venv\\lib\\site-packages (from matplotlib->-r requirements.txt (line 3)) (1.1.0)\n",
      "Requirement already satisfied: cycler>=0.10 in e:\\gitlocal\\magnitogorsk_real_estate\\.venv\\lib\\site-packages (from matplotlib->-r requirements.txt (line 3)) (0.11.0)\n",
      "Requirement already satisfied: fonttools>=4.22.0 in e:\\gitlocal\\magnitogorsk_real_estate\\.venv\\lib\\site-packages (from matplotlib->-r requirements.txt (line 3)) (4.42.1)\n",
      "Requirement already satisfied: kiwisolver>=1.0.1 in e:\\gitlocal\\magnitogorsk_real_estate\\.venv\\lib\\site-packages (from matplotlib->-r requirements.txt (line 3)) (1.4.4)\n",
      "Requirement already satisfied: pyparsing<3.1,>=2.3.1 in e:\\gitlocal\\magnitogorsk_real_estate\\.venv\\lib\\site-packages (from matplotlib->-r requirements.txt (line 3)) (3.0.9)\n",
      "Requirement already satisfied: beautifulsoup4 in e:\\gitlocal\\magnitogorsk_real_estate\\.venv\\lib\\site-packages (from bs4->-r requirements.txt (line 6)) (4.12.2)\n",
      "Requirement already satisfied: fastjsonschema in e:\\gitlocal\\magnitogorsk_real_estate\\.venv\\lib\\site-packages (from nbformat>=4.2.0->-r requirements.txt (line 11)) (2.18.0)\n",
      "Requirement already satisfied: jsonschema>=2.6 in e:\\gitlocal\\magnitogorsk_real_estate\\.venv\\lib\\site-packages (from nbformat>=4.2.0->-r requirements.txt (line 11)) (4.19.0)\n",
      "Requirement already satisfied: jupyter-core in e:\\gitlocal\\magnitogorsk_real_estate\\.venv\\lib\\site-packages (from nbformat>=4.2.0->-r requirements.txt (line 11)) (5.3.1)\n",
      "Requirement already satisfied: traitlets>=5.1 in e:\\gitlocal\\magnitogorsk_real_estate\\.venv\\lib\\site-packages (from nbformat>=4.2.0->-r requirements.txt (line 11)) (5.9.0)\n",
      "Requirement already satisfied: trio~=0.17 in e:\\gitlocal\\magnitogorsk_real_estate\\.venv\\lib\\site-packages (from selenium->-r requirements.txt (line 13)) (0.22.2)\n",
      "Requirement already satisfied: trio-websocket~=0.9 in e:\\gitlocal\\magnitogorsk_real_estate\\.venv\\lib\\site-packages (from selenium->-r requirements.txt (line 13)) (0.10.3)\n",
      "Requirement already satisfied: joblib>=1.1.1 in e:\\gitlocal\\magnitogorsk_real_estate\\.venv\\lib\\site-packages (from scikit-learn->-r requirements.txt (line 14)) (1.3.2)\n",
      "Requirement already satisfied: threadpoolctl>=2.0.0 in e:\\gitlocal\\magnitogorsk_real_estate\\.venv\\lib\\site-packages (from scikit-learn->-r requirements.txt (line 14)) (3.2.0)\n",
      "Requirement already satisfied: attrs>=22.2.0 in e:\\gitlocal\\magnitogorsk_real_estate\\.venv\\lib\\site-packages (from jsonschema>=2.6->nbformat>=4.2.0->-r requirements.txt (line 11)) (23.1.0)\n",
      "Requirement already satisfied: jsonschema-specifications>=2023.03.6 in e:\\gitlocal\\magnitogorsk_real_estate\\.venv\\lib\\site-packages (from jsonschema>=2.6->nbformat>=4.2.0->-r requirements.txt (line 11)) (2023.7.1)\n",
      "Requirement already satisfied: referencing>=0.28.4 in e:\\gitlocal\\magnitogorsk_real_estate\\.venv\\lib\\site-packages (from jsonschema>=2.6->nbformat>=4.2.0->-r requirements.txt (line 11)) (0.30.2)\n",
      "Requirement already satisfied: rpds-py>=0.7.1 in e:\\gitlocal\\magnitogorsk_real_estate\\.venv\\lib\\site-packages (from jsonschema>=2.6->nbformat>=4.2.0->-r requirements.txt (line 11)) (0.9.2)\n",
      "Requirement already satisfied: six>=1.5 in e:\\gitlocal\\magnitogorsk_real_estate\\.venv\\lib\\site-packages (from python-dateutil>=2.8.2->pandas->-r requirements.txt (line 1)) (1.16.0)\n",
      "Requirement already satisfied: sortedcontainers in e:\\gitlocal\\magnitogorsk_real_estate\\.venv\\lib\\site-packages (from trio~=0.17->selenium->-r requirements.txt (line 13)) (2.4.0)\n",
      "Requirement already satisfied: outcome in e:\\gitlocal\\magnitogorsk_real_estate\\.venv\\lib\\site-packages (from trio~=0.17->selenium->-r requirements.txt (line 13)) (1.2.0)\n",
      "Requirement already satisfied: sniffio in e:\\gitlocal\\magnitogorsk_real_estate\\.venv\\lib\\site-packages (from trio~=0.17->selenium->-r requirements.txt (line 13)) (1.3.0)\n",
      "Requirement already satisfied: cffi>=1.14 in e:\\gitlocal\\magnitogorsk_real_estate\\.venv\\lib\\site-packages (from trio~=0.17->selenium->-r requirements.txt (line 13)) (1.15.1)\n",
      "Requirement already satisfied: exceptiongroup>=1.0.0rc9 in e:\\gitlocal\\magnitogorsk_real_estate\\.venv\\lib\\site-packages (from trio~=0.17->selenium->-r requirements.txt (line 13)) (1.1.3)\n",
      "Requirement already satisfied: wsproto>=0.14 in e:\\gitlocal\\magnitogorsk_real_estate\\.venv\\lib\\site-packages (from trio-websocket~=0.9->selenium->-r requirements.txt (line 13)) (1.2.0)\n",
      "Requirement already satisfied: pysocks!=1.5.7,<2.0,>=1.5.6 in e:\\gitlocal\\magnitogorsk_real_estate\\.venv\\lib\\site-packages (from urllib3<3,>=1.21.1->requests==2.31.0->-r requirements.txt (line 7)) (1.7.1)\n",
      "Requirement already satisfied: soupsieve>1.2 in e:\\gitlocal\\magnitogorsk_real_estate\\.venv\\lib\\site-packages (from beautifulsoup4->bs4->-r requirements.txt (line 6)) (2.4.1)\n",
      "Requirement already satisfied: platformdirs>=2.5 in e:\\gitlocal\\magnitogorsk_real_estate\\.venv\\lib\\site-packages (from jupyter-core->nbformat>=4.2.0->-r requirements.txt (line 11)) (3.10.0)\n",
      "Requirement already satisfied: pywin32>=300 in e:\\gitlocal\\magnitogorsk_real_estate\\.venv\\lib\\site-packages (from jupyter-core->nbformat>=4.2.0->-r requirements.txt (line 11)) (306)\n",
      "Requirement already satisfied: pycparser in e:\\gitlocal\\magnitogorsk_real_estate\\.venv\\lib\\site-packages (from cffi>=1.14->trio~=0.17->selenium->-r requirements.txt (line 13)) (2.21)\n",
      "Requirement already satisfied: h11<1,>=0.9.0 in e:\\gitlocal\\magnitogorsk_real_estate\\.venv\\lib\\site-packages (from wsproto>=0.14->trio-websocket~=0.9->selenium->-r requirements.txt (line 13)) (0.14.0)\n",
      "Note: you may need to restart the kernel to use updated packages.\n"
     ]
    }
   ],
   "source": [
    "%pip install -r requirements.txt"
   ]
  },
  {
   "cell_type": "code",
   "execution_count": 2,
   "metadata": {},
   "outputs": [],
   "source": [
    "import time\n",
    "import re\n",
    "import random\n",
    "import json\n",
    "\n",
    "import requests\n",
    "from bs4 import BeautifulSoup\n",
    "import base64\n",
    "import lxml\n",
    "\n",
    "from selenium import webdriver\n",
    "from selenium.webdriver.common.by import By\n",
    "from selenium.webdriver.chrome.options import Options\n",
    "from selenium.webdriver.common.desired_capabilities import DesiredCapabilities\n",
    "from selenium.webdriver.support.ui import WebDriverWait\n",
    "from selenium.webdriver.support import expected_conditions as EC\n",
    "from selenium.common.exceptions import TimeoutException\n",
    "\n",
    "import pandas as pd"
   ]
  },
  {
   "cell_type": "code",
   "execution_count": 3,
   "metadata": {},
   "outputs": [],
   "source": [
    "pd.set_option('max_colwidth', 300)\n",
    "pd.set_option('display.width', 480)"
   ]
  },
  {
   "cell_type": "code",
   "execution_count": 5,
   "metadata": {},
   "outputs": [
    {
     "name": "stdout",
     "output_type": "stream",
     "text": [
      "Обрабатывается страница 1\n",
      "Обрабатывается страница 2\n",
      "Обрабатывается страница 3\n",
      "Обрабатывается страница 4\n",
      "Обрабатывается страница 5\n"
     ]
    }
   ],
   "source": [
    "for i in range(5):\n",
    "    print(f'Обрабатывается страница {i+1}')\n",
    "    url = \"http://citystar.ru/detal.htm?d=43&nm=%CE%E1%FA%FF%E2%EB%E5%ED%E8%FF+%2D+%CF%F0%EE%E4%E0%EC+%EA%E2%E0%F0%F2%E8%F0%F3+%E2+%E3%2E+%CC%E0%E3%ED%E8%F2%EE%E3%EE%F0%F1%EA%E5&pN=\" + str(i+1)\n",
    "    response = requests.get(url)\n",
    "    html_content = response.content\n",
    "    # взяли страницу\n",
    "    soup = BeautifulSoup(html_content, \"html.parser\")\n",
    "\n",
    "    # нашли таблицу\n",
    "    table = soup.find(\"table\", class_=\"tbrd\") \n",
    "\n",
    "\n",
    "    # переберем и извлечем данные\n",
    "    data = []\n",
    "    for row in table.find_all('tr'):\n",
    "        columns = row.find_all('td')\n",
    "        if len(columns) > 0:\n",
    "            photo_url = None\n",
    "            other_data = [column.text.strip() for column in columns[1:]]\n",
    "            data.append([photo_url] + other_data)\n",
    "\n",
    "    df1 = pd.DataFrame(data[3:], columns=columns_name)\n",
    "    df = pd.concat([df,df1],ignore_index=True)"
   ]
  },
  {
   "cell_type": "code",
   "execution_count": 6,
   "metadata": {},
   "outputs": [],
   "source": [
    "df = df.drop_duplicates().reset_index(drop=True)"
   ]
  },
  {
   "cell_type": "code",
   "execution_count": 7,
   "metadata": {},
   "outputs": [
    {
     "data": {
      "text/html": [
       "<div>\n",
       "<style scoped>\n",
       "    .dataframe tbody tr th:only-of-type {\n",
       "        vertical-align: middle;\n",
       "    }\n",
       "\n",
       "    .dataframe tbody tr th {\n",
       "        vertical-align: top;\n",
       "    }\n",
       "\n",
       "    .dataframe thead th {\n",
       "        text-align: right;\n",
       "    }\n",
       "</style>\n",
       "<table border=\"1\" class=\"dataframe\">\n",
       "  <thead>\n",
       "    <tr style=\"text-align: right;\">\n",
       "      <th></th>\n",
       "      <th>photo</th>\n",
       "      <th>date_time</th>\n",
       "      <th>apartment</th>\n",
       "      <th>district</th>\n",
       "      <th>address</th>\n",
       "      <th>floor_maxfloors</th>\n",
       "      <th>total_area</th>\n",
       "      <th>living_area</th>\n",
       "      <th>kitchen_area</th>\n",
       "      <th>note</th>\n",
       "      <th>price</th>\n",
       "      <th>phone_name</th>\n",
       "      <th>agency</th>\n",
       "      <th>email</th>\n",
       "    </tr>\n",
       "  </thead>\n",
       "  <tbody>\n",
       "    <tr>\n",
       "      <th>0</th>\n",
       "      <td>None</td>\n",
       "      <td>25.0808:04</td>\n",
       "      <td>Двухкомнатная</td>\n",
       "      <td></td>\n",
       "      <td>Галиуллина 11/2</td>\n",
       "      <td>5/5</td>\n",
       "      <td>44.00</td>\n",
       "      <td>27.00</td>\n",
       "      <td>6.00</td>\n",
       "      <td>id:26090. \\r\\nВ продаже солнечная 2х комнатная квартира, расположенная на пятом этаже. Планировка квартиры «брежневка-вагон», на две стороны. Состояние квартиры простое. Окна, трубы пластиковые, хорошая входная железная дверь. Балкон застеклен металлическим остеклением.  Квартира освобождена от ...</td>\n",
       "      <td>2900</td>\n",
       "      <td>79068994706 ... Эльвира Ишпахтина</td>\n",
       "      <td>Рио-Люкс</td>\n",
       "      <td>elvira_mag@inbox.ru</td>\n",
       "    </tr>\n",
       "    <tr>\n",
       "      <th>1</th>\n",
       "      <td>None</td>\n",
       "      <td>25.0808:04</td>\n",
       "      <td>Однокомнатная</td>\n",
       "      <td></td>\n",
       "      <td>Центральная 9</td>\n",
       "      <td>1/1</td>\n",
       "      <td>32.00</td>\n",
       "      <td>17.00</td>\n",
       "      <td>7.00</td>\n",
       "      <td>id:14615. \\r\\nПродам квартиру  с приусадебным участком в д. Ташбулатово ( вблизи  озера Банное  ).\\r\\nОтопление газовое, вода- скважина. В квартире сделан косметический ремонт, установлены пластиковые окна, есть подпол .\\r\\nНа участке – отличная действующая баня, курятник, сарай.\\r\\nНапротив дом...</td>\n",
       "      <td>1600</td>\n",
       "      <td>79068517952 ... Евгения Гордейчук</td>\n",
       "      <td>Рио-Люкс</td>\n",
       "      <td>gordeychuk.riolux@gmail.com</td>\n",
       "    </tr>\n",
       "    <tr>\n",
       "      <th>2</th>\n",
       "      <td>None</td>\n",
       "      <td>None</td>\n",
       "      <td>None</td>\n",
       "      <td>None</td>\n",
       "      <td>None</td>\n",
       "      <td>None</td>\n",
       "      <td>None</td>\n",
       "      <td>None</td>\n",
       "      <td>None</td>\n",
       "      <td>None</td>\n",
       "      <td>None</td>\n",
       "      <td>None</td>\n",
       "      <td>None</td>\n",
       "      <td>None</td>\n",
       "    </tr>\n",
       "    <tr>\n",
       "      <th>3</th>\n",
       "      <td>None</td>\n",
       "      <td>25.0808:04</td>\n",
       "      <td>Многокомнатная</td>\n",
       "      <td></td>\n",
       "      <td>Горького 12</td>\n",
       "      <td>3/3</td>\n",
       "      <td>149.00</td>\n",
       "      <td>100.00</td>\n",
       "      <td>12.00</td>\n",
       "      <td>id:11109. \\r\\nЭКСКЛЮЗИВНЫЙ ВАРИАНТ !\\r\\n “ Золотой квадрат “ – самое престижное месторасположение в Ленинском районе. \\r\\nВ продаже  шикарная 5-ти комнатная квартира, полностью подготовленная к Вашему проживанию.\\r\\nКухня-гостиная, кабинет, 3 спальни, 2 санузла, 3 балкона с потрясающим видом.\\r\\...</td>\n",
       "      <td>12750</td>\n",
       "      <td>79068517952 ... Евгения Гордейчук</td>\n",
       "      <td>Рио-Люкс</td>\n",
       "      <td>gordeychuk.riolux@gmail.com</td>\n",
       "    </tr>\n",
       "    <tr>\n",
       "      <th>4</th>\n",
       "      <td>None</td>\n",
       "      <td>25.0808:04</td>\n",
       "      <td>Двухкомнатная</td>\n",
       "      <td></td>\n",
       "      <td>Советская 155/1</td>\n",
       "      <td>5/5</td>\n",
       "      <td>44.00</td>\n",
       "      <td>29.00</td>\n",
       "      <td>6.00</td>\n",
       "      <td>id:5056. \\r\\n!!! Продам 2-комнатную квартиру в хорошем состоянии.\\r\\nХарактеристики: планировка хрущёвка, этаж 5 из 5, площадь 44 м2, жилая 29 м2, кухня 6 м2, стены панельные, перекрытия железобетонные.\\r\\nПрекрасная квартира в отличном состоянии, светлая, тёплая, сторона запад. Окна в квартире ...</td>\n",
       "      <td>2930</td>\n",
       "      <td>79514596731 ... Данил Яхин</td>\n",
       "      <td>Рио-Люкс</td>\n",
       "      <td>yahin.riolux@mail.ru</td>\n",
       "    </tr>\n",
       "    <tr>\n",
       "      <th>...</th>\n",
       "      <td>...</td>\n",
       "      <td>...</td>\n",
       "      <td>...</td>\n",
       "      <td>...</td>\n",
       "      <td>...</td>\n",
       "      <td>...</td>\n",
       "      <td>...</td>\n",
       "      <td>...</td>\n",
       "      <td>...</td>\n",
       "      <td>...</td>\n",
       "      <td>...</td>\n",
       "      <td>...</td>\n",
       "      <td>...</td>\n",
       "      <td>...</td>\n",
       "    </tr>\n",
       "    <tr>\n",
       "      <th>466</th>\n",
       "      <td>None</td>\n",
       "      <td>20.0811:04</td>\n",
       "      <td>Трехкомнатная нестандартная</td>\n",
       "      <td>Ленинский</td>\n",
       "      <td>Николая Шишка 22</td>\n",
       "      <td>5/5</td>\n",
       "      <td>74.00</td>\n",
       "      <td>56.00</td>\n",
       "      <td>9.00</td>\n",
       "      <td>Объявление актуально. Продам трёх комнатную квартиру нестандартной планировки по улице Николая Шишка 22.Окна выходят на северо-запад.В квартире сделан дизайнерский ремонт. Окна, двери поменяны. На полу ламинат. Сан узел в кафеле. Балкон застеклен. Остается кухня. Развитая инфраструктура. Красивы...</td>\n",
       "      <td>5500</td>\n",
       "      <td>8-963-478-43-08 ... Ведякина Люцина</td>\n",
       "      <td>Формула недвижимости</td>\n",
       "      <td>8 982 105 20 21</td>\n",
       "    </tr>\n",
       "    <tr>\n",
       "      <th>467</th>\n",
       "      <td>None</td>\n",
       "      <td>12.0518:36</td>\n",
       "      <td>Двухкомнатная</td>\n",
       "      <td></td>\n",
       "      <td>Молодежная 19А</td>\n",
       "      <td>1/5</td>\n",
       "      <td>41.00</td>\n",
       "      <td>22.20</td>\n",
       "      <td>7.20</td>\n",
       "      <td>ПPОДАЁТCЯ 2 К.КВ., ПО АДРEСУ село Шухободь, ул. Молодежная, 19-А\\r\\n\\r\\n- НА 1 ЭТAЖE пятиэтажного дома\\r\\n\\r\\n- МETРАЖ: всей квapтиры 41,0 кв. м., жилая 22,2 (комната 12,4 кв. м. комнaтa 9,8 кв. м.) кухня 7,2 кв. м., балкон 3.5 кв. м.\\r\\n\\r\\n- СOСТОЯHИЕ: хорошее, заменены окнa, мeжкoмнaтные двер...</td>\n",
       "      <td>930</td>\n",
       "      <td>+79115050320 ... Григорий Голубев</td>\n",
       "      <td></td>\n",
       "      <td>600-320@mail.ru</td>\n",
       "    </tr>\n",
       "    <tr>\n",
       "      <th>468</th>\n",
       "      <td>None</td>\n",
       "      <td>01.0617:01</td>\n",
       "      <td>Двухкомнатная хрущевка</td>\n",
       "      <td>Правобережный</td>\n",
       "      <td>Им. газеты \"Правда\" 22</td>\n",
       "      <td>5/5</td>\n",
       "      <td>42.50</td>\n",
       "      <td>29.00</td>\n",
       "      <td>6.00</td>\n",
       "      <td>Продам 2х комнатную \"хрущевку\" в хорошем состоянии, комнаты и сан.узел смежные. Окна, трубы пластиковые, балкон застеклен. Остается кухонный гарнитур. в собственности более 5 лет, один взрослый собственник. Без обременений.</td>\n",
       "      <td>2650</td>\n",
       "      <td>89630958889 ... Макаров Юрий Александрович</td>\n",
       "      <td>\" СИГМА \"</td>\n",
       "      <td></td>\n",
       "    </tr>\n",
       "    <tr>\n",
       "      <th>469</th>\n",
       "      <td>None</td>\n",
       "      <td>08.0818:50</td>\n",
       "      <td>Двухкомнатная улучшенная</td>\n",
       "      <td>Орджоникидзевский</td>\n",
       "      <td>Сиреневый проезд 10</td>\n",
       "      <td>3/9</td>\n",
       "      <td>50.00</td>\n",
       "      <td>30.00</td>\n",
       "      <td>9.00</td>\n",
       "      <td>Продам двухкомнатную улучшенной планировки не торцевую. Очень удобное расположение дома, напротив дома два детских садика, через двор школа, в шаговой доступности сетевые магазины, детская поликлиника, остановки общественного транспорта (маршрутки и трамвай). Окна пластиковые выходят на южную ст...</td>\n",
       "      <td>3350</td>\n",
       "      <td>8-908-818-12-40, 49-17-15 ... Мещерякова Елена Сергеевна</td>\n",
       "      <td>Новые Технологии</td>\n",
       "      <td>nedv_elen@mail.ru</td>\n",
       "    </tr>\n",
       "    <tr>\n",
       "      <th>470</th>\n",
       "      <td>None</td>\n",
       "      <td>05.0612:04</td>\n",
       "      <td>Трехкомнатная улучшенная</td>\n",
       "      <td>Орджоникидзевский</td>\n",
       "      <td>Коробова 16</td>\n",
       "      <td>1/7</td>\n",
       "      <td>70.00</td>\n",
       "      <td>46.00</td>\n",
       "      <td>8.00</td>\n",
       "      <td>ПРОДАЕТСЯ просторная трёх комнатная квартира. В квартире три изолированные комнаты, два балкона (застеклены). Остаётся мебель (по договорённости). Площадь квартиры 71 кв.м, окна выходят на две стороны (восток-запад).Санузел раздельный ( теплые полы в санузлах).\\r\\nВокруг дома развита инфраструкт...</td>\n",
       "      <td>4600</td>\n",
       "      <td>+79128064213 ... Надежда</td>\n",
       "      <td></td>\n",
       "      <td></td>\n",
       "    </tr>\n",
       "  </tbody>\n",
       "</table>\n",
       "<p>471 rows × 14 columns</p>\n",
       "</div>"
      ],
      "text/plain": [
       "    photo   date_time                    apartment           district                 address floor_maxfloors total_area living_area kitchen_area                                                                                                                                                                                                                                                                                                         note  price  \\\n",
       "0    None  25.0808:04                Двухкомнатная                            Галиуллина 11/2             5/5      44.00       27.00         6.00  id:26090. \\r\\nВ продаже солнечная 2х комнатная квартира, расположенная на пятом этаже. Планировка квартиры «брежневка-вагон», на две стороны. Состояние квартиры простое. Окна, трубы пластиковые, хорошая входная железная дверь. Балкон застеклен металлическим остеклением.  Квартира освобождена от ...   2900   \n",
       "1    None  25.0808:04                Однокомнатная                              Центральная 9             1/1      32.00       17.00         7.00  id:14615. \\r\\nПродам квартиру  с приусадебным участком в д. Ташбулатово ( вблизи  озера Банное  ).\\r\\nОтопление газовое, вода- скважина. В квартире сделан косметический ремонт, установлены пластиковые окна, есть подпол .\\r\\nНа участке – отличная действующая баня, курятник, сарай.\\r\\nНапротив дом...   1600   \n",
       "2    None        None                         None               None                    None            None       None        None         None                                                                                                                                                                                                                                                                                                         None   None   \n",
       "3    None  25.0808:04               Многокомнатная                                Горького 12             3/3     149.00      100.00        12.00  id:11109. \\r\\nЭКСКЛЮЗИВНЫЙ ВАРИАНТ !\\r\\n “ Золотой квадрат “ – самое престижное месторасположение в Ленинском районе. \\r\\nВ продаже  шикарная 5-ти комнатная квартира, полностью подготовленная к Вашему проживанию.\\r\\nКухня-гостиная, кабинет, 3 спальни, 2 санузла, 3 балкона с потрясающим видом.\\r\\...  12750   \n",
       "4    None  25.0808:04                Двухкомнатная                            Советская 155/1             5/5      44.00       29.00         6.00  id:5056. \\r\\n!!! Продам 2-комнатную квартиру в хорошем состоянии.\\r\\nХарактеристики: планировка хрущёвка, этаж 5 из 5, площадь 44 м2, жилая 29 м2, кухня 6 м2, стены панельные, перекрытия железобетонные.\\r\\nПрекрасная квартира в отличном состоянии, светлая, тёплая, сторона запад. Окна в квартире ...   2930   \n",
       "..    ...         ...                          ...                ...                     ...             ...        ...         ...          ...                                                                                                                                                                                                                                                                                                          ...    ...   \n",
       "466  None  20.0811:04  Трехкомнатная нестандартная          Ленинский        Николая Шишка 22             5/5      74.00       56.00         9.00  Объявление актуально. Продам трёх комнатную квартиру нестандартной планировки по улице Николая Шишка 22.Окна выходят на северо-запад.В квартире сделан дизайнерский ремонт. Окна, двери поменяны. На полу ламинат. Сан узел в кафеле. Балкон застеклен. Остается кухня. Развитая инфраструктура. Красивы...   5500   \n",
       "467  None  12.0518:36                Двухкомнатная                             Молодежная 19А             1/5      41.00       22.20         7.20  ПPОДАЁТCЯ 2 К.КВ., ПО АДРEСУ село Шухободь, ул. Молодежная, 19-А\\r\\n\\r\\n- НА 1 ЭТAЖE пятиэтажного дома\\r\\n\\r\\n- МETРАЖ: всей квapтиры 41,0 кв. м., жилая 22,2 (комната 12,4 кв. м. комнaтa 9,8 кв. м.) кухня 7,2 кв. м., балкон 3.5 кв. м.\\r\\n\\r\\n- СOСТОЯHИЕ: хорошее, заменены окнa, мeжкoмнaтные двер...    930   \n",
       "468  None  01.0617:01       Двухкомнатная хрущевка      Правобережный  Им. газеты \"Правда\" 22             5/5      42.50       29.00         6.00                                                                              Продам 2х комнатную \"хрущевку\" в хорошем состоянии, комнаты и сан.узел смежные. Окна, трубы пластиковые, балкон застеклен. Остается кухонный гарнитур. в собственности более 5 лет, один взрослый собственник. Без обременений.   2650   \n",
       "469  None  08.0818:50     Двухкомнатная улучшенная  Орджоникидзевский     Сиреневый проезд 10             3/9      50.00       30.00         9.00  Продам двухкомнатную улучшенной планировки не торцевую. Очень удобное расположение дома, напротив дома два детских садика, через двор школа, в шаговой доступности сетевые магазины, детская поликлиника, остановки общественного транспорта (маршрутки и трамвай). Окна пластиковые выходят на южную ст...   3350   \n",
       "470  None  05.0612:04     Трехкомнатная улучшенная  Орджоникидзевский             Коробова 16             1/7      70.00       46.00         8.00  ПРОДАЕТСЯ просторная трёх комнатная квартира. В квартире три изолированные комнаты, два балкона (застеклены). Остаётся мебель (по договорённости). Площадь квартиры 71 кв.м, окна выходят на две стороны (восток-запад).Санузел раздельный ( теплые полы в санузлах).\\r\\nВокруг дома развита инфраструкт...   4600   \n",
       "\n",
       "                                                   phone_name                agency                        email  \n",
       "0                           79068994706 ... Эльвира Ишпахтина              Рио-Люкс          elvira_mag@inbox.ru  \n",
       "1                           79068517952 ... Евгения Гордейчук              Рио-Люкс  gordeychuk.riolux@gmail.com  \n",
       "2                                                        None                  None                         None  \n",
       "3                           79068517952 ... Евгения Гордейчук              Рио-Люкс  gordeychuk.riolux@gmail.com  \n",
       "4                                  79514596731 ... Данил Яхин              Рио-Люкс         yahin.riolux@mail.ru  \n",
       "..                                                        ...                   ...                          ...  \n",
       "466                       8-963-478-43-08 ... Ведякина Люцина  Формула недвижимости              8 982 105 20 21  \n",
       "467                         +79115050320 ... Григорий Голубев                                    600-320@mail.ru  \n",
       "468                89630958889 ... Макаров Юрий Александрович             \" СИГМА \"                               \n",
       "469  8-908-818-12-40, 49-17-15 ... Мещерякова Елена Сергеевна      Новые Технологии            nedv_elen@mail.ru  \n",
       "470                                  +79128064213 ... Надежда                                                     \n",
       "\n",
       "[471 rows x 14 columns]"
      ]
     },
     "execution_count": 7,
     "metadata": {},
     "output_type": "execute_result"
    }
   ],
   "source": [
    "df"
   ]
  },
  {
   "cell_type": "code",
   "execution_count": 9,
   "metadata": {},
   "outputs": [],
   "source": []
  },
  {
   "cell_type": "markdown",
   "metadata": {},
   "source": [
    "# II-part"
   ]
  },
  {
   "cell_type": "code",
   "execution_count": 19,
   "metadata": {},
   "outputs": [
    {
     "name": "stdout",
     "output_type": "stream",
     "text": [
      "Working with 1 page\n",
      "Page #1 sucsefully added\n",
      "Working with 2 page\n",
      "Page #2 sucsefully added\n",
      "Working with 3 page\n",
      "Page #3 sucsefully added\n",
      "Working with 4 page\n",
      "Page #4 sucsefully added\n",
      "Working with 5 page\n",
      "Page #5 sucsefully added\n"
     ]
    }
   ],
   "source": [
    "# Используем url c текстовой таблицей\n",
    "URL = \"http://citystar.ru/detal.htm?d=43&nm=%CE%E1%FA%FF%E2%EB%E5%ED%E8%FF+%2D+%CF%F0%EE%E4%E0%EC+%EA%E2%E0%F0%F2%E8%F0%F3+%E2+%E3%2E+%CC%E0%E3%ED%E8%F2%EE%E3%EE%F0%F1%EA%E5&v_id=1&pN=\"\n",
    "\n",
    "data = []\n",
    "for page in range(5):\n",
    "    print(f\"Working with {page+1} page\")\n",
    "    full_url = URL + str(page+1)\n",
    "    response = requests.get(full_url)\n",
    "    html_content = response.content\n",
    "    soup = BeautifulSoup(html_content, \"html.parser\")\n",
    "    table = soup.find(\"table\", class_=\"tbrd\")\n",
    "    rows = table.find_all(\"tr\")\n",
    "\n",
    "    # делим по разметке на тексты\n",
    "    delimiter = '</td></tr>\\n<tr class=\\\"tbb\\\">'\n",
    "    result = str(rows[0]).split(delimiter) \n",
    "\n",
    "    data.extend(result)\n",
    "    print(f\"Page #{page+1} sucsefully added\")\n"
   ]
  },
  {
   "cell_type": "code",
   "execution_count": 21,
   "metadata": {},
   "outputs": [
    {
     "data": {
      "text/plain": [
       "'\\n<td class=\"tcb\">25.08.2023.  Продам двухкомнатную квартиру. Орджоникидзевский район, ул. Ворошилова, дом 13/2, этаж 1/13. Общая площадь - 52.80 кв.м., жилая площадь - 0.00 кв.м., кухня - 9.00 кв.м.. , Продам уютную двухкомнатную квартиру с хорошим ремонтом в центре города!brbrРасположение дома, делает квартиру удобной для проживания. brРядом располагаются школа  38, 64, детские садики  25, 39,158, детская поликлиника, продуктовые магазины,br аптеки, что очень удобно для семей детьми. Дом окружен благоустроенными детскими площадками.brОстановка от дома  5-7 минут ходьбы.brКвартира без долгов и обременений, один взрослый собственник.brКачественный ремонт:brulliполы залиты, уложен ламинат;/liliстены выровнены, на стенах обои/liliзастеклённый балкон/li/ulОстаётся:brulliкухонный гарнитур/liliвся мебель в ванной/liliостальное по договорённости/li/ulbrЗвоните, организую показ квартиры, с уважением Олеся!brbrbrbr\\r\\nID объекта в нашей базе: 753. Цена - 3800 т.р.. Обращаться: тел. 79080430794, e-mail: Olesya.shemetova19@yandex.ru, Олеся Александровна, агентство \"Агентство Недвижимости Ключи\"'"
      ]
     },
     "execution_count": 21,
     "metadata": {},
     "output_type": "execute_result"
    }
   ],
   "source": [
    "data[7]"
   ]
  },
  {
   "cell_type": "markdown",
   "metadata": {},
   "source": [
    "Парсинг сырых данных окончен, сохраним "
   ]
  },
  {
   "cell_type": "code",
   "execution_count": 75,
   "metadata": {},
   "outputs": [],
   "source": [
    "data_clean = [t.split('\\\">')[1] for t in data] # if t.strip()\n",
    "data_clean = [t.split(\"</td>\")[0] for t in data_clean]\n",
    "data_clean = [t for t in data_clean if \"<\" not in t] # if t.strip()"
   ]
  },
  {
   "cell_type": "code",
   "execution_count": 77,
   "metadata": {},
   "outputs": [
    {
     "data": {
      "text/plain": [
       "['25.08.2023.  Продам двухкомнатную квартиру. Орджоникидзевский район, ул. Труда, дом 21, этаж 8/9, планировка улучшенная. Общая площадь - 50.00 кв.м., жилая площадь - 30.00 кв.м., кухня - 9.00 кв.м.. , Продается двухкомнатная квартира улучшенной планировки, состояние квартиры среднее, балкон застеклён. Окна на юг.. Цена - 3600 т.р.. Обращаться: тел. 8 951 235 77 55, e-mail: agshans@mail.ru, Климов  Евгений, агентство \"Шанс\"',\n",
       " '25.08.2023.  Продам двухкомнатную квартиру.  ул. Галиуллина, дом 11/2, этаж 5/5. Общая площадь - 44.00 кв.м., жилая площадь - 27.00 кв.м., кухня - 6.00 кв.м.. , id:26090. \\r\\nВ продаже солнечная 2х комнатная квартира, расположенная на пятом этаже. Планировка квартиры «брежневка-вагон», на две стороны. Состояние квартиры простое. Окна, трубы пластиковые, хорошая входная железная дверь. Балкон застеклен металлическим остеклением. \\xa0Квартира освобождена от личных вещей и подготовлена к ремонту.\\r\\nУдачное расположение дома, в квартале. В непосредственной близости школа 14, 5, детские сады:  1, 31, детская поликлиника 8. Вся инфраструктура находится рядом: различные магазины, аптеки, стоматологии, гипермаркеты, а так же остановки общественного транспорта в 5 минутах ходьбы. Чистый подъезд, спокойные соседи. Так же возле дома имеются парковочные места. Один взрослый собственник. Без долгов и обременений.\\r\\n\\xa0. Цена - 2900 т.р.. Обращаться: тел. 79068994706, e-mail: elvira_mag@inbox.ru, Эльвира Ишпахтина, агентство \"Рио-Люкс\"',\n",
       " '25.08.2023.  Продам однокомнатную квартиру.  ул. Центральная, дом 9, этаж 1/1. Общая площадь - 32.00 кв.м., жилая площадь - 17.00 кв.м., кухня - 7.00 кв.м.. , id:14615. \\r\\nПродам квартиру\\xa0 с приусадебным участком в д. Ташбулатово ( вблизи\\xa0 озера Банное\\xa0 ).\\r\\nОтопление газовое, вода- скважина. В квартире сделан косметический ремонт, установлены пластиковые окна, есть подпол .\\r\\nНа участке – отличная действующая баня, курятник, сарай.\\r\\nНапротив дома магазин Пятёрочка, детский сад, школа.\\r\\nЗвоните и приезжайте на просмотр !\\r\\n\\xa0. Цена - 1600 т.р.. Обращаться: тел. 79068517952, e-mail: gordeychuk.riolux@gmail.com, Евгения Гордейчук, агентство \"Рио-Люкс\"']"
      ]
     },
     "execution_count": 77,
     "metadata": {},
     "output_type": "execute_result"
    }
   ],
   "source": [
    "data_clean[:3]"
   ]
  },
  {
   "cell_type": "code",
   "execution_count": 90,
   "metadata": {},
   "outputs": [],
   "source": [
    "df = pd.DataFrame(data_clean, columns=['text'])\n",
    "df = df.drop_duplicates().reset_index(drop=True)"
   ]
  },
  {
   "cell_type": "code",
   "execution_count": 92,
   "metadata": {},
   "outputs": [
    {
     "name": "stdout",
     "output_type": "stream",
     "text": [
      "<class 'pandas.core.frame.DataFrame'>\n",
      "RangeIndex: 468 entries, 0 to 467\n",
      "Data columns (total 1 columns):\n",
      " #   Column  Non-Null Count  Dtype \n",
      "---  ------  --------------  ----- \n",
      " 0   text    468 non-null    object\n",
      "dtypes: object(1)\n",
      "memory usage: 3.8+ KB\n"
     ]
    }
   ],
   "source": [
    "df.info()"
   ]
  },
  {
   "cell_type": "code",
   "execution_count": null,
   "metadata": {},
   "outputs": [],
   "source": [
    "df.to_csv('df_2.csv')"
   ]
  }
 ],
 "metadata": {
  "kernelspec": {
   "display_name": ".venv",
   "language": "python",
   "name": "python3"
  },
  "language_info": {
   "codemirror_mode": {
    "name": "ipython",
    "version": 3
   },
   "file_extension": ".py",
   "mimetype": "text/x-python",
   "name": "python",
   "nbconvert_exporter": "python",
   "pygments_lexer": "ipython3",
   "version": "3.10.2"
  },
  "orig_nbformat": 4
 },
 "nbformat": 4,
 "nbformat_minor": 2
}
