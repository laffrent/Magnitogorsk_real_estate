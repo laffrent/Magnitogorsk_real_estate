{
 "cells": [
  {
   "cell_type": "markdown",
   "metadata": {},
   "source": [
    "# Парсинг данных"
   ]
  },
  {
   "cell_type": "code",
   "execution_count": 1,
   "metadata": {},
   "outputs": [
    {
     "name": "stdout",
     "output_type": "stream",
     "text": [
      "Requirement already satisfied: pandas in c:\\users\\user\\documents\\github\\magnitogorsk_real_estate\\.venv\\lib\\site-packages (from -r requirements.txt (line 1)) (2.0.3)\n",
      "Requirement already satisfied: numpy==1.24.3 in c:\\users\\user\\documents\\github\\magnitogorsk_real_estate\\.venv\\lib\\site-packages (from -r requirements.txt (line 2)) (1.24.3)\n",
      "Requirement already satisfied: matplotlib in c:\\users\\user\\documents\\github\\magnitogorsk_real_estate\\.venv\\lib\\site-packages (from -r requirements.txt (line 3)) (3.7.2)\n",
      "Requirement already satisfied: seaborn==0.11.1 in c:\\users\\user\\documents\\github\\magnitogorsk_real_estate\\.venv\\lib\\site-packages (from -r requirements.txt (line 4)) (0.11.1)\n",
      "Requirement already satisfied: plotly==5.15.0 in c:\\users\\user\\documents\\github\\magnitogorsk_real_estate\\.venv\\lib\\site-packages (from -r requirements.txt (line 5)) (5.15.0)\n",
      "Requirement already satisfied: bs4 in c:\\users\\user\\documents\\github\\magnitogorsk_real_estate\\.venv\\lib\\site-packages (from -r requirements.txt (line 6)) (0.0.1)\n",
      "Requirement already satisfied: requests==2.31.0 in c:\\users\\user\\documents\\github\\magnitogorsk_real_estate\\.venv\\lib\\site-packages (from -r requirements.txt (line 7)) (2.31.0)\n",
      "Requirement already satisfied: lxml==4.9.2 in c:\\users\\user\\documents\\github\\magnitogorsk_real_estate\\.venv\\lib\\site-packages (from -r requirements.txt (line 8)) (4.9.2)\n",
      "Requirement already satisfied: openpyxl==3.1.2 in c:\\users\\user\\documents\\github\\magnitogorsk_real_estate\\.venv\\lib\\site-packages (from -r requirements.txt (line 10)) (3.1.2)\n",
      "Requirement already satisfied: nbformat>=4.2.0 in c:\\users\\user\\documents\\github\\magnitogorsk_real_estate\\.venv\\lib\\site-packages (from -r requirements.txt (line 11)) (5.9.2)\n",
      "Requirement already satisfied: selenium in c:\\users\\user\\documents\\github\\magnitogorsk_real_estate\\.venv\\lib\\site-packages (from -r requirements.txt (line 13)) (4.11.2)\n",
      "Requirement already satisfied: scikit-learn in c:\\users\\user\\documents\\github\\magnitogorsk_real_estate\\.venv\\lib\\site-packages (from -r requirements.txt (line 14)) (1.3.0)\n",
      "Requirement already satisfied: wordcloud==1.9.2 in c:\\users\\user\\documents\\github\\magnitogorsk_real_estate\\.venv\\lib\\site-packages (from -r requirements.txt (line 16)) (1.9.2)\n",
      "Requirement already satisfied: scipy>=1.0 in c:\\users\\user\\documents\\github\\magnitogorsk_real_estate\\.venv\\lib\\site-packages (from seaborn==0.11.1->-r requirements.txt (line 4)) (1.11.2)\n",
      "Requirement already satisfied: tenacity>=6.2.0 in c:\\users\\user\\documents\\github\\magnitogorsk_real_estate\\.venv\\lib\\site-packages (from plotly==5.15.0->-r requirements.txt (line 5)) (8.2.3)\n",
      "Requirement already satisfied: packaging in c:\\users\\user\\documents\\github\\magnitogorsk_real_estate\\.venv\\lib\\site-packages (from plotly==5.15.0->-r requirements.txt (line 5)) (23.1)\n",
      "Requirement already satisfied: charset-normalizer<4,>=2 in c:\\users\\user\\documents\\github\\magnitogorsk_real_estate\\.venv\\lib\\site-packages (from requests==2.31.0->-r requirements.txt (line 7)) (3.2.0)\n",
      "Requirement already satisfied: idna<4,>=2.5 in c:\\users\\user\\documents\\github\\magnitogorsk_real_estate\\.venv\\lib\\site-packages (from requests==2.31.0->-r requirements.txt (line 7)) (3.4)\n",
      "Requirement already satisfied: urllib3<3,>=1.21.1 in c:\\users\\user\\documents\\github\\magnitogorsk_real_estate\\.venv\\lib\\site-packages (from requests==2.31.0->-r requirements.txt (line 7)) (2.0.4)\n",
      "Requirement already satisfied: certifi>=2017.4.17 in c:\\users\\user\\documents\\github\\magnitogorsk_real_estate\\.venv\\lib\\site-packages (from requests==2.31.0->-r requirements.txt (line 7)) (2023.7.22)\n",
      "Requirement already satisfied: et-xmlfile in c:\\users\\user\\documents\\github\\magnitogorsk_real_estate\\.venv\\lib\\site-packages (from openpyxl==3.1.2->-r requirements.txt (line 10)) (1.1.0)\n",
      "Requirement already satisfied: pillow in c:\\users\\user\\documents\\github\\magnitogorsk_real_estate\\.venv\\lib\\site-packages (from wordcloud==1.9.2->-r requirements.txt (line 16)) (10.0.0)\n",
      "Requirement already satisfied: python-dateutil>=2.8.2 in c:\\users\\user\\documents\\github\\magnitogorsk_real_estate\\.venv\\lib\\site-packages (from pandas->-r requirements.txt (line 1)) (2.8.2)\n",
      "Requirement already satisfied: pytz>=2020.1 in c:\\users\\user\\documents\\github\\magnitogorsk_real_estate\\.venv\\lib\\site-packages (from pandas->-r requirements.txt (line 1)) (2023.3)\n",
      "Requirement already satisfied: tzdata>=2022.1 in c:\\users\\user\\documents\\github\\magnitogorsk_real_estate\\.venv\\lib\\site-packages (from pandas->-r requirements.txt (line 1)) (2023.3)\n",
      "Requirement already satisfied: contourpy>=1.0.1 in c:\\users\\user\\documents\\github\\magnitogorsk_real_estate\\.venv\\lib\\site-packages (from matplotlib->-r requirements.txt (line 3)) (1.1.0)\n",
      "Requirement already satisfied: cycler>=0.10 in c:\\users\\user\\documents\\github\\magnitogorsk_real_estate\\.venv\\lib\\site-packages (from matplotlib->-r requirements.txt (line 3)) (0.11.0)\n",
      "Requirement already satisfied: fonttools>=4.22.0 in c:\\users\\user\\documents\\github\\magnitogorsk_real_estate\\.venv\\lib\\site-packages (from matplotlib->-r requirements.txt (line 3)) (4.42.1)\n",
      "Requirement already satisfied: kiwisolver>=1.0.1 in c:\\users\\user\\documents\\github\\magnitogorsk_real_estate\\.venv\\lib\\site-packages (from matplotlib->-r requirements.txt (line 3)) (1.4.4)\n",
      "Requirement already satisfied: pyparsing<3.1,>=2.3.1 in c:\\users\\user\\documents\\github\\magnitogorsk_real_estate\\.venv\\lib\\site-packages (from matplotlib->-r requirements.txt (line 3)) (3.0.9)\n",
      "Requirement already satisfied: beautifulsoup4 in c:\\users\\user\\documents\\github\\magnitogorsk_real_estate\\.venv\\lib\\site-packages (from bs4->-r requirements.txt (line 6)) (4.12.2)\n",
      "Requirement already satisfied: fastjsonschema in c:\\users\\user\\documents\\github\\magnitogorsk_real_estate\\.venv\\lib\\site-packages (from nbformat>=4.2.0->-r requirements.txt (line 11)) (2.18.0)\n",
      "Requirement already satisfied: jsonschema>=2.6 in c:\\users\\user\\documents\\github\\magnitogorsk_real_estate\\.venv\\lib\\site-packages (from nbformat>=4.2.0->-r requirements.txt (line 11)) (4.19.0)\n",
      "Requirement already satisfied: jupyter-core in c:\\users\\user\\documents\\github\\magnitogorsk_real_estate\\.venv\\lib\\site-packages (from nbformat>=4.2.0->-r requirements.txt (line 11)) (5.3.1)\n",
      "Requirement already satisfied: traitlets>=5.1 in c:\\users\\user\\documents\\github\\magnitogorsk_real_estate\\.venv\\lib\\site-packages (from nbformat>=4.2.0->-r requirements.txt (line 11)) (5.9.0)\n",
      "Requirement already satisfied: trio~=0.17 in c:\\users\\user\\documents\\github\\magnitogorsk_real_estate\\.venv\\lib\\site-packages (from selenium->-r requirements.txt (line 13)) (0.22.2)\n",
      "Requirement already satisfied: trio-websocket~=0.9 in c:\\users\\user\\documents\\github\\magnitogorsk_real_estate\\.venv\\lib\\site-packages (from selenium->-r requirements.txt (line 13)) (0.10.3)\n",
      "Requirement already satisfied: joblib>=1.1.1 in c:\\users\\user\\documents\\github\\magnitogorsk_real_estate\\.venv\\lib\\site-packages (from scikit-learn->-r requirements.txt (line 14)) (1.3.2)\n",
      "Requirement already satisfied: threadpoolctl>=2.0.0 in c:\\users\\user\\documents\\github\\magnitogorsk_real_estate\\.venv\\lib\\site-packages (from scikit-learn->-r requirements.txt (line 14)) (3.2.0)\n",
      "Requirement already satisfied: attrs>=22.2.0 in c:\\users\\user\\documents\\github\\magnitogorsk_real_estate\\.venv\\lib\\site-packages (from jsonschema>=2.6->nbformat>=4.2.0->-r requirements.txt (line 11)) (23.1.0)\n",
      "Requirement already satisfied: jsonschema-specifications>=2023.03.6 in c:\\users\\user\\documents\\github\\magnitogorsk_real_estate\\.venv\\lib\\site-packages (from jsonschema>=2.6->nbformat>=4.2.0->-r requirements.txt (line 11)) (2023.7.1)\n",
      "Requirement already satisfied: referencing>=0.28.4 in c:\\users\\user\\documents\\github\\magnitogorsk_real_estate\\.venv\\lib\\site-packages (from jsonschema>=2.6->nbformat>=4.2.0->-r requirements.txt (line 11)) (0.30.2)\n",
      "Requirement already satisfied: rpds-py>=0.7.1 in c:\\users\\user\\documents\\github\\magnitogorsk_real_estate\\.venv\\lib\\site-packages (from jsonschema>=2.6->nbformat>=4.2.0->-r requirements.txt (line 11)) (0.9.2)\n",
      "Requirement already satisfied: six>=1.5 in c:\\users\\user\\documents\\github\\magnitogorsk_real_estate\\.venv\\lib\\site-packages (from python-dateutil>=2.8.2->pandas->-r requirements.txt (line 1)) (1.16.0)\n",
      "Requirement already satisfied: sortedcontainers in c:\\users\\user\\documents\\github\\magnitogorsk_real_estate\\.venv\\lib\\site-packages (from trio~=0.17->selenium->-r requirements.txt (line 13)) (2.4.0)\n",
      "Requirement already satisfied: outcome in c:\\users\\user\\documents\\github\\magnitogorsk_real_estate\\.venv\\lib\\site-packages (from trio~=0.17->selenium->-r requirements.txt (line 13)) (1.2.0)\n",
      "Requirement already satisfied: sniffio in c:\\users\\user\\documents\\github\\magnitogorsk_real_estate\\.venv\\lib\\site-packages (from trio~=0.17->selenium->-r requirements.txt (line 13)) (1.3.0)\n",
      "Requirement already satisfied: cffi>=1.14 in c:\\users\\user\\documents\\github\\magnitogorsk_real_estate\\.venv\\lib\\site-packages (from trio~=0.17->selenium->-r requirements.txt (line 13)) (1.15.1)\n",
      "Requirement already satisfied: exceptiongroup>=1.0.0rc9 in c:\\users\\user\\documents\\github\\magnitogorsk_real_estate\\.venv\\lib\\site-packages (from trio~=0.17->selenium->-r requirements.txt (line 13)) (1.1.3)\n",
      "Requirement already satisfied: wsproto>=0.14 in c:\\users\\user\\documents\\github\\magnitogorsk_real_estate\\.venv\\lib\\site-packages (from trio-websocket~=0.9->selenium->-r requirements.txt (line 13)) (1.2.0)\n",
      "Requirement already satisfied: pysocks!=1.5.7,<2.0,>=1.5.6 in c:\\users\\user\\documents\\github\\magnitogorsk_real_estate\\.venv\\lib\\site-packages (from urllib3<3,>=1.21.1->requests==2.31.0->-r requirements.txt (line 7)) (1.7.1)\n",
      "Requirement already satisfied: soupsieve>1.2 in c:\\users\\user\\documents\\github\\magnitogorsk_real_estate\\.venv\\lib\\site-packages (from beautifulsoup4->bs4->-r requirements.txt (line 6)) (2.4.1)\n",
      "Requirement already satisfied: platformdirs>=2.5 in c:\\users\\user\\documents\\github\\magnitogorsk_real_estate\\.venv\\lib\\site-packages (from jupyter-core->nbformat>=4.2.0->-r requirements.txt (line 11)) (3.10.0)\n",
      "Requirement already satisfied: pywin32>=300 in c:\\users\\user\\documents\\github\\magnitogorsk_real_estate\\.venv\\lib\\site-packages (from jupyter-core->nbformat>=4.2.0->-r requirements.txt (line 11)) (306)\n",
      "Requirement already satisfied: pycparser in c:\\users\\user\\documents\\github\\magnitogorsk_real_estate\\.venv\\lib\\site-packages (from cffi>=1.14->trio~=0.17->selenium->-r requirements.txt (line 13)) (2.21)\n",
      "Requirement already satisfied: h11<1,>=0.9.0 in c:\\users\\user\\documents\\github\\magnitogorsk_real_estate\\.venv\\lib\\site-packages (from wsproto>=0.14->trio-websocket~=0.9->selenium->-r requirements.txt (line 13)) (0.14.0)\n",
      "Note: you may need to restart the kernel to use updated packages.\n"
     ]
    }
   ],
   "source": [
    "%pip install -r requirements.txt"
   ]
  },
  {
   "cell_type": "code",
   "execution_count": 2,
   "metadata": {},
   "outputs": [],
   "source": [
    "import time\n",
    "import re\n",
    "import random\n",
    "import json\n",
    "\n",
    "import requests\n",
    "from bs4 import BeautifulSoup\n",
    "import base64\n",
    "import lxml\n",
    "\n",
    "from selenium import webdriver\n",
    "from selenium.webdriver.common.by import By\n",
    "from selenium.webdriver.chrome.options import Options\n",
    "from selenium.webdriver.common.desired_capabilities import DesiredCapabilities\n",
    "from selenium.webdriver.support.ui import WebDriverWait\n",
    "from selenium.webdriver.support import expected_conditions as EC\n",
    "from selenium.common.exceptions import TimeoutException\n",
    "\n",
    "import pandas as pd"
   ]
  },
  {
   "cell_type": "code",
   "execution_count": 3,
   "metadata": {},
   "outputs": [],
   "source": [
    "pd.set_option('max_colwidth', 300)\n",
    "pd.set_option('display.width', 480)"
   ]
  },
  {
   "cell_type": "code",
   "execution_count": 7,
   "metadata": {},
   "outputs": [],
   "source": [
    "columns_name=[\n",
    "    'photo', 'date_time', 'apartment', \n",
    "    'district', 'address', 'floor_maxfloors', \n",
    "    'total_area', 'living_area', 'kitchen_area', \n",
    "    'note', 'price', 'phone_name', \n",
    "    'agency', 'email'\n",
    "    ]\n",
    "\n",
    "df = pd.DataFrame(columns=columns_name)"
   ]
  },
  {
   "cell_type": "code",
   "execution_count": 8,
   "metadata": {},
   "outputs": [
    {
     "name": "stdout",
     "output_type": "stream",
     "text": [
      "Обрабатывается страница 1\n",
      "Обрабатывается страница 2\n",
      "Обрабатывается страница 3\n",
      "Обрабатывается страница 4\n",
      "Обрабатывается страница 5\n"
     ]
    }
   ],
   "source": [
    "for i in range(5):\n",
    "    print(f'Обрабатывается страница {i+1}')\n",
    "    url = \"http://citystar.ru/detal.htm?d=43&nm=%CE%E1%FA%FF%E2%EB%E5%ED%E8%FF+%2D+%CF%F0%EE%E4%E0%EC+%EA%E2%E0%F0%F2%E8%F0%F3+%E2+%E3%2E+%CC%E0%E3%ED%E8%F2%EE%E3%EE%F0%F1%EA%E5&pN=\" + str(i+1)\n",
    "    response = requests.get(url)\n",
    "    html_content = response.content\n",
    "    # взяли страницу\n",
    "    soup = BeautifulSoup(html_content, \"html.parser\")\n",
    "\n",
    "    # нашли таблицу\n",
    "    table = soup.find(\"table\", class_=\"tbrd\") \n",
    "\n",
    "\n",
    "    # переберем и извлечем данные\n",
    "    data = []\n",
    "    for row in table.find_all('tr'):\n",
    "        columns = row.find_all('td')\n",
    "        if len(columns) > 0:\n",
    "            photo_url = None\n",
    "            other_data = [column.text.strip() for column in columns[1:]]\n",
    "            data.append([photo_url] + other_data)\n",
    "\n",
    "    df1 = pd.DataFrame(data[3:], columns=columns_name)\n",
    "    df = pd.concat([df,df1],ignore_index=True)"
   ]
  },
  {
   "cell_type": "code",
   "execution_count": 18,
   "metadata": {},
   "outputs": [
    {
     "ename": "AttributeError",
     "evalue": "'NoneType' object has no attribute 'drop_duplicates'",
     "output_type": "error",
     "traceback": [
      "\u001b[1;31m---------------------------------------------------------------------------\u001b[0m",
      "\u001b[1;31mAttributeError\u001b[0m                            Traceback (most recent call last)",
      "Cell \u001b[1;32mIn[18], line 1\u001b[0m\n\u001b[1;32m----> 1\u001b[0m df \u001b[39m=\u001b[39m df\u001b[39m.\u001b[39;49mdrop_duplicates()\u001b[39m.\u001b[39mreset_index(inplace\u001b[39m=\u001b[39m\u001b[39mTrue\u001b[39;00m)\n",
      "\u001b[1;31mAttributeError\u001b[0m: 'NoneType' object has no attribute 'drop_duplicates'"
     ]
    }
   ],
   "source": [
    "df = df.drop_duplicates().reset_index(drop=True)"
   ]
  },
  {
   "cell_type": "code",
   "execution_count": 17,
   "metadata": {},
   "outputs": [],
   "source": [
    "df"
   ]
  },
  {
   "cell_type": "code",
   "execution_count": 63,
   "metadata": {},
   "outputs": [],
   "source": [
    "df.to_csv('df.csv')"
   ]
  },
  {
   "cell_type": "code",
   "execution_count": null,
   "metadata": {},
   "outputs": [],
   "source": []
  },
  {
   "cell_type": "code",
   "execution_count": null,
   "metadata": {},
   "outputs": [],
   "source": []
  },
  {
   "cell_type": "code",
   "execution_count": null,
   "metadata": {},
   "outputs": [],
   "source": []
  },
  {
   "cell_type": "code",
   "execution_count": null,
   "metadata": {},
   "outputs": [],
   "source": []
  }
 ],
 "metadata": {
  "kernelspec": {
   "display_name": ".venv",
   "language": "python",
   "name": "python3"
  },
  "language_info": {
   "codemirror_mode": {
    "name": "ipython",
    "version": 3
   },
   "file_extension": ".py",
   "mimetype": "text/x-python",
   "name": "python",
   "nbconvert_exporter": "python",
   "pygments_lexer": "ipython3",
   "version": "3.10.4"
  },
  "orig_nbformat": 4
 },
 "nbformat": 4,
 "nbformat_minor": 2
}
