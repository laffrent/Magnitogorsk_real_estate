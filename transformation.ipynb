{
 "cells": [
  {
   "cell_type": "code",
   "execution_count": 1,
   "metadata": {},
   "outputs": [],
   "source": [
    "import time\n",
    "import random\n",
    "import tqdm\n",
    "\n",
    "\n",
    "import pandas as pd\n",
    "from geopy.geocoders import Nominatim\n",
    "from geopy.distance import geodesic\n",
    "from geopy import distance\n",
    "from geopy.extra.rate_limiter import RateLimiter\n",
    "\n",
    "pd.set_option('max_colwidth', 600)\n",
    "pd.set_option('display.width', 600)"
   ]
  },
  {
   "cell_type": "code",
   "execution_count": 2,
   "metadata": {},
   "outputs": [],
   "source": [
    "df = pd.read_csv('df_2.csv', index_col=0)"
   ]
  },
  {
   "cell_type": "code",
   "execution_count": 3,
   "metadata": {},
   "outputs": [],
   "source": [
    "df['date'] = df['text'].apply(lambda x: x.split('.  Продам')[0])\n",
    "df['note_len'] = df['text'].apply(lambda x: len(x))\n",
    "df = df.loc[df['note_len'] > 3]\n",
    "\n",
    "df['date'] = pd.to_datetime(df['date'], format=\"%d.%m.%Y\")\n",
    "\n",
    "df['day'] = df['date'].dt.day\n",
    "df['month'] = df['date'].dt.month\n",
    "df['year'] = df['date'].dt.year\n",
    "df['dayofweek'] = df['date'].dt.dayofweek #Monday=0, Sunday=6"
   ]
  },
  {
   "cell_type": "code",
   "execution_count": 4,
   "metadata": {},
   "outputs": [],
   "source": [
    "df['rooms'] = df['text'].apply(lambda x: x.split(\"Продам \")[1].split('квартиру')[0])"
   ]
  },
  {
   "cell_type": "code",
   "execution_count": 5,
   "metadata": {},
   "outputs": [],
   "source": [
    "def district_sort(text):\n",
    "    text = text.lower()\n",
    "    if 'орджоникидз' in text:\n",
    "        if 'левый берег' in text or 'левом' in text:\n",
    "            return 'Орджоникидзевский(левый берег)'\n",
    "        else:\n",
    "            return 'Орджоникидзевский'\n",
    "    elif 'правобереж' in text:\n",
    "        return 'Правобережный'\n",
    "    elif 'ленинск' in text:\n",
    "        if 'левый берег' in text or 'левом' in text:\n",
    "            return 'Ленинский(левый берег)'\n",
    "        else:\n",
    "            return 'Ленинский'"
   ]
  },
  {
   "cell_type": "code",
   "execution_count": 6,
   "metadata": {},
   "outputs": [],
   "source": [
    "df['district'] = df['text'].apply(district_sort)\n",
    "df['text'] = df['text'].map(lambda x: x.replace('ул. ул. ', 'ул. '))\n",
    "df['street'] = df['text'].apply(lambda x: x.split(\"ул.\")[1].split(', этаж')[0] if \"ул.\" in x else 'unknown')\n",
    "df['street'] = df['street'].map(lambda x: x.replace('ул ', ''))\n",
    "\n",
    "df['street'] = df['street'].apply(lambda x: x.lstrip(\". \").rstrip(\", \")).map(lambda x: x.replace('дом ', ''))"
   ]
  },
  {
   "cell_type": "code",
   "execution_count": 7,
   "metadata": {},
   "outputs": [],
   "source": [
    "df[['floor', 'total_floors']] = df['text'].apply(\n",
    "    lambda x: x.split(\"этаж\")[1].split(',')[0].split('.')[0] if \"этаж\" in x else 'unknown').str.split('/', expand=True)"
   ]
  },
  {
   "cell_type": "code",
   "execution_count": 8,
   "metadata": {},
   "outputs": [],
   "source": [
    "df['total_area'] = df['text'].apply(lambda x: x.split(\"Общая площадь - \")[1].split(' кв.м.')[0] if \"Общая площадь\" in x else 'unknown')\n",
    "df['living_area'] = df['text'].apply(lambda x: x.split(\"жилая площадь - \")[1].split(' кв.м.')[0] if \"жилая площадь - \" in x else 'unknown')\n",
    "df['kitchen_area'] = df['text'].apply(lambda x: x.split(\"кухня - \")[1].split(' кв.м.')[0] if \"кухня - \" in x else 'unknown')\n",
    "\n",
    "df['price'] = df['text'].apply(lambda x: x.split(\"Цена - \")[1].split(' т.р.')[0] if \"Цена - \" in x else None)"
   ]
  },
  {
   "cell_type": "code",
   "execution_count": 9,
   "metadata": {},
   "outputs": [],
   "source": [
    "df['street'] = 'Магнитогорск, ' + df['street']"
   ]
  },
  {
   "cell_type": "code",
   "execution_count": 10,
   "metadata": {},
   "outputs": [
    {
     "name": "stderr",
     "output_type": "stream",
     "text": [
      " 99%|█████████▊| 461/467 [15:22<00:11,  1.99s/it]RateLimiter caught an error, retrying (0/2 tries). Called with (*('Магнитогорск, Западное шоссе, 95',), **{}).\n",
      "Traceback (most recent call last):\n",
      "  File \"e:\\GITlocal\\Magnitogorsk_real_estate\\.venv\\lib\\site-packages\\urllib3\\connectionpool.py\", line 536, in _make_request\n",
      "    response = conn.getresponse()\n",
      "  File \"e:\\GITlocal\\Magnitogorsk_real_estate\\.venv\\lib\\site-packages\\urllib3\\connection.py\", line 461, in getresponse\n",
      "    httplib_response = super().getresponse()\n",
      "  File \"C:\\Users\\s7\\AppData\\Local\\Programs\\Python\\Python310\\lib\\http\\client.py\", line 1374, in getresponse\n",
      "    response.begin()\n",
      "  File \"C:\\Users\\s7\\AppData\\Local\\Programs\\Python\\Python310\\lib\\http\\client.py\", line 318, in begin\n",
      "    version, status, reason = self._read_status()\n",
      "  File \"C:\\Users\\s7\\AppData\\Local\\Programs\\Python\\Python310\\lib\\http\\client.py\", line 279, in _read_status\n",
      "    line = str(self.fp.readline(_MAXLINE + 1), \"iso-8859-1\")\n",
      "  File \"C:\\Users\\s7\\AppData\\Local\\Programs\\Python\\Python310\\lib\\socket.py\", line 705, in readinto\n",
      "    return self._sock.recv_into(b)\n",
      "  File \"C:\\Users\\s7\\AppData\\Local\\Programs\\Python\\Python310\\lib\\ssl.py\", line 1273, in recv_into\n",
      "    return self.read(nbytes, buffer)\n",
      "  File \"C:\\Users\\s7\\AppData\\Local\\Programs\\Python\\Python310\\lib\\ssl.py\", line 1129, in read\n",
      "    return self._sslobj.read(len, buffer)\n",
      "TimeoutError: The read operation timed out\n",
      "\n",
      "The above exception was the direct cause of the following exception:\n",
      "\n",
      "Traceback (most recent call last):\n",
      "  File \"e:\\GITlocal\\Magnitogorsk_real_estate\\.venv\\lib\\site-packages\\urllib3\\connectionpool.py\", line 790, in urlopen\n",
      "    response = self._make_request(\n",
      "  File \"e:\\GITlocal\\Magnitogorsk_real_estate\\.venv\\lib\\site-packages\\urllib3\\connectionpool.py\", line 538, in _make_request\n",
      "    self._raise_timeout(err=e, url=url, timeout_value=read_timeout)\n",
      "  File \"e:\\GITlocal\\Magnitogorsk_real_estate\\.venv\\lib\\site-packages\\urllib3\\connectionpool.py\", line 370, in _raise_timeout\n",
      "    raise ReadTimeoutError(\n",
      "urllib3.exceptions.ReadTimeoutError: HTTPSConnectionPool(host='nominatim.openstreetmap.org', port=443): Read timed out. (read timeout=1)\n",
      "\n",
      "The above exception was the direct cause of the following exception:\n",
      "\n",
      "Traceback (most recent call last):\n",
      "  File \"e:\\GITlocal\\Magnitogorsk_real_estate\\.venv\\lib\\site-packages\\requests\\adapters.py\", line 486, in send\n",
      "    resp = conn.urlopen(\n",
      "  File \"e:\\GITlocal\\Magnitogorsk_real_estate\\.venv\\lib\\site-packages\\urllib3\\connectionpool.py\", line 874, in urlopen\n",
      "    return self.urlopen(\n",
      "  File \"e:\\GITlocal\\Magnitogorsk_real_estate\\.venv\\lib\\site-packages\\urllib3\\connectionpool.py\", line 874, in urlopen\n",
      "    return self.urlopen(\n",
      "  File \"e:\\GITlocal\\Magnitogorsk_real_estate\\.venv\\lib\\site-packages\\urllib3\\connectionpool.py\", line 844, in urlopen\n",
      "    retries = retries.increment(\n",
      "  File \"e:\\GITlocal\\Magnitogorsk_real_estate\\.venv\\lib\\site-packages\\urllib3\\util\\retry.py\", line 515, in increment\n",
      "    raise MaxRetryError(_pool, url, reason) from reason  # type: ignore[arg-type]\n",
      "urllib3.exceptions.MaxRetryError: HTTPSConnectionPool(host='nominatim.openstreetmap.org', port=443): Max retries exceeded with url: /search?q=%D0%9C%D0%B0%D0%B3%D0%BD%D0%B8%D1%82%D0%BE%D0%B3%D0%BE%D1%80%D1%81%D0%BA%2C+%D0%97%D0%B0%D0%BF%D0%B0%D0%B4%D0%BD%D0%BE%D0%B5+%D1%88%D0%BE%D1%81%D1%81%D0%B5%2C+95&format=json&limit=1 (Caused by ReadTimeoutError(\"HTTPSConnectionPool(host='nominatim.openstreetmap.org', port=443): Read timed out. (read timeout=1)\"))\n",
      "\n",
      "During handling of the above exception, another exception occurred:\n",
      "\n",
      "Traceback (most recent call last):\n",
      "  File \"e:\\GITlocal\\Magnitogorsk_real_estate\\.venv\\lib\\site-packages\\geopy\\adapters.py\", line 457, in _request\n",
      "    resp = self.session.get(url, timeout=timeout, headers=headers)\n",
      "  File \"e:\\GITlocal\\Magnitogorsk_real_estate\\.venv\\lib\\site-packages\\requests\\sessions.py\", line 602, in get\n",
      "    return self.request(\"GET\", url, **kwargs)\n",
      "  File \"e:\\GITlocal\\Magnitogorsk_real_estate\\.venv\\lib\\site-packages\\requests\\sessions.py\", line 589, in request\n",
      "    resp = self.send(prep, **send_kwargs)\n",
      "  File \"e:\\GITlocal\\Magnitogorsk_real_estate\\.venv\\lib\\site-packages\\requests\\sessions.py\", line 703, in send\n",
      "    r = adapter.send(request, **kwargs)\n",
      "  File \"e:\\GITlocal\\Magnitogorsk_real_estate\\.venv\\lib\\site-packages\\requests\\adapters.py\", line 519, in send\n",
      "    raise ConnectionError(e, request=request)\n",
      "requests.exceptions.ConnectionError: HTTPSConnectionPool(host='nominatim.openstreetmap.org', port=443): Max retries exceeded with url: /search?q=%D0%9C%D0%B0%D0%B3%D0%BD%D0%B8%D1%82%D0%BE%D0%B3%D0%BE%D1%80%D1%81%D0%BA%2C+%D0%97%D0%B0%D0%BF%D0%B0%D0%B4%D0%BD%D0%BE%D0%B5+%D1%88%D0%BE%D1%81%D1%81%D0%B5%2C+95&format=json&limit=1 (Caused by ReadTimeoutError(\"HTTPSConnectionPool(host='nominatim.openstreetmap.org', port=443): Read timed out. (read timeout=1)\"))\n",
      "\n",
      "During handling of the above exception, another exception occurred:\n",
      "\n",
      "Traceback (most recent call last):\n",
      "  File \"e:\\GITlocal\\Magnitogorsk_real_estate\\.venv\\lib\\site-packages\\geopy\\extra\\rate_limiter.py\", line 136, in _retries_gen\n",
      "    yield i  # Run the function.\n",
      "  File \"e:\\GITlocal\\Magnitogorsk_real_estate\\.venv\\lib\\site-packages\\geopy\\extra\\rate_limiter.py\", line 274, in __call__\n",
      "    res = self.func(*args, **kwargs)\n",
      "  File \"e:\\GITlocal\\Magnitogorsk_real_estate\\.venv\\lib\\site-packages\\geopy\\geocoders\\nominatim.py\", line 297, in geocode\n",
      "    return self._call_geocoder(url, callback, timeout=timeout)\n",
      "  File \"e:\\GITlocal\\Magnitogorsk_real_estate\\.venv\\lib\\site-packages\\geopy\\geocoders\\base.py\", line 368, in _call_geocoder\n",
      "    result = self.adapter.get_json(url, timeout=timeout, headers=req_headers)\n",
      "  File \"e:\\GITlocal\\Magnitogorsk_real_estate\\.venv\\lib\\site-packages\\geopy\\adapters.py\", line 447, in get_json\n",
      "    resp = self._request(url, timeout=timeout, headers=headers)\n",
      "  File \"e:\\GITlocal\\Magnitogorsk_real_estate\\.venv\\lib\\site-packages\\geopy\\adapters.py\", line 469, in _request\n",
      "    raise GeocoderUnavailable(message)\n",
      "geopy.exc.GeocoderUnavailable: HTTPSConnectionPool(host='nominatim.openstreetmap.org', port=443): Max retries exceeded with url: /search?q=%D0%9C%D0%B0%D0%B3%D0%BD%D0%B8%D1%82%D0%BE%D0%B3%D0%BE%D1%80%D1%81%D0%BA%2C+%D0%97%D0%B0%D0%BF%D0%B0%D0%B4%D0%BD%D0%BE%D0%B5+%D1%88%D0%BE%D1%81%D1%81%D0%B5%2C+95&format=json&limit=1 (Caused by ReadTimeoutError(\"HTTPSConnectionPool(host='nominatim.openstreetmap.org', port=443): Read timed out. (read timeout=1)\"))\n",
      "100%|██████████| 467/467 [15:44<00:00,  2.02s/it]\n"
     ]
    }
   ],
   "source": [
    "from tqdm import tqdm\n",
    "tqdm.pandas()\n",
    "\n",
    "geolocator = Nominatim(user_agent=\"my-app\")\n",
    "geocode = RateLimiter(geolocator.geocode, min_delay_seconds=2)\n",
    "\n",
    "df['location'] = df['street'].progress_apply(geocode)"
   ]
  },
  {
   "cell_type": "code",
   "execution_count": 11,
   "metadata": {},
   "outputs": [],
   "source": [
    "df['lat_long'] = df['location'].dropna().apply(lambda x: x[1])"
   ]
  },
  {
   "cell_type": "code",
   "execution_count": 12,
   "metadata": {},
   "outputs": [],
   "source": [
    "df.loc[df['district'].isna(), 'district'] = df['location'].dropna().apply(lambda x: x[0].split('район')[0].split(', ')[-1] if 'район' in str(x) else 'unknown')\n",
    "parks_and_center = {'park_eko':(53.402233, 58.952641),\n",
    "'attraction':(53.381266, 58.953624),\n",
    "'south':(53.351887, 58.990688),\n",
    "'eternal_fire':(53.405914, 58.991158),\n",
    "'veter':(53.429143, 59.000213),\n",
    "'city_center':(53.407164, 58.980285)}\n",
    "\n",
    "# Итерирование по ключам словаря parks\n",
    "for key in parks_and_center:\n",
    "    # Создание нового столбца с именем ключа и заполнение его значениями\n",
    "    df[key] = [(parks_and_center[key])]* len(df['lat_long'])\n",
    "    df[key] = df[[key, 'lat_long']].dropna().apply(lambda row: round(distance.distance(row[key], row[\"lat_long\"]).km, 2), axis=1)\n",
    "df.info()\n",
    "df['rooms'].value_counts()\n",
    "df['rooms'][0]\n",
    "def rooms_num(rooms):\n",
    "    rooms = rooms.rstrip()\n",
    "    answ = -1\n",
    "    if rooms == 'однокомнатную':\n",
    "        answ = 1\n",
    "    if rooms == 'двухкомнатную':\n",
    "        answ = 2\n",
    "    if rooms == 'трехкомнатную':\n",
    "        answ = 3\n",
    "    if rooms == 'четырехкомнатную':\n",
    "        answ = 4\n",
    "    if rooms == 'многокомнатную':\n",
    "        answ = 5\n",
    "    return answ\n",
    "df['rooms'] = df['rooms'].apply(rooms_num)\n",
    "df['rooms']\n",
    "df['district'].value_counts()\n",
    "df.sample(2)\n",
    "\n",
    "df.info()\n",
    "df[['floor', 'total_floors', 'total_area', 'living_area', 'kitchen_area', 'price']] = \\\n",
    "df[['floor', 'total_floors', 'total_area', 'living_area', 'kitchen_area', 'price']].apply(pd.to_numeric, errors='coerce').dropna()\n",
    "df['district'] = df['district'].dropna().apply(lambda x: x.lstrip().rstrip())\n",
    "df = df.drop(['text',  'note_len', 'location'], axis=1)\n",
    "df['price'] = df['price'].dropna()\n",
    "df = df.dropna(subset=['price'])\n",
    "df.select_dtypes('number').corr()\n",
    "df['price_sq_meter'] = df['price'] / df['total_area']\n",
    "df['floor_type'] = 'middle'\n",
    "df.loc[df.floor == 1, 'floor_type'] = 'first'\n",
    "df.loc[(df.floor == df.total_floors) & (df.floor != 1), 'floor_type'] = 'last'\n",
    "df.to_csv('df_3.csv') #ready for analysis"
   ]
  }
 ],
 "metadata": {
  "kernelspec": {
   "display_name": ".venv",
   "language": "python",
   "name": "python3"
  },
  "language_info": {
   "codemirror_mode": {
    "name": "ipython",
    "version": 3
   },
   "file_extension": ".py",
   "mimetype": "text/x-python",
   "name": "python",
   "nbconvert_exporter": "python",
   "pygments_lexer": "ipython3",
   "version": "3.10.2"
  },
  "orig_nbformat": 4
 },
 "nbformat": 4,
 "nbformat_minor": 2
}
