{
 "cells": [
  {
   "cell_type": "code",
   "execution_count": 1,
   "metadata": {},
   "outputs": [
    {
     "name": "stdout",
     "output_type": "stream",
     "text": [
      "Requirement already satisfied: pandas in c:\\users\\user\\documents\\github\\magnitogorsk_real_estate\\.venv\\lib\\site-packages (from -r requirements.txt (line 1)) (2.0.3)Note: you may need to restart the kernel to use updated packages.\n",
      "\n",
      "Requirement already satisfied: numpy==1.24.3 in c:\\users\\user\\documents\\github\\magnitogorsk_real_estate\\.venv\\lib\\site-packages (from -r requirements.txt (line 2)) (1.24.3)\n",
      "Requirement already satisfied: matplotlib in c:\\users\\user\\documents\\github\\magnitogorsk_real_estate\\.venv\\lib\\site-packages (from -r requirements.txt (line 3)) (3.7.2)\n",
      "Requirement already satisfied: seaborn==0.11.1 in c:\\users\\user\\documents\\github\\magnitogorsk_real_estate\\.venv\\lib\\site-packages (from -r requirements.txt (line 4)) (0.11.1)\n",
      "Requirement already satisfied: plotly==5.15.0 in c:\\users\\user\\documents\\github\\magnitogorsk_real_estate\\.venv\\lib\\site-packages (from -r requirements.txt (line 5)) (5.15.0)\n",
      "Requirement already satisfied: bs4 in c:\\users\\user\\documents\\github\\magnitogorsk_real_estate\\.venv\\lib\\site-packages (from -r requirements.txt (line 6)) (0.0.1)\n",
      "Requirement already satisfied: requests==2.31.0 in c:\\users\\user\\documents\\github\\magnitogorsk_real_estate\\.venv\\lib\\site-packages (from -r requirements.txt (line 7)) (2.31.0)\n",
      "Requirement already satisfied: lxml==4.9.2 in c:\\users\\user\\documents\\github\\magnitogorsk_real_estate\\.venv\\lib\\site-packages (from -r requirements.txt (line 8)) (4.9.2)\n",
      "Requirement already satisfied: openpyxl==3.1.2 in c:\\users\\user\\documents\\github\\magnitogorsk_real_estate\\.venv\\lib\\site-packages (from -r requirements.txt (line 10)) (3.1.2)\n",
      "Requirement already satisfied: nbformat>=4.2.0 in c:\\users\\user\\documents\\github\\magnitogorsk_real_estate\\.venv\\lib\\site-packages (from -r requirements.txt (line 11)) (5.9.2)\n",
      "Requirement already satisfied: tqdm==4.66.1 in c:\\users\\user\\documents\\github\\magnitogorsk_real_estate\\.venv\\lib\\site-packages (from -r requirements.txt (line 12)) (4.66.1)\n",
      "Requirement already satisfied: selenium in c:\\users\\user\\documents\\github\\magnitogorsk_real_estate\\.venv\\lib\\site-packages (from -r requirements.txt (line 13)) (4.11.2)\n",
      "Requirement already satisfied: scikit-learn in c:\\users\\user\\documents\\github\\magnitogorsk_real_estate\\.venv\\lib\\site-packages (from -r requirements.txt (line 14)) (1.2.2)\n",
      "Requirement already satisfied: geopy==2.3.0 in c:\\users\\user\\documents\\github\\magnitogorsk_real_estate\\.venv\\lib\\site-packages (from -r requirements.txt (line 15)) (2.3.0)\n",
      "Requirement already satisfied: wordcloud==1.9.2 in c:\\users\\user\\documents\\github\\magnitogorsk_real_estate\\.venv\\lib\\site-packages (from -r requirements.txt (line 16)) (1.9.2)\n",
      "Requirement already satisfied: phik==0.12.3 in c:\\users\\user\\documents\\github\\magnitogorsk_real_estate\\.venv\\lib\\site-packages (from -r requirements.txt (line 17)) (0.12.3)\n",
      "Requirement already satisfied: folium==0.14.0 in c:\\users\\user\\documents\\github\\magnitogorsk_real_estate\\.venv\\lib\\site-packages (from -r requirements.txt (line 18)) (0.14.0)\n",
      "Requirement already satisfied: catboost==1.2 in c:\\users\\user\\documents\\github\\magnitogorsk_real_estate\\.venv\\lib\\site-packages (from -r requirements.txt (line 20)) (1.2)\n",
      "Requirement already satisfied: scipy>=1.0 in c:\\users\\user\\documents\\github\\magnitogorsk_real_estate\\.venv\\lib\\site-packages (from seaborn==0.11.1->-r requirements.txt (line 4)) (1.11.2)\n",
      "Requirement already satisfied: tenacity>=6.2.0 in c:\\users\\user\\documents\\github\\magnitogorsk_real_estate\\.venv\\lib\\site-packages (from plotly==5.15.0->-r requirements.txt (line 5)) (8.2.3)\n",
      "Requirement already satisfied: packaging in c:\\users\\user\\documents\\github\\magnitogorsk_real_estate\\.venv\\lib\\site-packages (from plotly==5.15.0->-r requirements.txt (line 5)) (23.1)\n",
      "Requirement already satisfied: charset-normalizer<4,>=2 in c:\\users\\user\\documents\\github\\magnitogorsk_real_estate\\.venv\\lib\\site-packages (from requests==2.31.0->-r requirements.txt (line 7)) (3.2.0)\n",
      "Requirement already satisfied: idna<4,>=2.5 in c:\\users\\user\\documents\\github\\magnitogorsk_real_estate\\.venv\\lib\\site-packages (from requests==2.31.0->-r requirements.txt (line 7)) (3.4)\n",
      "Requirement already satisfied: urllib3<3,>=1.21.1 in c:\\users\\user\\documents\\github\\magnitogorsk_real_estate\\.venv\\lib\\site-packages (from requests==2.31.0->-r requirements.txt (line 7)) (2.0.4)\n",
      "Requirement already satisfied: certifi>=2017.4.17 in c:\\users\\user\\documents\\github\\magnitogorsk_real_estate\\.venv\\lib\\site-packages (from requests==2.31.0->-r requirements.txt (line 7)) (2023.7.22)\n",
      "Requirement already satisfied: et-xmlfile in c:\\users\\user\\documents\\github\\magnitogorsk_real_estate\\.venv\\lib\\site-packages (from openpyxl==3.1.2->-r requirements.txt (line 10)) (1.1.0)\n",
      "Requirement already satisfied: colorama in c:\\users\\user\\documents\\github\\magnitogorsk_real_estate\\.venv\\lib\\site-packages (from tqdm==4.66.1->-r requirements.txt (line 12)) (0.4.6)\n",
      "Requirement already satisfied: joblib>=1.1.1 in c:\\users\\user\\documents\\github\\magnitogorsk_real_estate\\.venv\\lib\\site-packages (from scikit-learn->-r requirements.txt (line 14)) (1.3.2)\n",
      "Requirement already satisfied: threadpoolctl>=2.0.0 in c:\\users\\user\\documents\\github\\magnitogorsk_real_estate\\.venv\\lib\\site-packages (from scikit-learn->-r requirements.txt (line 14)) (3.2.0)\n",
      "Requirement already satisfied: geographiclib<3,>=1.52 in c:\\users\\user\\documents\\github\\magnitogorsk_real_estate\\.venv\\lib\\site-packages (from geopy==2.3.0->-r requirements.txt (line 15)) (2.0)\n",
      "Requirement already satisfied: pillow in c:\\users\\user\\documents\\github\\magnitogorsk_real_estate\\.venv\\lib\\site-packages (from wordcloud==1.9.2->-r requirements.txt (line 16)) (10.0.0)\n",
      "Requirement already satisfied: branca>=0.6.0 in c:\\users\\user\\documents\\github\\magnitogorsk_real_estate\\.venv\\lib\\site-packages (from folium==0.14.0->-r requirements.txt (line 18)) (0.6.0)\n",
      "Requirement already satisfied: jinja2>=2.9 in c:\\users\\user\\documents\\github\\magnitogorsk_real_estate\\.venv\\lib\\site-packages (from folium==0.14.0->-r requirements.txt (line 18)) (3.1.2)\n",
      "Requirement already satisfied: graphviz in c:\\users\\user\\documents\\github\\magnitogorsk_real_estate\\.venv\\lib\\site-packages (from catboost==1.2->-r requirements.txt (line 20)) (0.20.1)\n",
      "Requirement already satisfied: six in c:\\users\\user\\documents\\github\\magnitogorsk_real_estate\\.venv\\lib\\site-packages (from catboost==1.2->-r requirements.txt (line 20)) (1.16.0)\n",
      "Requirement already satisfied: python-dateutil>=2.8.2 in c:\\users\\user\\documents\\github\\magnitogorsk_real_estate\\.venv\\lib\\site-packages (from pandas->-r requirements.txt (line 1)) (2.8.2)\n",
      "Requirement already satisfied: pytz>=2020.1 in c:\\users\\user\\documents\\github\\magnitogorsk_real_estate\\.venv\\lib\\site-packages (from pandas->-r requirements.txt (line 1)) (2023.3)\n",
      "Requirement already satisfied: tzdata>=2022.1 in c:\\users\\user\\documents\\github\\magnitogorsk_real_estate\\.venv\\lib\\site-packages (from pandas->-r requirements.txt (line 1)) (2023.3)\n",
      "Requirement already satisfied: contourpy>=1.0.1 in c:\\users\\user\\documents\\github\\magnitogorsk_real_estate\\.venv\\lib\\site-packages (from matplotlib->-r requirements.txt (line 3)) (1.1.0)\n",
      "Requirement already satisfied: cycler>=0.10 in c:\\users\\user\\documents\\github\\magnitogorsk_real_estate\\.venv\\lib\\site-packages (from matplotlib->-r requirements.txt (line 3)) (0.11.0)\n",
      "Requirement already satisfied: fonttools>=4.22.0 in c:\\users\\user\\documents\\github\\magnitogorsk_real_estate\\.venv\\lib\\site-packages (from matplotlib->-r requirements.txt (line 3)) (4.42.1)\n",
      "Requirement already satisfied: kiwisolver>=1.0.1 in c:\\users\\user\\documents\\github\\magnitogorsk_real_estate\\.venv\\lib\\site-packages (from matplotlib->-r requirements.txt (line 3)) (1.4.4)\n",
      "Requirement already satisfied: pyparsing<3.1,>=2.3.1 in c:\\users\\user\\documents\\github\\magnitogorsk_real_estate\\.venv\\lib\\site-packages (from matplotlib->-r requirements.txt (line 3)) (3.0.9)\n",
      "Requirement already satisfied: beautifulsoup4 in c:\\users\\user\\documents\\github\\magnitogorsk_real_estate\\.venv\\lib\\site-packages (from bs4->-r requirements.txt (line 6)) (4.12.2)\n",
      "Requirement already satisfied: fastjsonschema in c:\\users\\user\\documents\\github\\magnitogorsk_real_estate\\.venv\\lib\\site-packages (from nbformat>=4.2.0->-r requirements.txt (line 11)) (2.18.0)\n",
      "Requirement already satisfied: jsonschema>=2.6 in c:\\users\\user\\documents\\github\\magnitogorsk_real_estate\\.venv\\lib\\site-packages (from nbformat>=4.2.0->-r requirements.txt (line 11)) (4.19.0)\n",
      "Requirement already satisfied: jupyter-core in c:\\users\\user\\documents\\github\\magnitogorsk_real_estate\\.venv\\lib\\site-packages (from nbformat>=4.2.0->-r requirements.txt (line 11)) (5.3.1)\n",
      "Requirement already satisfied: traitlets>=5.1 in c:\\users\\user\\documents\\github\\magnitogorsk_real_estate\\.venv\\lib\\site-packages (from nbformat>=4.2.0->-r requirements.txt (line 11)) (5.9.0)\n",
      "Requirement already satisfied: trio~=0.17 in c:\\users\\user\\documents\\github\\magnitogorsk_real_estate\\.venv\\lib\\site-packages (from selenium->-r requirements.txt (line 13)) (0.22.2)\n",
      "Requirement already satisfied: trio-websocket~=0.9 in c:\\users\\user\\documents\\github\\magnitogorsk_real_estate\\.venv\\lib\\site-packages (from selenium->-r requirements.txt (line 13)) (0.10.3)\n",
      "Requirement already satisfied: MarkupSafe>=2.0 in c:\\users\\user\\documents\\github\\magnitogorsk_real_estate\\.venv\\lib\\site-packages (from jinja2>=2.9->folium==0.14.0->-r requirements.txt (line 18)) (2.1.3)\n",
      "Requirement already satisfied: attrs>=22.2.0 in c:\\users\\user\\documents\\github\\magnitogorsk_real_estate\\.venv\\lib\\site-packages (from jsonschema>=2.6->nbformat>=4.2.0->-r requirements.txt (line 11)) (23.1.0)\n",
      "Requirement already satisfied: jsonschema-specifications>=2023.03.6 in c:\\users\\user\\documents\\github\\magnitogorsk_real_estate\\.venv\\lib\\site-packages (from jsonschema>=2.6->nbformat>=4.2.0->-r requirements.txt (line 11)) (2023.7.1)\n",
      "Requirement already satisfied: referencing>=0.28.4 in c:\\users\\user\\documents\\github\\magnitogorsk_real_estate\\.venv\\lib\\site-packages (from jsonschema>=2.6->nbformat>=4.2.0->-r requirements.txt (line 11)) (0.30.2)\n",
      "Requirement already satisfied: rpds-py>=0.7.1 in c:\\users\\user\\documents\\github\\magnitogorsk_real_estate\\.venv\\lib\\site-packages (from jsonschema>=2.6->nbformat>=4.2.0->-r requirements.txt (line 11)) (0.9.2)\n",
      "Requirement already satisfied: sortedcontainers in c:\\users\\user\\documents\\github\\magnitogorsk_real_estate\\.venv\\lib\\site-packages (from trio~=0.17->selenium->-r requirements.txt (line 13)) (2.4.0)\n",
      "Requirement already satisfied: outcome in c:\\users\\user\\documents\\github\\magnitogorsk_real_estate\\.venv\\lib\\site-packages (from trio~=0.17->selenium->-r requirements.txt (line 13)) (1.2.0)\n",
      "Requirement already satisfied: sniffio in c:\\users\\user\\documents\\github\\magnitogorsk_real_estate\\.venv\\lib\\site-packages (from trio~=0.17->selenium->-r requirements.txt (line 13)) (1.3.0)\n",
      "Requirement already satisfied: cffi>=1.14 in c:\\users\\user\\documents\\github\\magnitogorsk_real_estate\\.venv\\lib\\site-packages (from trio~=0.17->selenium->-r requirements.txt (line 13)) (1.15.1)\n",
      "Requirement already satisfied: exceptiongroup>=1.0.0rc9 in c:\\users\\user\\documents\\github\\magnitogorsk_real_estate\\.venv\\lib\\site-packages (from trio~=0.17->selenium->-r requirements.txt (line 13)) (1.1.3)\n",
      "Requirement already satisfied: wsproto>=0.14 in c:\\users\\user\\documents\\github\\magnitogorsk_real_estate\\.venv\\lib\\site-packages (from trio-websocket~=0.9->selenium->-r requirements.txt (line 13)) (1.2.0)\n",
      "Requirement already satisfied: pysocks!=1.5.7,<2.0,>=1.5.6 in c:\\users\\user\\documents\\github\\magnitogorsk_real_estate\\.venv\\lib\\site-packages (from urllib3<3,>=1.21.1->requests==2.31.0->-r requirements.txt (line 7)) (1.7.1)\n",
      "Requirement already satisfied: soupsieve>1.2 in c:\\users\\user\\documents\\github\\magnitogorsk_real_estate\\.venv\\lib\\site-packages (from beautifulsoup4->bs4->-r requirements.txt (line 6)) (2.4.1)\n",
      "Requirement already satisfied: platformdirs>=2.5 in c:\\users\\user\\documents\\github\\magnitogorsk_real_estate\\.venv\\lib\\site-packages (from jupyter-core->nbformat>=4.2.0->-r requirements.txt (line 11)) (3.10.0)\n",
      "Requirement already satisfied: pywin32>=300 in c:\\users\\user\\documents\\github\\magnitogorsk_real_estate\\.venv\\lib\\site-packages (from jupyter-core->nbformat>=4.2.0->-r requirements.txt (line 11)) (306)\n",
      "Requirement already satisfied: pycparser in c:\\users\\user\\documents\\github\\magnitogorsk_real_estate\\.venv\\lib\\site-packages (from cffi>=1.14->trio~=0.17->selenium->-r requirements.txt (line 13)) (2.21)\n",
      "Requirement already satisfied: h11<1,>=0.9.0 in c:\\users\\user\\documents\\github\\magnitogorsk_real_estate\\.venv\\lib\\site-packages (from wsproto>=0.14->trio-websocket~=0.9->selenium->-r requirements.txt (line 13)) (0.14.0)\n"
     ]
    }
   ],
   "source": [
    "%pip install -r requirements.txt"
   ]
  },
  {
   "cell_type": "code",
   "execution_count": 2,
   "metadata": {},
   "outputs": [],
   "source": [
    "import numpy as np\n",
    "\n",
    "import pandas as pd\n",
    "\n",
    "from catboost import CatBoostRegressor\n",
    "\n",
    "from sklearn.model_selection import train_test_split\n",
    "from sklearn.pipeline import Pipeline\n",
    "from sklearn.model_selection import RandomizedSearchCV"
   ]
  },
  {
   "cell_type": "code",
   "execution_count": null,
   "metadata": {},
   "outputs": [],
   "source": []
  },
  {
   "cell_type": "code",
   "execution_count": 52,
   "metadata": {},
   "outputs": [],
   "source": [
    "df = pd.read_csv('df_2.csv', index_col=0)"
   ]
  },
  {
   "cell_type": "code",
   "execution_count": 53,
   "metadata": {},
   "outputs": [],
   "source": [
    "# df['min_park_dist'] = df[['park_eko', 'attraction', 'south', 'eternal_fire', 'veter']].min(axis=1)\n",
    "# df = df.drop(['park_eko', 'attraction', 'south', 'eternal_fire', 'veter'])\n",
    "df = df.drop(['date', 'day', 'month', 'year', 'dayofweek', 'street', 'lat_long', 'price_sq_meter'], axis=1)\n"
   ]
  },
  {
   "cell_type": "code",
   "execution_count": 78,
   "metadata": {},
   "outputs": [
    {
     "data": {
      "text/plain": [
       "'{\"rooms\":{\"0\":2,\"1\":2},\"district\":{\"0\":\"nan\",\"1\":\"\\\\u041e\\\\u0440\\\\u0434\\\\u0436\\\\u043e\\\\u043d\\\\u0438\\\\u043a\\\\u0438\\\\u0434\\\\u0437\\\\u0435\\\\u0432\\\\u0441\\\\u043a\\\\u0438\\\\u0439\"},\"floor\":{\"0\":\"5.0\",\"1\":\"13.0\"},\"total_floors\":{\"0\":\"9.0\",\"1\":\"14.0\"},\"total_area\":{\"0\":49.8,\"1\":66.2},\"living_area\":{\"0\":30.0,\"1\":40.0},\"kitchen_area\":{\"0\":9.0,\"1\":10.5},\"price\":{\"0\":4000.0,\"1\":3999.0},\"park_eko\":{\"0\":null,\"1\":5.49},\"attraction\":{\"0\":null,\"1\":3.89},\"south\":{\"0\":null,\"1\":1.61},\"eternal_fire\":{\"0\":null,\"1\":4.77},\"veter\":{\"0\":null,\"1\":7.27},\"city_center\":{\"0\":null,\"1\":5.08},\"floor_type\":{\"0\":\"middle\",\"1\":\"middle\"}}'"
      ]
     },
     "execution_count": 78,
     "metadata": {},
     "output_type": "execute_result"
    }
   ],
   "source": [
    "df.iloc[:2].to_json(force_ascii=True)"
   ]
  },
  {
   "cell_type": "code",
   "execution_count": 72,
   "metadata": {},
   "outputs": [
    {
     "data": {
      "text/html": [
       "<div>\n",
       "<style scoped>\n",
       "    .dataframe tbody tr th:only-of-type {\n",
       "        vertical-align: middle;\n",
       "    }\n",
       "\n",
       "    .dataframe tbody tr th {\n",
       "        vertical-align: top;\n",
       "    }\n",
       "\n",
       "    .dataframe thead th {\n",
       "        text-align: right;\n",
       "    }\n",
       "</style>\n",
       "<table border=\"1\" class=\"dataframe\">\n",
       "  <thead>\n",
       "    <tr style=\"text-align: right;\">\n",
       "      <th></th>\n",
       "      <th>rooms</th>\n",
       "      <th>district</th>\n",
       "      <th>floor</th>\n",
       "      <th>total_floors</th>\n",
       "      <th>total_area</th>\n",
       "      <th>living_area</th>\n",
       "      <th>kitchen_area</th>\n",
       "      <th>price</th>\n",
       "      <th>park_eko</th>\n",
       "      <th>attraction</th>\n",
       "      <th>south</th>\n",
       "      <th>eternal_fire</th>\n",
       "      <th>veter</th>\n",
       "      <th>city_center</th>\n",
       "      <th>floor_type</th>\n",
       "    </tr>\n",
       "  </thead>\n",
       "  <tbody>\n",
       "    <tr>\n",
       "      <th>0</th>\n",
       "      <td>2</td>\n",
       "      <td>nan</td>\n",
       "      <td>5.0</td>\n",
       "      <td>9.0</td>\n",
       "      <td>49.8</td>\n",
       "      <td>30.0</td>\n",
       "      <td>9.0</td>\n",
       "      <td>4000.0</td>\n",
       "      <td>NaN</td>\n",
       "      <td>NaN</td>\n",
       "      <td>NaN</td>\n",
       "      <td>NaN</td>\n",
       "      <td>NaN</td>\n",
       "      <td>NaN</td>\n",
       "      <td>middle</td>\n",
       "    </tr>\n",
       "    <tr>\n",
       "      <th>1</th>\n",
       "      <td>2</td>\n",
       "      <td>Орджоникидзевский</td>\n",
       "      <td>13.0</td>\n",
       "      <td>14.0</td>\n",
       "      <td>66.2</td>\n",
       "      <td>40.0</td>\n",
       "      <td>10.5</td>\n",
       "      <td>3999.0</td>\n",
       "      <td>5.49</td>\n",
       "      <td>3.89</td>\n",
       "      <td>1.61</td>\n",
       "      <td>4.77</td>\n",
       "      <td>7.27</td>\n",
       "      <td>5.08</td>\n",
       "      <td>middle</td>\n",
       "    </tr>\n",
       "    <tr>\n",
       "      <th>2</th>\n",
       "      <td>3</td>\n",
       "      <td>Орджоникидзевский</td>\n",
       "      <td>7.0</td>\n",
       "      <td>10.0</td>\n",
       "      <td>65.0</td>\n",
       "      <td>46.0</td>\n",
       "      <td>9.0</td>\n",
       "      <td>5400.0</td>\n",
       "      <td>5.72</td>\n",
       "      <td>3.45</td>\n",
       "      <td>1.33</td>\n",
       "      <td>6.16</td>\n",
       "      <td>8.81</td>\n",
       "      <td>6.18</td>\n",
       "      <td>middle</td>\n",
       "    </tr>\n",
       "    <tr>\n",
       "      <th>3</th>\n",
       "      <td>3</td>\n",
       "      <td>Ленинский</td>\n",
       "      <td>5.0</td>\n",
       "      <td>5.0</td>\n",
       "      <td>62.4</td>\n",
       "      <td>43.0</td>\n",
       "      <td>8.0</td>\n",
       "      <td>4500.0</td>\n",
       "      <td>2.63</td>\n",
       "      <td>4.23</td>\n",
       "      <td>6.86</td>\n",
       "      <td>0.88</td>\n",
       "      <td>1.94</td>\n",
       "      <td>0.85</td>\n",
       "      <td>last</td>\n",
       "    </tr>\n",
       "    <tr>\n",
       "      <th>4</th>\n",
       "      <td>1</td>\n",
       "      <td>Ленинский</td>\n",
       "      <td>4.0</td>\n",
       "      <td>4.0</td>\n",
       "      <td>32.4</td>\n",
       "      <td>17.0</td>\n",
       "      <td>6.0</td>\n",
       "      <td>2300.0</td>\n",
       "      <td>4.14</td>\n",
       "      <td>6.30</td>\n",
       "      <td>9.34</td>\n",
       "      <td>3.38</td>\n",
       "      <td>1.50</td>\n",
       "      <td>3.16</td>\n",
       "      <td>last</td>\n",
       "    </tr>\n",
       "    <tr>\n",
       "      <th>...</th>\n",
       "      <td>...</td>\n",
       "      <td>...</td>\n",
       "      <td>...</td>\n",
       "      <td>...</td>\n",
       "      <td>...</td>\n",
       "      <td>...</td>\n",
       "      <td>...</td>\n",
       "      <td>...</td>\n",
       "      <td>...</td>\n",
       "      <td>...</td>\n",
       "      <td>...</td>\n",
       "      <td>...</td>\n",
       "      <td>...</td>\n",
       "      <td>...</td>\n",
       "      <td>...</td>\n",
       "    </tr>\n",
       "    <tr>\n",
       "      <th>460</th>\n",
       "      <td>3</td>\n",
       "      <td>Ленинский</td>\n",
       "      <td>5.0</td>\n",
       "      <td>5.0</td>\n",
       "      <td>74.0</td>\n",
       "      <td>56.0</td>\n",
       "      <td>9.0</td>\n",
       "      <td>5500.0</td>\n",
       "      <td>4.32</td>\n",
       "      <td>6.22</td>\n",
       "      <td>8.82</td>\n",
       "      <td>2.81</td>\n",
       "      <td>0.34</td>\n",
       "      <td>2.86</td>\n",
       "      <td>last</td>\n",
       "    </tr>\n",
       "    <tr>\n",
       "      <th>461</th>\n",
       "      <td>2</td>\n",
       "      <td>Ленинский</td>\n",
       "      <td>1.0</td>\n",
       "      <td>5.0</td>\n",
       "      <td>41.0</td>\n",
       "      <td>22.2</td>\n",
       "      <td>7.2</td>\n",
       "      <td>930.0</td>\n",
       "      <td>12.63</td>\n",
       "      <td>14.30</td>\n",
       "      <td>15.76</td>\n",
       "      <td>10.60</td>\n",
       "      <td>8.28</td>\n",
       "      <td>10.96</td>\n",
       "      <td>first</td>\n",
       "    </tr>\n",
       "    <tr>\n",
       "      <th>462</th>\n",
       "      <td>2</td>\n",
       "      <td>Правобережный</td>\n",
       "      <td>5.0</td>\n",
       "      <td>5.0</td>\n",
       "      <td>42.5</td>\n",
       "      <td>29.0</td>\n",
       "      <td>6.0</td>\n",
       "      <td>2650.0</td>\n",
       "      <td>1.74</td>\n",
       "      <td>3.41</td>\n",
       "      <td>6.40</td>\n",
       "      <td>1.03</td>\n",
       "      <td>2.77</td>\n",
       "      <td>0.31</td>\n",
       "      <td>last</td>\n",
       "    </tr>\n",
       "    <tr>\n",
       "      <th>463</th>\n",
       "      <td>2</td>\n",
       "      <td>Орджоникидзевский</td>\n",
       "      <td>3.0</td>\n",
       "      <td>9.0</td>\n",
       "      <td>50.0</td>\n",
       "      <td>30.0</td>\n",
       "      <td>9.0</td>\n",
       "      <td>3350.0</td>\n",
       "      <td>5.87</td>\n",
       "      <td>4.29</td>\n",
       "      <td>1.65</td>\n",
       "      <td>5.06</td>\n",
       "      <td>7.53</td>\n",
       "      <td>5.41</td>\n",
       "      <td>middle</td>\n",
       "    </tr>\n",
       "    <tr>\n",
       "      <th>464</th>\n",
       "      <td>3</td>\n",
       "      <td>Орджоникидзевский</td>\n",
       "      <td>1.0</td>\n",
       "      <td>7.0</td>\n",
       "      <td>70.0</td>\n",
       "      <td>46.0</td>\n",
       "      <td>8.0</td>\n",
       "      <td>4600.0</td>\n",
       "      <td>5.80</td>\n",
       "      <td>4.20</td>\n",
       "      <td>1.59</td>\n",
       "      <td>5.02</td>\n",
       "      <td>7.50</td>\n",
       "      <td>5.36</td>\n",
       "      <td>first</td>\n",
       "    </tr>\n",
       "  </tbody>\n",
       "</table>\n",
       "<p>459 rows × 15 columns</p>\n",
       "</div>"
      ],
      "text/plain": [
       "     rooms           district floor total_floors  total_area  living_area  \\\n",
       "0        2                nan   5.0          9.0        49.8         30.0   \n",
       "1        2  Орджоникидзевский  13.0         14.0        66.2         40.0   \n",
       "2        3  Орджоникидзевский   7.0         10.0        65.0         46.0   \n",
       "3        3          Ленинский   5.0          5.0        62.4         43.0   \n",
       "4        1          Ленинский   4.0          4.0        32.4         17.0   \n",
       "..     ...                ...   ...          ...         ...          ...   \n",
       "460      3          Ленинский   5.0          5.0        74.0         56.0   \n",
       "461      2          Ленинский   1.0          5.0        41.0         22.2   \n",
       "462      2      Правобережный   5.0          5.0        42.5         29.0   \n",
       "463      2  Орджоникидзевский   3.0          9.0        50.0         30.0   \n",
       "464      3  Орджоникидзевский   1.0          7.0        70.0         46.0   \n",
       "\n",
       "     kitchen_area   price  park_eko  attraction  south  eternal_fire  veter  \\\n",
       "0             9.0  4000.0       NaN         NaN    NaN           NaN    NaN   \n",
       "1            10.5  3999.0      5.49        3.89   1.61          4.77   7.27   \n",
       "2             9.0  5400.0      5.72        3.45   1.33          6.16   8.81   \n",
       "3             8.0  4500.0      2.63        4.23   6.86          0.88   1.94   \n",
       "4             6.0  2300.0      4.14        6.30   9.34          3.38   1.50   \n",
       "..            ...     ...       ...         ...    ...           ...    ...   \n",
       "460           9.0  5500.0      4.32        6.22   8.82          2.81   0.34   \n",
       "461           7.2   930.0     12.63       14.30  15.76         10.60   8.28   \n",
       "462           6.0  2650.0      1.74        3.41   6.40          1.03   2.77   \n",
       "463           9.0  3350.0      5.87        4.29   1.65          5.06   7.53   \n",
       "464           8.0  4600.0      5.80        4.20   1.59          5.02   7.50   \n",
       "\n",
       "     city_center floor_type  \n",
       "0            NaN     middle  \n",
       "1           5.08     middle  \n",
       "2           6.18     middle  \n",
       "3           0.85       last  \n",
       "4           3.16       last  \n",
       "..           ...        ...  \n",
       "460         2.86       last  \n",
       "461        10.96      first  \n",
       "462         0.31       last  \n",
       "463         5.41     middle  \n",
       "464         5.36      first  \n",
       "\n",
       "[459 rows x 15 columns]"
      ]
     },
     "execution_count": 72,
     "metadata": {},
     "output_type": "execute_result"
    }
   ],
   "source": [
    "df"
   ]
  },
  {
   "cell_type": "code",
   "execution_count": 55,
   "metadata": {},
   "outputs": [
    {
     "data": {
      "text/plain": [
       "rooms           0\n",
       "district        0\n",
       "floor           0\n",
       "total_floors    0\n",
       "total_area      0\n",
       "living_area     0\n",
       "kitchen_area    0\n",
       "price           0\n",
       "park_eko        0\n",
       "attraction      0\n",
       "south           0\n",
       "eternal_fire    0\n",
       "veter           0\n",
       "city_center     0\n",
       "floor_type      0\n",
       "dtype: int64"
      ]
     },
     "execution_count": 55,
     "metadata": {},
     "output_type": "execute_result"
    }
   ],
   "source": [
    "df.isin([None]).sum()"
   ]
  },
  {
   "cell_type": "code",
   "execution_count": 57,
   "metadata": {},
   "outputs": [],
   "source": [
    "categorical = ['district', 'floor', 'total_floors', 'floor_type']\n",
    "\n",
    "df[categorical] = df[categorical].astype(str)"
   ]
  },
  {
   "cell_type": "code",
   "execution_count": 58,
   "metadata": {},
   "outputs": [],
   "source": [
    "X = df.drop(['price'], axis=1)\n",
    "y = df['price']\n",
    "\n",
    "X_train, X_test, y_train, y_test = train_test_split(X, y, \n",
    "                                                    test_size=0.25, \n",
    "                                                    random_state=47,\n",
    "                                                    shuffle=True,\n",
    "                                                    #stratify=df['price']\n",
    "                                                    )"
   ]
  },
  {
   "cell_type": "code",
   "execution_count": 59,
   "metadata": {},
   "outputs": [
    {
     "name": "stdout",
     "output_type": "stream",
     "text": [
      "Категориальные признаки: ['district', 'floor', 'total_floors', 'floor_type']\n",
      "Числовые признаки: ['eternal_fire', 'total_area', 'south', 'kitchen_area', 'park_eko', 'veter', 'city_center', 'rooms', 'living_area', 'attraction']\n"
     ]
    }
   ],
   "source": [
    "print(f\"Категориальные признаки: {categorical}\")\n",
    "\n",
    "numerical = list(set(X_train.columns) - set(categorical))\n",
    "print(f\"Числовые признаки: {numerical}\")"
   ]
  },
  {
   "cell_type": "code",
   "execution_count": 60,
   "metadata": {},
   "outputs": [],
   "source": [
    "pipe = Pipeline(\n",
    "    [\n",
    "        (\"regressor\", CatBoostRegressor())\n",
    "    ]\n",
    ")\n",
    "\n",
    "param_grid = [\n",
    "    {\n",
    "        'regressor': [CatBoostRegressor(random_state=47, \n",
    "                                        eval_metric='RMSE',\n",
    "                                        verbose=100,\n",
    "                                        #silent=True,\n",
    "                                        cat_features=categorical,\n",
    "                                        early_stopping_rounds=20)],\n",
    "        'regressor__depth': range(4, 12, 2),\n",
    "        'regressor__learning_rate': np.linspace(0.01, 0.09, 7),\n",
    "        'regressor__iterations': range(200, 1200, 200)\n",
    "    }\n",
    "]\n",
    "\n",
    "grid = RandomizedSearchCV(pipe, param_grid, \n",
    "                          n_iter=10 ,\n",
    "                          cv=3, \n",
    "                          scoring = 'neg_mean_squared_error', \n",
    "                          verbose=1)"
   ]
  },
  {
   "cell_type": "code",
   "execution_count": 61,
   "metadata": {},
   "outputs": [
    {
     "name": "stdout",
     "output_type": "stream",
     "text": [
      "Fitting 3 folds for each of 10 candidates, totalling 30 fits\n"
     ]
    },
    {
     "name": "stdout",
     "output_type": "stream",
     "text": [
      "0:\tlearn: 1387.8321670\ttotal: 75.3ms\tremaining: 1m 15s\n",
      "100:\tlearn: 427.8762557\ttotal: 1.91s\tremaining: 17s\n",
      "200:\tlearn: 263.2375670\ttotal: 4.52s\tremaining: 18s\n",
      "300:\tlearn: 176.3403577\ttotal: 6.59s\tremaining: 15.3s\n",
      "400:\tlearn: 127.9303496\ttotal: 8.81s\tremaining: 13.2s\n",
      "500:\tlearn: 97.6786237\ttotal: 10.7s\tremaining: 10.7s\n",
      "600:\tlearn: 76.7002112\ttotal: 12.6s\tremaining: 8.4s\n",
      "700:\tlearn: 58.9928681\ttotal: 14.5s\tremaining: 6.18s\n",
      "800:\tlearn: 48.1498372\ttotal: 16.4s\tremaining: 4.07s\n",
      "900:\tlearn: 39.1272297\ttotal: 18.3s\tremaining: 2.01s\n",
      "999:\tlearn: 32.6356841\ttotal: 20.6s\tremaining: 0us\n",
      "0:\tlearn: 1554.4855289\ttotal: 16.4ms\tremaining: 16.4s\n",
      "100:\tlearn: 448.9345148\ttotal: 2.28s\tremaining: 20.3s\n",
      "200:\tlearn: 298.3806179\ttotal: 4.18s\tremaining: 16.6s\n",
      "300:\tlearn: 201.0748635\ttotal: 6.04s\tremaining: 14s\n",
      "400:\tlearn: 142.0420628\ttotal: 8.36s\tremaining: 12.5s\n",
      "500:\tlearn: 105.9649046\ttotal: 10.5s\tremaining: 10.5s\n",
      "600:\tlearn: 79.9094870\ttotal: 12.3s\tremaining: 8.19s\n",
      "700:\tlearn: 61.6153019\ttotal: 14.3s\tremaining: 6.1s\n",
      "800:\tlearn: 47.6450351\ttotal: 16.5s\tremaining: 4.09s\n",
      "900:\tlearn: 37.8269207\ttotal: 18.6s\tremaining: 2.04s\n",
      "999:\tlearn: 30.5163801\ttotal: 20.4s\tremaining: 0us\n",
      "0:\tlearn: 1457.3239958\ttotal: 15.6ms\tremaining: 15.6s\n",
      "100:\tlearn: 474.4329289\ttotal: 1.69s\tremaining: 15s\n",
      "200:\tlearn: 284.7405978\ttotal: 3.52s\tremaining: 14s\n",
      "300:\tlearn: 193.4598994\ttotal: 5.37s\tremaining: 12.5s\n",
      "400:\tlearn: 139.9945051\ttotal: 7.2s\tremaining: 10.8s\n",
      "500:\tlearn: 104.7654993\ttotal: 9.03s\tremaining: 8.99s\n",
      "600:\tlearn: 81.8419700\ttotal: 10.8s\tremaining: 7.19s\n",
      "700:\tlearn: 63.0517208\ttotal: 12.6s\tremaining: 5.39s\n",
      "800:\tlearn: 49.6649866\ttotal: 14.4s\tremaining: 3.59s\n",
      "900:\tlearn: 40.8423868\ttotal: 16.2s\tremaining: 1.78s\n",
      "999:\tlearn: 33.1907462\ttotal: 18s\tremaining: 0us\n",
      "0:\tlearn: 1387.2735333\ttotal: 42.7ms\tremaining: 8.5s\n",
      "100:\tlearn: 245.2156640\ttotal: 4.16s\tremaining: 4.08s\n",
      "199:\tlearn: 92.0301033\ttotal: 8.61s\tremaining: 0us\n",
      "0:\tlearn: 1560.1093070\ttotal: 43.2ms\tremaining: 8.59s\n",
      "100:\tlearn: 287.3308773\ttotal: 4s\tremaining: 3.92s\n",
      "199:\tlearn: 110.6499961\ttotal: 8.57s\tremaining: 0us\n",
      "0:\tlearn: 1456.6548842\ttotal: 45ms\tremaining: 8.95s\n",
      "100:\tlearn: 308.4741974\ttotal: 3.41s\tremaining: 3.34s\n",
      "199:\tlearn: 106.1635541\ttotal: 7.87s\tremaining: 0us\n",
      "0:\tlearn: 1423.0562200\ttotal: 41.7ms\tremaining: 33.3s\n",
      "100:\tlearn: 526.1232095\ttotal: 3.81s\tremaining: 26.4s\n",
      "200:\tlearn: 294.2770486\ttotal: 9.26s\tremaining: 27.6s\n",
      "300:\tlearn: 187.1485564\ttotal: 13.9s\tremaining: 23.1s\n",
      "400:\tlearn: 127.7461541\ttotal: 19.3s\tremaining: 19.2s\n",
      "500:\tlearn: 92.2895972\ttotal: 23.9s\tremaining: 14.3s\n",
      "600:\tlearn: 69.0952823\ttotal: 28.5s\tremaining: 9.44s\n",
      "700:\tlearn: 50.2732094\ttotal: 33s\tremaining: 4.67s\n",
      "799:\tlearn: 36.9865633\ttotal: 37.6s\tremaining: 0us\n",
      "0:\tlearn: 1593.2861024\ttotal: 51.2ms\tremaining: 40.9s\n",
      "100:\tlearn: 649.8982111\ttotal: 3.34s\tremaining: 23.1s\n",
      "200:\tlearn: 364.7975142\ttotal: 7.63s\tremaining: 22.8s\n",
      "300:\tlearn: 226.2038009\ttotal: 12.3s\tremaining: 20.4s\n",
      "400:\tlearn: 158.4285661\ttotal: 17s\tremaining: 16.9s\n",
      "500:\tlearn: 109.3431130\ttotal: 21.8s\tremaining: 13s\n",
      "600:\tlearn: 76.8368864\ttotal: 26.4s\tremaining: 8.73s\n",
      "700:\tlearn: 55.5951600\ttotal: 30.9s\tremaining: 4.36s\n",
      "799:\tlearn: 40.2250984\ttotal: 35.3s\tremaining: 0us\n",
      "0:\tlearn: 1485.1644058\ttotal: 44.6ms\tremaining: 35.6s\n",
      "100:\tlearn: 597.1503246\ttotal: 3.53s\tremaining: 24.4s\n",
      "200:\tlearn: 375.7291417\ttotal: 6.75s\tremaining: 20.1s\n",
      "300:\tlearn: 243.0617183\ttotal: 10.9s\tremaining: 18.1s\n",
      "400:\tlearn: 158.8586775\ttotal: 15.5s\tremaining: 15.4s\n",
      "500:\tlearn: 107.2213668\ttotal: 20s\tremaining: 11.9s\n",
      "600:\tlearn: 73.0063828\ttotal: 24.6s\tremaining: 8.15s\n",
      "700:\tlearn: 51.5806537\ttotal: 29.2s\tremaining: 4.13s\n",
      "799:\tlearn: 38.0903810\ttotal: 33.9s\tremaining: 0us\n",
      "0:\tlearn: 1388.8407281\ttotal: 25.7ms\tremaining: 15.4s\n",
      "100:\tlearn: 298.3008806\ttotal: 2.81s\tremaining: 13.9s\n",
      "200:\tlearn: 155.2699453\ttotal: 5.73s\tremaining: 11.4s\n",
      "300:\tlearn: 93.6045687\ttotal: 8.69s\tremaining: 8.63s\n",
      "400:\tlearn: 62.4916521\ttotal: 11.6s\tremaining: 5.76s\n",
      "500:\tlearn: 42.6167654\ttotal: 14.6s\tremaining: 2.88s\n",
      "599:\tlearn: 30.3256337\ttotal: 17.5s\tremaining: 0us\n",
      "0:\tlearn: 1555.6421053\ttotal: 25.6ms\tremaining: 15.3s\n",
      "100:\tlearn: 371.9351893\ttotal: 2.71s\tremaining: 13.4s\n",
      "200:\tlearn: 204.8402814\ttotal: 5.74s\tremaining: 11.4s\n",
      "300:\tlearn: 111.4554183\ttotal: 8.72s\tremaining: 8.66s\n",
      "400:\tlearn: 61.4240980\ttotal: 11.7s\tremaining: 5.78s\n",
      "500:\tlearn: 38.7451339\ttotal: 14.6s\tremaining: 2.88s\n",
      "599:\tlearn: 25.8428669\ttotal: 17.4s\tremaining: 0us\n",
      "0:\tlearn: 1456.3784703\ttotal: 29.8ms\tremaining: 17.8s\n",
      "100:\tlearn: 360.7531545\ttotal: 2.55s\tremaining: 12.6s\n",
      "200:\tlearn: 177.9245152\ttotal: 5.51s\tremaining: 10.9s\n",
      "300:\tlearn: 104.1072353\ttotal: 8.48s\tremaining: 8.42s\n",
      "400:\tlearn: 67.4524571\ttotal: 11.4s\tremaining: 5.68s\n",
      "500:\tlearn: 44.5438832\ttotal: 14.4s\tremaining: 2.84s\n",
      "599:\tlearn: 30.0637178\ttotal: 17.3s\tremaining: 0us\n",
      "0:\tlearn: 1441.2821970\ttotal: 110ms\tremaining: 1m 27s\n",
      "100:\tlearn: 1001.4508814\ttotal: 2.63s\tremaining: 18.2s\n",
      "200:\tlearn: 763.0780091\ttotal: 5.2s\tremaining: 15.5s\n",
      "300:\tlearn: 622.2986486\ttotal: 8.08s\tremaining: 13.4s\n",
      "400:\tlearn: 532.3975576\ttotal: 10.8s\tremaining: 10.8s\n",
      "500:\tlearn: 466.7449632\ttotal: 13.8s\tremaining: 8.22s\n",
      "600:\tlearn: 415.0703394\ttotal: 16.8s\tremaining: 5.57s\n",
      "700:\tlearn: 373.5198970\ttotal: 19.8s\tremaining: 2.79s\n",
      "799:\tlearn: 338.8901440\ttotal: 22.8s\tremaining: 0us\n",
      "0:\tlearn: 1609.4972066\ttotal: 25.7ms\tremaining: 20.5s\n",
      "100:\tlearn: 1159.1684726\ttotal: 2.41s\tremaining: 16.7s\n",
      "200:\tlearn: 905.9490864\ttotal: 5.1s\tremaining: 15.2s\n",
      "300:\tlearn: 750.5395509\ttotal: 7.78s\tremaining: 12.9s\n",
      "400:\tlearn: 642.7713750\ttotal: 10.5s\tremaining: 10.4s\n",
      "500:\tlearn: 559.8377841\ttotal: 13.4s\tremaining: 8.02s\n",
      "600:\tlearn: 490.3742640\ttotal: 16.4s\tremaining: 5.44s\n",
      "700:\tlearn: 436.8136815\ttotal: 20s\tremaining: 2.83s\n",
      "799:\tlearn: 393.9987262\ttotal: 23.2s\tremaining: 0us\n",
      "0:\tlearn: 1499.5529488\ttotal: 26.5ms\tremaining: 21.2s\n",
      "100:\tlearn: 1077.1390835\ttotal: 2.71s\tremaining: 18.8s\n",
      "200:\tlearn: 855.0326111\ttotal: 5.24s\tremaining: 15.6s\n",
      "300:\tlearn: 721.9513264\ttotal: 7.47s\tremaining: 12.4s\n",
      "400:\tlearn: 625.3413788\ttotal: 9.71s\tremaining: 9.66s\n",
      "500:\tlearn: 553.2919105\ttotal: 11.9s\tremaining: 7.12s\n",
      "600:\tlearn: 492.9655852\ttotal: 14.5s\tremaining: 4.79s\n",
      "700:\tlearn: 443.3225741\ttotal: 17.1s\tremaining: 2.42s\n",
      "799:\tlearn: 398.6215789\ttotal: 19.9s\tremaining: 0us\n",
      "0:\tlearn: 1432.6013906\ttotal: 9.38ms\tremaining: 1.86s\n",
      "100:\tlearn: 769.7077418\ttotal: 1.23s\tremaining: 1.21s\n",
      "199:\tlearn: 636.2119861\ttotal: 2.42s\tremaining: 0us\n",
      "0:\tlearn: 1599.7318621\ttotal: 10.8ms\tremaining: 2.15s\n",
      "100:\tlearn: 902.6876192\ttotal: 1.12s\tremaining: 1.1s\n",
      "199:\tlearn: 742.1576522\ttotal: 2.23s\tremaining: 0us\n",
      "0:\tlearn: 1491.7214450\ttotal: 9.72ms\tremaining: 1.93s\n",
      "100:\tlearn: 873.2018238\ttotal: 1.14s\tremaining: 1.11s\n",
      "199:\tlearn: 690.5274874\ttotal: 2.22s\tremaining: 0us\n",
      "0:\tlearn: 1387.8321670\ttotal: 15.6ms\tremaining: 9.37s\n",
      "100:\tlearn: 427.8762557\ttotal: 1.82s\tremaining: 8.97s\n",
      "200:\tlearn: 263.2375670\ttotal: 3.63s\tremaining: 7.2s\n",
      "300:\tlearn: 176.3403577\ttotal: 5.45s\tremaining: 5.42s\n",
      "400:\tlearn: 127.9303496\ttotal: 7.27s\tremaining: 3.61s\n",
      "500:\tlearn: 97.6786237\ttotal: 9.05s\tremaining: 1.79s\n",
      "599:\tlearn: 76.7545886\ttotal: 10.9s\tremaining: 0us\n",
      "0:\tlearn: 1554.4855289\ttotal: 16.1ms\tremaining: 9.65s\n",
      "100:\tlearn: 448.9345148\ttotal: 1.76s\tremaining: 8.72s\n",
      "200:\tlearn: 298.3806179\ttotal: 3.57s\tremaining: 7.08s\n",
      "300:\tlearn: 201.0748635\ttotal: 5.36s\tremaining: 5.33s\n",
      "400:\tlearn: 142.0420628\ttotal: 7.19s\tremaining: 3.57s\n",
      "500:\tlearn: 105.9649046\ttotal: 8.94s\tremaining: 1.77s\n",
      "599:\tlearn: 80.2343627\ttotal: 10.7s\tremaining: 0us\n",
      "0:\tlearn: 1457.3239958\ttotal: 15.4ms\tremaining: 9.21s\n",
      "100:\tlearn: 474.4329289\ttotal: 1.66s\tremaining: 8.18s\n",
      "200:\tlearn: 284.7405978\ttotal: 3.54s\tremaining: 7.02s\n",
      "300:\tlearn: 193.4598994\ttotal: 5.34s\tremaining: 5.3s\n",
      "400:\tlearn: 139.9945051\ttotal: 7.14s\tremaining: 3.54s\n",
      "500:\tlearn: 104.7654993\ttotal: 8.95s\tremaining: 1.77s\n",
      "599:\tlearn: 82.0635885\ttotal: 10.7s\tremaining: 0us\n",
      "0:\tlearn: 1423.9157660\ttotal: 8.63ms\tremaining: 6.89s\n",
      "100:\tlearn: 678.0253709\ttotal: 1.08s\tremaining: 7.5s\n",
      "200:\tlearn: 564.7612356\ttotal: 2.15s\tremaining: 6.41s\n",
      "300:\tlearn: 506.4441061\ttotal: 3.31s\tremaining: 5.5s\n",
      "400:\tlearn: 456.2836137\ttotal: 4.43s\tremaining: 4.41s\n",
      "500:\tlearn: 413.1924736\ttotal: 5.54s\tremaining: 3.31s\n",
      "600:\tlearn: 378.8383098\ttotal: 6.66s\tremaining: 2.2s\n",
      "700:\tlearn: 348.7511260\ttotal: 7.77s\tremaining: 1.1s\n",
      "799:\tlearn: 326.6377938\ttotal: 8.91s\tremaining: 0us\n",
      "0:\tlearn: 1590.3346294\ttotal: 12.6ms\tremaining: 10.1s\n",
      "100:\tlearn: 793.0273207\ttotal: 1.19s\tremaining: 8.25s\n",
      "200:\tlearn: 643.3495439\ttotal: 2.3s\tremaining: 6.84s\n",
      "300:\tlearn: 548.7592161\ttotal: 3.44s\tremaining: 5.71s\n",
      "400:\tlearn: 495.7436995\ttotal: 4.58s\tremaining: 4.56s\n",
      "500:\tlearn: 453.8963720\ttotal: 5.72s\tremaining: 3.41s\n",
      "600:\tlearn: 411.1399235\ttotal: 6.86s\tremaining: 2.27s\n",
      "700:\tlearn: 377.6045478\ttotal: 7.99s\tremaining: 1.13s\n",
      "799:\tlearn: 350.3835060\ttotal: 9.11s\tremaining: 0us\n",
      "0:\tlearn: 1484.1876282\ttotal: 9.24ms\tremaining: 7.38s\n",
      "100:\tlearn: 762.3059725\ttotal: 1.08s\tremaining: 7.48s\n",
      "200:\tlearn: 586.0981422\ttotal: 2.19s\tremaining: 6.53s\n",
      "300:\tlearn: 502.8830060\ttotal: 3.39s\tremaining: 5.63s\n",
      "400:\tlearn: 442.2663436\ttotal: 4.51s\tremaining: 4.49s\n",
      "500:\tlearn: 402.6098986\ttotal: 5.64s\tremaining: 3.37s\n",
      "600:\tlearn: 368.1764558\ttotal: 6.77s\tremaining: 2.24s\n",
      "700:\tlearn: 333.7527243\ttotal: 7.91s\tremaining: 1.12s\n",
      "799:\tlearn: 305.7838327\ttotal: 9.03s\tremaining: 0us\n",
      "0:\tlearn: 1405.1040313\ttotal: 43.5ms\tremaining: 17.4s\n",
      "100:\tlearn: 330.9178347\ttotal: 4.17s\tremaining: 12.4s\n",
      "200:\tlearn: 150.1088798\ttotal: 8.77s\tremaining: 8.69s\n",
      "300:\tlearn: 82.1900968\ttotal: 13.3s\tremaining: 4.38s\n",
      "399:\tlearn: 47.9272621\ttotal: 17.8s\tremaining: 0us\n",
      "0:\tlearn: 1576.6498286\ttotal: 43ms\tremaining: 17.2s\n",
      "100:\tlearn: 420.7891657\ttotal: 3.68s\tremaining: 10.9s\n",
      "200:\tlearn: 192.5257549\ttotal: 8.15s\tremaining: 8.07s\n",
      "300:\tlearn: 99.1123280\ttotal: 12.7s\tremaining: 4.17s\n",
      "399:\tlearn: 52.9242560\ttotal: 17.2s\tremaining: 0us\n",
      "0:\tlearn: 1470.8513012\ttotal: 45.2ms\tremaining: 18s\n",
      "100:\tlearn: 412.2300792\ttotal: 3.39s\tremaining: 10s\n",
      "200:\tlearn: 201.3279935\ttotal: 7.48s\tremaining: 7.41s\n",
      "300:\tlearn: 102.9723893\ttotal: 12s\tremaining: 3.95s\n",
      "399:\tlearn: 58.2714024\ttotal: 16.5s\tremaining: 0us\n",
      "0:\tlearn: 1432.4486348\ttotal: 25ms\tremaining: 24.9s\n",
      "100:\tlearn: 707.2745055\ttotal: 2.54s\tremaining: 22.7s\n",
      "200:\tlearn: 483.4800912\ttotal: 5.29s\tremaining: 21s\n",
      "300:\tlearn: 371.9515601\ttotal: 8.26s\tremaining: 19.2s\n",
      "400:\tlearn: 297.5041325\ttotal: 11.3s\tremaining: 16.8s\n",
      "500:\tlearn: 246.6584541\ttotal: 14.3s\tremaining: 14.2s\n",
      "600:\tlearn: 211.9443917\ttotal: 20.4s\tremaining: 13.6s\n",
      "700:\tlearn: 183.9683696\ttotal: 25s\tremaining: 10.7s\n",
      "800:\tlearn: 159.1310139\ttotal: 28.2s\tremaining: 7s\n",
      "900:\tlearn: 137.1608901\ttotal: 31.3s\tremaining: 3.44s\n",
      "999:\tlearn: 120.9676045\ttotal: 34.5s\tremaining: 0us\n",
      "0:\tlearn: 1600.4387734\ttotal: 25ms\tremaining: 24.9s\n",
      "100:\tlearn: 839.1003200\ttotal: 2.6s\tremaining: 23.2s\n",
      "200:\tlearn: 584.9862808\ttotal: 5.26s\tremaining: 20.9s\n",
      "300:\tlearn: 440.5269650\ttotal: 8.19s\tremaining: 19s\n",
      "400:\tlearn: 363.3025843\ttotal: 11.2s\tremaining: 16.7s\n",
      "500:\tlearn: 304.4001616\ttotal: 14.2s\tremaining: 14.1s\n",
      "600:\tlearn: 252.8001980\ttotal: 17.3s\tremaining: 11.5s\n",
      "700:\tlearn: 214.2596453\ttotal: 20.4s\tremaining: 8.68s\n",
      "800:\tlearn: 180.8955279\ttotal: 23.4s\tremaining: 5.82s\n",
      "900:\tlearn: 152.6959995\ttotal: 26.5s\tremaining: 2.91s\n",
      "999:\tlearn: 131.2191410\ttotal: 29.5s\tremaining: 0us\n",
      "0:\tlearn: 1492.2779407\ttotal: 27.5ms\tremaining: 27.5s\n",
      "100:\tlearn: 800.5638129\ttotal: 2.56s\tremaining: 22.7s\n",
      "200:\tlearn: 590.6191037\ttotal: 4.76s\tremaining: 18.9s\n",
      "300:\tlearn: 460.3545113\ttotal: 7.26s\tremaining: 16.9s\n",
      "400:\tlearn: 351.5722461\ttotal: 10.1s\tremaining: 15.1s\n",
      "500:\tlearn: 286.7305366\ttotal: 13.1s\tremaining: 13s\n",
      "600:\tlearn: 235.5582124\ttotal: 16.1s\tremaining: 10.7s\n",
      "700:\tlearn: 194.8615636\ttotal: 19.8s\tremaining: 8.46s\n",
      "800:\tlearn: 159.4652412\ttotal: 23.1s\tremaining: 5.73s\n",
      "900:\tlearn: 134.7318923\ttotal: 26.2s\tremaining: 2.88s\n",
      "999:\tlearn: 114.4644624\ttotal: 29.2s\tremaining: 0us\n",
      "0:\tlearn: 1465.5798564\ttotal: 31.6ms\tremaining: 18.9s\n",
      "100:\tlearn: 501.2530448\ttotal: 1.92s\tremaining: 9.47s\n",
      "200:\tlearn: 384.9113384\ttotal: 3.79s\tremaining: 7.53s\n",
      "300:\tlearn: 288.3669040\ttotal: 5.67s\tremaining: 5.63s\n",
      "400:\tlearn: 226.6450241\ttotal: 7.56s\tremaining: 3.75s\n",
      "500:\tlearn: 181.1737420\ttotal: 9.52s\tremaining: 1.88s\n",
      "599:\tlearn: 146.6537585\ttotal: 11.4s\tremaining: 0us\n",
      "CPU times: total: 15min 20s\n",
      "Wall time: 8min 59s\n"
     ]
    },
    {
     "data": {
      "text/html": [
       "<style>#sk-container-id-3 {color: black;background-color: white;}#sk-container-id-3 pre{padding: 0;}#sk-container-id-3 div.sk-toggleable {background-color: white;}#sk-container-id-3 label.sk-toggleable__label {cursor: pointer;display: block;width: 100%;margin-bottom: 0;padding: 0.3em;box-sizing: border-box;text-align: center;}#sk-container-id-3 label.sk-toggleable__label-arrow:before {content: \"▸\";float: left;margin-right: 0.25em;color: #696969;}#sk-container-id-3 label.sk-toggleable__label-arrow:hover:before {color: black;}#sk-container-id-3 div.sk-estimator:hover label.sk-toggleable__label-arrow:before {color: black;}#sk-container-id-3 div.sk-toggleable__content {max-height: 0;max-width: 0;overflow: hidden;text-align: left;background-color: #f0f8ff;}#sk-container-id-3 div.sk-toggleable__content pre {margin: 0.2em;color: black;border-radius: 0.25em;background-color: #f0f8ff;}#sk-container-id-3 input.sk-toggleable__control:checked~div.sk-toggleable__content {max-height: 200px;max-width: 100%;overflow: auto;}#sk-container-id-3 input.sk-toggleable__control:checked~label.sk-toggleable__label-arrow:before {content: \"▾\";}#sk-container-id-3 div.sk-estimator input.sk-toggleable__control:checked~label.sk-toggleable__label {background-color: #d4ebff;}#sk-container-id-3 div.sk-label input.sk-toggleable__control:checked~label.sk-toggleable__label {background-color: #d4ebff;}#sk-container-id-3 input.sk-hidden--visually {border: 0;clip: rect(1px 1px 1px 1px);clip: rect(1px, 1px, 1px, 1px);height: 1px;margin: -1px;overflow: hidden;padding: 0;position: absolute;width: 1px;}#sk-container-id-3 div.sk-estimator {font-family: monospace;background-color: #f0f8ff;border: 1px dotted black;border-radius: 0.25em;box-sizing: border-box;margin-bottom: 0.5em;}#sk-container-id-3 div.sk-estimator:hover {background-color: #d4ebff;}#sk-container-id-3 div.sk-parallel-item::after {content: \"\";width: 100%;border-bottom: 1px solid gray;flex-grow: 1;}#sk-container-id-3 div.sk-label:hover label.sk-toggleable__label {background-color: #d4ebff;}#sk-container-id-3 div.sk-serial::before {content: \"\";position: absolute;border-left: 1px solid gray;box-sizing: border-box;top: 0;bottom: 0;left: 50%;z-index: 0;}#sk-container-id-3 div.sk-serial {display: flex;flex-direction: column;align-items: center;background-color: white;padding-right: 0.2em;padding-left: 0.2em;position: relative;}#sk-container-id-3 div.sk-item {position: relative;z-index: 1;}#sk-container-id-3 div.sk-parallel {display: flex;align-items: stretch;justify-content: center;background-color: white;position: relative;}#sk-container-id-3 div.sk-item::before, #sk-container-id-3 div.sk-parallel-item::before {content: \"\";position: absolute;border-left: 1px solid gray;box-sizing: border-box;top: 0;bottom: 0;left: 50%;z-index: -1;}#sk-container-id-3 div.sk-parallel-item {display: flex;flex-direction: column;z-index: 1;position: relative;background-color: white;}#sk-container-id-3 div.sk-parallel-item:first-child::after {align-self: flex-end;width: 50%;}#sk-container-id-3 div.sk-parallel-item:last-child::after {align-self: flex-start;width: 50%;}#sk-container-id-3 div.sk-parallel-item:only-child::after {width: 0;}#sk-container-id-3 div.sk-dashed-wrapped {border: 1px dashed gray;margin: 0 0.4em 0.5em 0.4em;box-sizing: border-box;padding-bottom: 0.4em;background-color: white;}#sk-container-id-3 div.sk-label label {font-family: monospace;font-weight: bold;display: inline-block;line-height: 1.2em;}#sk-container-id-3 div.sk-label-container {text-align: center;}#sk-container-id-3 div.sk-container {/* jupyter's `normalize.less` sets `[hidden] { display: none; }` but bootstrap.min.css set `[hidden] { display: none !important; }` so we also need the `!important` here to be able to override the default hidden behavior on the sphinx rendered scikit-learn.org. See: https://github.com/scikit-learn/scikit-learn/issues/21755 */display: inline-block !important;position: relative;}#sk-container-id-3 div.sk-text-repr-fallback {display: none;}</style><div id=\"sk-container-id-3\" class=\"sk-top-container\"><div class=\"sk-text-repr-fallback\"><pre>RandomizedSearchCV(cv=3,\n",
       "                   estimator=Pipeline(steps=[(&#x27;regressor&#x27;,\n",
       "                                              &lt;catboost.core.CatBoostRegressor object at 0x0000022F4F910CA0&gt;)]),\n",
       "                   param_distributions=[{&#x27;regressor&#x27;: [&lt;catboost.core.CatBoostRegressor object at 0x0000022F4F9110C0&gt;],\n",
       "                                         &#x27;regressor__depth&#x27;: range(4, 12, 2),\n",
       "                                         &#x27;regressor__iterations&#x27;: range(200, 1200, 200),\n",
       "                                         &#x27;regressor__learning_rate&#x27;: array([0.01      , 0.02333333, 0.03666667, 0.05      , 0.06333333,\n",
       "       0.07666667, 0.09      ])}],\n",
       "                   scoring=&#x27;neg_mean_squared_error&#x27;, verbose=1)</pre><b>In a Jupyter environment, please rerun this cell to show the HTML representation or trust the notebook. <br />On GitHub, the HTML representation is unable to render, please try loading this page with nbviewer.org.</b></div><div class=\"sk-container\" hidden><div class=\"sk-item sk-dashed-wrapped\"><div class=\"sk-label-container\"><div class=\"sk-label sk-toggleable\"><input class=\"sk-toggleable__control sk-hidden--visually\" id=\"sk-estimator-id-7\" type=\"checkbox\" ><label for=\"sk-estimator-id-7\" class=\"sk-toggleable__label sk-toggleable__label-arrow\">RandomizedSearchCV</label><div class=\"sk-toggleable__content\"><pre>RandomizedSearchCV(cv=3,\n",
       "                   estimator=Pipeline(steps=[(&#x27;regressor&#x27;,\n",
       "                                              &lt;catboost.core.CatBoostRegressor object at 0x0000022F4F910CA0&gt;)]),\n",
       "                   param_distributions=[{&#x27;regressor&#x27;: [&lt;catboost.core.CatBoostRegressor object at 0x0000022F4F9110C0&gt;],\n",
       "                                         &#x27;regressor__depth&#x27;: range(4, 12, 2),\n",
       "                                         &#x27;regressor__iterations&#x27;: range(200, 1200, 200),\n",
       "                                         &#x27;regressor__learning_rate&#x27;: array([0.01      , 0.02333333, 0.03666667, 0.05      , 0.06333333,\n",
       "       0.07666667, 0.09      ])}],\n",
       "                   scoring=&#x27;neg_mean_squared_error&#x27;, verbose=1)</pre></div></div></div><div class=\"sk-parallel\"><div class=\"sk-parallel-item\"><div class=\"sk-item\"><div class=\"sk-label-container\"><div class=\"sk-label sk-toggleable\"><input class=\"sk-toggleable__control sk-hidden--visually\" id=\"sk-estimator-id-8\" type=\"checkbox\" ><label for=\"sk-estimator-id-8\" class=\"sk-toggleable__label sk-toggleable__label-arrow\">estimator: Pipeline</label><div class=\"sk-toggleable__content\"><pre>Pipeline(steps=[(&#x27;regressor&#x27;,\n",
       "                 &lt;catboost.core.CatBoostRegressor object at 0x0000022F4F910CA0&gt;)])</pre></div></div></div><div class=\"sk-serial\"><div class=\"sk-item\"><div class=\"sk-serial\"><div class=\"sk-item\"><div class=\"sk-estimator sk-toggleable\"><input class=\"sk-toggleable__control sk-hidden--visually\" id=\"sk-estimator-id-9\" type=\"checkbox\" ><label for=\"sk-estimator-id-9\" class=\"sk-toggleable__label sk-toggleable__label-arrow\">CatBoostRegressor</label><div class=\"sk-toggleable__content\"><pre>&lt;catboost.core.CatBoostRegressor object at 0x0000022F4F910CA0&gt;</pre></div></div></div></div></div></div></div></div></div></div></div></div>"
      ],
      "text/plain": [
       "RandomizedSearchCV(cv=3,\n",
       "                   estimator=Pipeline(steps=[('regressor',\n",
       "                                              <catboost.core.CatBoostRegressor object at 0x0000022F4F910CA0>)]),\n",
       "                   param_distributions=[{'regressor': [<catboost.core.CatBoostRegressor object at 0x0000022F4F9110C0>],\n",
       "                                         'regressor__depth': range(4, 12, 2),\n",
       "                                         'regressor__iterations': range(200, 1200, 200),\n",
       "                                         'regressor__learning_rate': array([0.01      , 0.02333333, 0.03666667, 0.05      , 0.06333333,\n",
       "       0.07666667, 0.09      ])}],\n",
       "                   scoring='neg_mean_squared_error', verbose=1)"
      ]
     },
     "execution_count": 61,
     "metadata": {},
     "output_type": "execute_result"
    }
   ],
   "source": [
    "%%time\n",
    "grid.fit(X_train, y_train)"
   ]
  },
  {
   "cell_type": "code",
   "execution_count": 62,
   "metadata": {},
   "outputs": [],
   "source": [
    "result = pd.DataFrame(grid.cv_results_)\n",
    "result[['split0_test_score','split1_test_score','split2_test_score','mean_test_score','std_test_score']] = \\\n",
    "(result[['split0_test_score','split1_test_score','split2_test_score','mean_test_score','std_test_score']]*-1)**0.5"
   ]
  },
  {
   "cell_type": "code",
   "execution_count": 63,
   "metadata": {},
   "outputs": [
    {
     "data": {
      "text/html": [
       "<div>\n",
       "<style scoped>\n",
       "    .dataframe tbody tr th:only-of-type {\n",
       "        vertical-align: middle;\n",
       "    }\n",
       "\n",
       "    .dataframe tbody tr th {\n",
       "        vertical-align: top;\n",
       "    }\n",
       "\n",
       "    .dataframe thead th {\n",
       "        text-align: right;\n",
       "    }\n",
       "</style>\n",
       "<table border=\"1\" class=\"dataframe\">\n",
       "  <thead>\n",
       "    <tr style=\"text-align: right;\">\n",
       "      <th></th>\n",
       "      <th>mean_fit_time</th>\n",
       "      <th>std_fit_time</th>\n",
       "      <th>mean_score_time</th>\n",
       "      <th>std_score_time</th>\n",
       "      <th>param_regressor__learning_rate</th>\n",
       "      <th>param_regressor__iterations</th>\n",
       "      <th>param_regressor__depth</th>\n",
       "      <th>param_regressor</th>\n",
       "      <th>params</th>\n",
       "      <th>split0_test_score</th>\n",
       "      <th>split1_test_score</th>\n",
       "      <th>split2_test_score</th>\n",
       "      <th>mean_test_score</th>\n",
       "      <th>std_test_score</th>\n",
       "      <th>rank_test_score</th>\n",
       "    </tr>\n",
       "  </thead>\n",
       "  <tbody>\n",
       "    <tr>\n",
       "      <th>6</th>\n",
       "      <td>10.902446</td>\n",
       "      <td>0.095686</td>\n",
       "      <td>0.003002</td>\n",
       "      <td>1.573482e-06</td>\n",
       "      <td>0.09</td>\n",
       "      <td>600</td>\n",
       "      <td>6</td>\n",
       "      <td>&lt;catboost.core.CatBoostRegressor object at 0x0...</td>\n",
       "      <td>{'regressor__learning_rate': 0.09, 'regressor_...</td>\n",
       "      <td>1101.061128</td>\n",
       "      <td>713.797674</td>\n",
       "      <td>899.876246</td>\n",
       "      <td>918.625783</td>\n",
       "      <td>NaN</td>\n",
       "      <td>1</td>\n",
       "    </tr>\n",
       "    <tr>\n",
       "      <th>0</th>\n",
       "      <td>20.639137</td>\n",
       "      <td>1.844969</td>\n",
       "      <td>0.004002</td>\n",
       "      <td>1.413830e-03</td>\n",
       "      <td>0.09</td>\n",
       "      <td>1000</td>\n",
       "      <td>6</td>\n",
       "      <td>&lt;catboost.core.CatBoostRegressor object at 0x0...</td>\n",
       "      <td>{'regressor__learning_rate': 0.09, 'regressor_...</td>\n",
       "      <td>1102.427564</td>\n",
       "      <td>715.262683</td>\n",
       "      <td>900.288303</td>\n",
       "      <td>919.685865</td>\n",
       "      <td>NaN</td>\n",
       "      <td>2</td>\n",
       "    </tr>\n",
       "    <tr>\n",
       "      <th>3</th>\n",
       "      <td>17.568792</td>\n",
       "      <td>0.063490</td>\n",
       "      <td>0.003333</td>\n",
       "      <td>4.709792e-04</td>\n",
       "      <td>0.09</td>\n",
       "      <td>600</td>\n",
       "      <td>8</td>\n",
       "      <td>&lt;catboost.core.CatBoostRegressor object at 0x0...</td>\n",
       "      <td>{'regressor__learning_rate': 0.09, 'regressor_...</td>\n",
       "      <td>1112.785800</td>\n",
       "      <td>718.937108</td>\n",
       "      <td>907.960439</td>\n",
       "      <td>927.281863</td>\n",
       "      <td>NaN</td>\n",
       "      <td>3</td>\n",
       "    </tr>\n",
       "    <tr>\n",
       "      <th>7</th>\n",
       "      <td>9.166378</td>\n",
       "      <td>0.074286</td>\n",
       "      <td>0.003673</td>\n",
       "      <td>4.766008e-04</td>\n",
       "      <td>0.036667</td>\n",
       "      <td>800</td>\n",
       "      <td>4</td>\n",
       "      <td>&lt;catboost.core.CatBoostRegressor object at 0x0...</td>\n",
       "      <td>{'regressor__learning_rate': 0.036666666666666...</td>\n",
       "      <td>1048.489060</td>\n",
       "      <td>707.378397</td>\n",
       "      <td>991.544296</td>\n",
       "      <td>927.878152</td>\n",
       "      <td>NaN</td>\n",
       "      <td>4</td>\n",
       "    </tr>\n",
       "    <tr>\n",
       "      <th>9</th>\n",
       "      <td>31.385876</td>\n",
       "      <td>2.348036</td>\n",
       "      <td>0.003667</td>\n",
       "      <td>4.710895e-04</td>\n",
       "      <td>0.023333</td>\n",
       "      <td>1000</td>\n",
       "      <td>8</td>\n",
       "      <td>&lt;catboost.core.CatBoostRegressor object at 0x0...</td>\n",
       "      <td>{'regressor__learning_rate': 0.023333333333333...</td>\n",
       "      <td>1130.569963</td>\n",
       "      <td>711.973277</td>\n",
       "      <td>937.798070</td>\n",
       "      <td>942.436489</td>\n",
       "      <td>NaN</td>\n",
       "      <td>5</td>\n",
       "    </tr>\n",
       "    <tr>\n",
       "      <th>4</th>\n",
       "      <td>22.105048</td>\n",
       "      <td>1.469353</td>\n",
       "      <td>0.003001</td>\n",
       "      <td>7.370010e-07</td>\n",
       "      <td>0.01</td>\n",
       "      <td>800</td>\n",
       "      <td>8</td>\n",
       "      <td>&lt;catboost.core.CatBoostRegressor object at 0x0...</td>\n",
       "      <td>{'regressor__learning_rate': 0.01, 'regressor_...</td>\n",
       "      <td>1129.355219</td>\n",
       "      <td>726.202150</td>\n",
       "      <td>949.873007</td>\n",
       "      <td>949.573852</td>\n",
       "      <td>NaN</td>\n",
       "      <td>6</td>\n",
       "    </tr>\n",
       "    <tr>\n",
       "      <th>2</th>\n",
       "      <td>35.873364</td>\n",
       "      <td>1.529871</td>\n",
       "      <td>0.004665</td>\n",
       "      <td>4.717638e-04</td>\n",
       "      <td>0.036667</td>\n",
       "      <td>800</td>\n",
       "      <td>10</td>\n",
       "      <td>&lt;catboost.core.CatBoostRegressor object at 0x0...</td>\n",
       "      <td>{'regressor__learning_rate': 0.036666666666666...</td>\n",
       "      <td>1163.754171</td>\n",
       "      <td>705.740281</td>\n",
       "      <td>938.398457</td>\n",
       "      <td>954.460542</td>\n",
       "      <td>NaN</td>\n",
       "      <td>7</td>\n",
       "    </tr>\n",
       "    <tr>\n",
       "      <th>8</th>\n",
       "      <td>17.303835</td>\n",
       "      <td>0.499827</td>\n",
       "      <td>0.003332</td>\n",
       "      <td>4.712580e-04</td>\n",
       "      <td>0.063333</td>\n",
       "      <td>400</td>\n",
       "      <td>10</td>\n",
       "      <td>&lt;catboost.core.CatBoostRegressor object at 0x0...</td>\n",
       "      <td>{'regressor__learning_rate': 0.063333333333333...</td>\n",
       "      <td>1160.823649</td>\n",
       "      <td>718.757529</td>\n",
       "      <td>945.394857</td>\n",
       "      <td>958.800530</td>\n",
       "      <td>NaN</td>\n",
       "      <td>8</td>\n",
       "    </tr>\n",
       "    <tr>\n",
       "      <th>5</th>\n",
       "      <td>2.351038</td>\n",
       "      <td>0.090777</td>\n",
       "      <td>0.001999</td>\n",
       "      <td>2.247832e-07</td>\n",
       "      <td>0.023333</td>\n",
       "      <td>200</td>\n",
       "      <td>4</td>\n",
       "      <td>&lt;catboost.core.CatBoostRegressor object at 0x0...</td>\n",
       "      <td>{'regressor__learning_rate': 0.023333333333333...</td>\n",
       "      <td>1122.715686</td>\n",
       "      <td>737.435080</td>\n",
       "      <td>986.138189</td>\n",
       "      <td>962.075800</td>\n",
       "      <td>NaN</td>\n",
       "      <td>9</td>\n",
       "    </tr>\n",
       "    <tr>\n",
       "      <th>1</th>\n",
       "      <td>8.434183</td>\n",
       "      <td>0.342995</td>\n",
       "      <td>0.193626</td>\n",
       "      <td>2.695863e-01</td>\n",
       "      <td>0.09</td>\n",
       "      <td>200</td>\n",
       "      <td>10</td>\n",
       "      <td>&lt;catboost.core.CatBoostRegressor object at 0x0...</td>\n",
       "      <td>{'regressor__learning_rate': 0.09, 'regressor_...</td>\n",
       "      <td>1161.871863</td>\n",
       "      <td>749.994083</td>\n",
       "      <td>965.858116</td>\n",
       "      <td>973.878714</td>\n",
       "      <td>NaN</td>\n",
       "      <td>10</td>\n",
       "    </tr>\n",
       "  </tbody>\n",
       "</table>\n",
       "</div>"
      ],
      "text/plain": [
       "   mean_fit_time  std_fit_time  mean_score_time  std_score_time  \\\n",
       "6      10.902446      0.095686         0.003002    1.573482e-06   \n",
       "0      20.639137      1.844969         0.004002    1.413830e-03   \n",
       "3      17.568792      0.063490         0.003333    4.709792e-04   \n",
       "7       9.166378      0.074286         0.003673    4.766008e-04   \n",
       "9      31.385876      2.348036         0.003667    4.710895e-04   \n",
       "4      22.105048      1.469353         0.003001    7.370010e-07   \n",
       "2      35.873364      1.529871         0.004665    4.717638e-04   \n",
       "8      17.303835      0.499827         0.003332    4.712580e-04   \n",
       "5       2.351038      0.090777         0.001999    2.247832e-07   \n",
       "1       8.434183      0.342995         0.193626    2.695863e-01   \n",
       "\n",
       "  param_regressor__learning_rate param_regressor__iterations  \\\n",
       "6                           0.09                         600   \n",
       "0                           0.09                        1000   \n",
       "3                           0.09                         600   \n",
       "7                       0.036667                         800   \n",
       "9                       0.023333                        1000   \n",
       "4                           0.01                         800   \n",
       "2                       0.036667                         800   \n",
       "8                       0.063333                         400   \n",
       "5                       0.023333                         200   \n",
       "1                           0.09                         200   \n",
       "\n",
       "  param_regressor__depth                                    param_regressor  \\\n",
       "6                      6  <catboost.core.CatBoostRegressor object at 0x0...   \n",
       "0                      6  <catboost.core.CatBoostRegressor object at 0x0...   \n",
       "3                      8  <catboost.core.CatBoostRegressor object at 0x0...   \n",
       "7                      4  <catboost.core.CatBoostRegressor object at 0x0...   \n",
       "9                      8  <catboost.core.CatBoostRegressor object at 0x0...   \n",
       "4                      8  <catboost.core.CatBoostRegressor object at 0x0...   \n",
       "2                     10  <catboost.core.CatBoostRegressor object at 0x0...   \n",
       "8                     10  <catboost.core.CatBoostRegressor object at 0x0...   \n",
       "5                      4  <catboost.core.CatBoostRegressor object at 0x0...   \n",
       "1                     10  <catboost.core.CatBoostRegressor object at 0x0...   \n",
       "\n",
       "                                              params  split0_test_score  \\\n",
       "6  {'regressor__learning_rate': 0.09, 'regressor_...        1101.061128   \n",
       "0  {'regressor__learning_rate': 0.09, 'regressor_...        1102.427564   \n",
       "3  {'regressor__learning_rate': 0.09, 'regressor_...        1112.785800   \n",
       "7  {'regressor__learning_rate': 0.036666666666666...        1048.489060   \n",
       "9  {'regressor__learning_rate': 0.023333333333333...        1130.569963   \n",
       "4  {'regressor__learning_rate': 0.01, 'regressor_...        1129.355219   \n",
       "2  {'regressor__learning_rate': 0.036666666666666...        1163.754171   \n",
       "8  {'regressor__learning_rate': 0.063333333333333...        1160.823649   \n",
       "5  {'regressor__learning_rate': 0.023333333333333...        1122.715686   \n",
       "1  {'regressor__learning_rate': 0.09, 'regressor_...        1161.871863   \n",
       "\n",
       "   split1_test_score  split2_test_score  mean_test_score  std_test_score  \\\n",
       "6         713.797674         899.876246       918.625783             NaN   \n",
       "0         715.262683         900.288303       919.685865             NaN   \n",
       "3         718.937108         907.960439       927.281863             NaN   \n",
       "7         707.378397         991.544296       927.878152             NaN   \n",
       "9         711.973277         937.798070       942.436489             NaN   \n",
       "4         726.202150         949.873007       949.573852             NaN   \n",
       "2         705.740281         938.398457       954.460542             NaN   \n",
       "8         718.757529         945.394857       958.800530             NaN   \n",
       "5         737.435080         986.138189       962.075800             NaN   \n",
       "1         749.994083         965.858116       973.878714             NaN   \n",
       "\n",
       "   rank_test_score  \n",
       "6                1  \n",
       "0                2  \n",
       "3                3  \n",
       "7                4  \n",
       "9                5  \n",
       "4                6  \n",
       "2                7  \n",
       "8                8  \n",
       "5                9  \n",
       "1               10  "
      ]
     },
     "execution_count": 63,
     "metadata": {},
     "output_type": "execute_result"
    }
   ],
   "source": [
    "result.sort_values('mean_test_score')"
   ]
  },
  {
   "cell_type": "code",
   "execution_count": 64,
   "metadata": {},
   "outputs": [],
   "source": [
    "import matplotlib.pyplot as plt"
   ]
  },
  {
   "cell_type": "code",
   "execution_count": 65,
   "metadata": {},
   "outputs": [
    {
     "name": "stdout",
     "output_type": "stream",
     "text": [
      "Requirement already satisfied: plotly in c:\\users\\user\\documents\\github\\magnitogorsk_real_estate\\.venv\\lib\\site-packages (5.15.0)\n",
      "Requirement already satisfied: tenacity>=6.2.0 in c:\\users\\user\\documents\\github\\magnitogorsk_real_estate\\.venv\\lib\\site-packages (from plotly) (8.2.3)\n",
      "Requirement already satisfied: packaging in c:\\users\\user\\documents\\github\\magnitogorsk_real_estate\\.venv\\lib\\site-packages (from plotly) (23.1)\n",
      "Note: you may need to restart the kernel to use updated packages.\n"
     ]
    }
   ],
   "source": [
    "%pip install plotly\n",
    "import plotly.express as px\n",
    "import plotly.graph_objects as go"
   ]
  },
  {
   "cell_type": "code",
   "execution_count": 66,
   "metadata": {},
   "outputs": [],
   "source": [
    "import seaborn as sns"
   ]
  },
  {
   "cell_type": "code",
   "execution_count": null,
   "metadata": {},
   "outputs": [],
   "source": []
  },
  {
   "cell_type": "code",
   "execution_count": 67,
   "metadata": {},
   "outputs": [
    {
     "data": {
      "text/html": [
       "<div>\n",
       "<style scoped>\n",
       "    .dataframe tbody tr th:only-of-type {\n",
       "        vertical-align: middle;\n",
       "    }\n",
       "\n",
       "    .dataframe tbody tr th {\n",
       "        vertical-align: top;\n",
       "    }\n",
       "\n",
       "    .dataframe thead th {\n",
       "        text-align: right;\n",
       "    }\n",
       "</style>\n",
       "<table border=\"1\" class=\"dataframe\">\n",
       "  <thead>\n",
       "    <tr style=\"text-align: right;\">\n",
       "      <th></th>\n",
       "      <th>species</th>\n",
       "      <th>island</th>\n",
       "      <th>bill_length_mm</th>\n",
       "      <th>bill_depth_mm</th>\n",
       "      <th>flipper_length_mm</th>\n",
       "      <th>body_mass_g</th>\n",
       "      <th>sex</th>\n",
       "    </tr>\n",
       "  </thead>\n",
       "  <tbody>\n",
       "    <tr>\n",
       "      <th>0</th>\n",
       "      <td>Adelie</td>\n",
       "      <td>Torgersen</td>\n",
       "      <td>39.1</td>\n",
       "      <td>18.7</td>\n",
       "      <td>181.0</td>\n",
       "      <td>3750.0</td>\n",
       "      <td>Male</td>\n",
       "    </tr>\n",
       "    <tr>\n",
       "      <th>1</th>\n",
       "      <td>Adelie</td>\n",
       "      <td>Torgersen</td>\n",
       "      <td>39.5</td>\n",
       "      <td>17.4</td>\n",
       "      <td>186.0</td>\n",
       "      <td>3800.0</td>\n",
       "      <td>Female</td>\n",
       "    </tr>\n",
       "    <tr>\n",
       "      <th>2</th>\n",
       "      <td>Adelie</td>\n",
       "      <td>Torgersen</td>\n",
       "      <td>40.3</td>\n",
       "      <td>18.0</td>\n",
       "      <td>195.0</td>\n",
       "      <td>3250.0</td>\n",
       "      <td>Female</td>\n",
       "    </tr>\n",
       "    <tr>\n",
       "      <th>3</th>\n",
       "      <td>Adelie</td>\n",
       "      <td>Torgersen</td>\n",
       "      <td>NaN</td>\n",
       "      <td>NaN</td>\n",
       "      <td>NaN</td>\n",
       "      <td>NaN</td>\n",
       "      <td>NaN</td>\n",
       "    </tr>\n",
       "    <tr>\n",
       "      <th>4</th>\n",
       "      <td>Adelie</td>\n",
       "      <td>Torgersen</td>\n",
       "      <td>36.7</td>\n",
       "      <td>19.3</td>\n",
       "      <td>193.0</td>\n",
       "      <td>3450.0</td>\n",
       "      <td>Female</td>\n",
       "    </tr>\n",
       "    <tr>\n",
       "      <th>...</th>\n",
       "      <td>...</td>\n",
       "      <td>...</td>\n",
       "      <td>...</td>\n",
       "      <td>...</td>\n",
       "      <td>...</td>\n",
       "      <td>...</td>\n",
       "      <td>...</td>\n",
       "    </tr>\n",
       "    <tr>\n",
       "      <th>339</th>\n",
       "      <td>Gentoo</td>\n",
       "      <td>Biscoe</td>\n",
       "      <td>NaN</td>\n",
       "      <td>NaN</td>\n",
       "      <td>NaN</td>\n",
       "      <td>NaN</td>\n",
       "      <td>NaN</td>\n",
       "    </tr>\n",
       "    <tr>\n",
       "      <th>340</th>\n",
       "      <td>Gentoo</td>\n",
       "      <td>Biscoe</td>\n",
       "      <td>46.8</td>\n",
       "      <td>14.3</td>\n",
       "      <td>215.0</td>\n",
       "      <td>4850.0</td>\n",
       "      <td>Female</td>\n",
       "    </tr>\n",
       "    <tr>\n",
       "      <th>341</th>\n",
       "      <td>Gentoo</td>\n",
       "      <td>Biscoe</td>\n",
       "      <td>50.4</td>\n",
       "      <td>15.7</td>\n",
       "      <td>222.0</td>\n",
       "      <td>5750.0</td>\n",
       "      <td>Male</td>\n",
       "    </tr>\n",
       "    <tr>\n",
       "      <th>342</th>\n",
       "      <td>Gentoo</td>\n",
       "      <td>Biscoe</td>\n",
       "      <td>45.2</td>\n",
       "      <td>14.8</td>\n",
       "      <td>212.0</td>\n",
       "      <td>5200.0</td>\n",
       "      <td>Female</td>\n",
       "    </tr>\n",
       "    <tr>\n",
       "      <th>343</th>\n",
       "      <td>Gentoo</td>\n",
       "      <td>Biscoe</td>\n",
       "      <td>49.9</td>\n",
       "      <td>16.1</td>\n",
       "      <td>213.0</td>\n",
       "      <td>5400.0</td>\n",
       "      <td>Male</td>\n",
       "    </tr>\n",
       "  </tbody>\n",
       "</table>\n",
       "<p>344 rows × 7 columns</p>\n",
       "</div>"
      ],
      "text/plain": [
       "    species     island  bill_length_mm  bill_depth_mm  flipper_length_mm  \\\n",
       "0    Adelie  Torgersen            39.1           18.7              181.0   \n",
       "1    Adelie  Torgersen            39.5           17.4              186.0   \n",
       "2    Adelie  Torgersen            40.3           18.0              195.0   \n",
       "3    Adelie  Torgersen             NaN            NaN                NaN   \n",
       "4    Adelie  Torgersen            36.7           19.3              193.0   \n",
       "..      ...        ...             ...            ...                ...   \n",
       "339  Gentoo     Biscoe             NaN            NaN                NaN   \n",
       "340  Gentoo     Biscoe            46.8           14.3              215.0   \n",
       "341  Gentoo     Biscoe            50.4           15.7              222.0   \n",
       "342  Gentoo     Biscoe            45.2           14.8              212.0   \n",
       "343  Gentoo     Biscoe            49.9           16.1              213.0   \n",
       "\n",
       "     body_mass_g     sex  \n",
       "0         3750.0    Male  \n",
       "1         3800.0  Female  \n",
       "2         3250.0  Female  \n",
       "3            NaN     NaN  \n",
       "4         3450.0  Female  \n",
       "..           ...     ...  \n",
       "339          NaN     NaN  \n",
       "340       4850.0  Female  \n",
       "341       5750.0    Male  \n",
       "342       5200.0  Female  \n",
       "343       5400.0    Male  \n",
       "\n",
       "[344 rows x 7 columns]"
      ]
     },
     "execution_count": 67,
     "metadata": {},
     "output_type": "execute_result"
    }
   ],
   "source": [
    "sns.load_dataset(\"penguins\")"
   ]
  },
  {
   "cell_type": "code",
   "execution_count": 68,
   "metadata": {},
   "outputs": [
    {
     "data": {
      "application/vnd.plotly.v1+json": {
       "config": {
        "plotlyServerURL": "https://plot.ly"
       },
       "data": [
        {
         "orientation": "h",
         "type": "bar",
         "x": [
          1.522072198549276,
          2.2524274042158208,
          2.4327432083223295,
          2.850160430623931,
          2.9493858704281486,
          3.0947890023765305,
          4.195267102736407,
          4.968324048328171,
          5.512577254855047,
          6.087018244469327,
          7.170843715572551,
          8.123764332972446,
          10.703799727241217,
          38.136827459308726
         ],
         "y": [
          "eternal_fire",
          "veter",
          "floor",
          "city_center",
          "attraction",
          "south",
          "park_eko",
          "district",
          "rooms",
          "floor_type",
          "total_floors",
          "living_area",
          "kitchen_area",
          "total_area"
         ]
        }
       ],
       "layout": {
        "height": 500,
        "template": {
         "data": {
          "bar": [
           {
            "error_x": {
             "color": "#2a3f5f"
            },
            "error_y": {
             "color": "#2a3f5f"
            },
            "marker": {
             "line": {
              "color": "#E5ECF6",
              "width": 0.5
             },
             "pattern": {
              "fillmode": "overlay",
              "size": 10,
              "solidity": 0.2
             }
            },
            "type": "bar"
           }
          ],
          "barpolar": [
           {
            "marker": {
             "line": {
              "color": "#E5ECF6",
              "width": 0.5
             },
             "pattern": {
              "fillmode": "overlay",
              "size": 10,
              "solidity": 0.2
             }
            },
            "type": "barpolar"
           }
          ],
          "carpet": [
           {
            "aaxis": {
             "endlinecolor": "#2a3f5f",
             "gridcolor": "white",
             "linecolor": "white",
             "minorgridcolor": "white",
             "startlinecolor": "#2a3f5f"
            },
            "baxis": {
             "endlinecolor": "#2a3f5f",
             "gridcolor": "white",
             "linecolor": "white",
             "minorgridcolor": "white",
             "startlinecolor": "#2a3f5f"
            },
            "type": "carpet"
           }
          ],
          "choropleth": [
           {
            "colorbar": {
             "outlinewidth": 0,
             "ticks": ""
            },
            "type": "choropleth"
           }
          ],
          "contour": [
           {
            "colorbar": {
             "outlinewidth": 0,
             "ticks": ""
            },
            "colorscale": [
             [
              0,
              "#0d0887"
             ],
             [
              0.1111111111111111,
              "#46039f"
             ],
             [
              0.2222222222222222,
              "#7201a8"
             ],
             [
              0.3333333333333333,
              "#9c179e"
             ],
             [
              0.4444444444444444,
              "#bd3786"
             ],
             [
              0.5555555555555556,
              "#d8576b"
             ],
             [
              0.6666666666666666,
              "#ed7953"
             ],
             [
              0.7777777777777778,
              "#fb9f3a"
             ],
             [
              0.8888888888888888,
              "#fdca26"
             ],
             [
              1,
              "#f0f921"
             ]
            ],
            "type": "contour"
           }
          ],
          "contourcarpet": [
           {
            "colorbar": {
             "outlinewidth": 0,
             "ticks": ""
            },
            "type": "contourcarpet"
           }
          ],
          "heatmap": [
           {
            "colorbar": {
             "outlinewidth": 0,
             "ticks": ""
            },
            "colorscale": [
             [
              0,
              "#0d0887"
             ],
             [
              0.1111111111111111,
              "#46039f"
             ],
             [
              0.2222222222222222,
              "#7201a8"
             ],
             [
              0.3333333333333333,
              "#9c179e"
             ],
             [
              0.4444444444444444,
              "#bd3786"
             ],
             [
              0.5555555555555556,
              "#d8576b"
             ],
             [
              0.6666666666666666,
              "#ed7953"
             ],
             [
              0.7777777777777778,
              "#fb9f3a"
             ],
             [
              0.8888888888888888,
              "#fdca26"
             ],
             [
              1,
              "#f0f921"
             ]
            ],
            "type": "heatmap"
           }
          ],
          "heatmapgl": [
           {
            "colorbar": {
             "outlinewidth": 0,
             "ticks": ""
            },
            "colorscale": [
             [
              0,
              "#0d0887"
             ],
             [
              0.1111111111111111,
              "#46039f"
             ],
             [
              0.2222222222222222,
              "#7201a8"
             ],
             [
              0.3333333333333333,
              "#9c179e"
             ],
             [
              0.4444444444444444,
              "#bd3786"
             ],
             [
              0.5555555555555556,
              "#d8576b"
             ],
             [
              0.6666666666666666,
              "#ed7953"
             ],
             [
              0.7777777777777778,
              "#fb9f3a"
             ],
             [
              0.8888888888888888,
              "#fdca26"
             ],
             [
              1,
              "#f0f921"
             ]
            ],
            "type": "heatmapgl"
           }
          ],
          "histogram": [
           {
            "marker": {
             "pattern": {
              "fillmode": "overlay",
              "size": 10,
              "solidity": 0.2
             }
            },
            "type": "histogram"
           }
          ],
          "histogram2d": [
           {
            "colorbar": {
             "outlinewidth": 0,
             "ticks": ""
            },
            "colorscale": [
             [
              0,
              "#0d0887"
             ],
             [
              0.1111111111111111,
              "#46039f"
             ],
             [
              0.2222222222222222,
              "#7201a8"
             ],
             [
              0.3333333333333333,
              "#9c179e"
             ],
             [
              0.4444444444444444,
              "#bd3786"
             ],
             [
              0.5555555555555556,
              "#d8576b"
             ],
             [
              0.6666666666666666,
              "#ed7953"
             ],
             [
              0.7777777777777778,
              "#fb9f3a"
             ],
             [
              0.8888888888888888,
              "#fdca26"
             ],
             [
              1,
              "#f0f921"
             ]
            ],
            "type": "histogram2d"
           }
          ],
          "histogram2dcontour": [
           {
            "colorbar": {
             "outlinewidth": 0,
             "ticks": ""
            },
            "colorscale": [
             [
              0,
              "#0d0887"
             ],
             [
              0.1111111111111111,
              "#46039f"
             ],
             [
              0.2222222222222222,
              "#7201a8"
             ],
             [
              0.3333333333333333,
              "#9c179e"
             ],
             [
              0.4444444444444444,
              "#bd3786"
             ],
             [
              0.5555555555555556,
              "#d8576b"
             ],
             [
              0.6666666666666666,
              "#ed7953"
             ],
             [
              0.7777777777777778,
              "#fb9f3a"
             ],
             [
              0.8888888888888888,
              "#fdca26"
             ],
             [
              1,
              "#f0f921"
             ]
            ],
            "type": "histogram2dcontour"
           }
          ],
          "mesh3d": [
           {
            "colorbar": {
             "outlinewidth": 0,
             "ticks": ""
            },
            "type": "mesh3d"
           }
          ],
          "parcoords": [
           {
            "line": {
             "colorbar": {
              "outlinewidth": 0,
              "ticks": ""
             }
            },
            "type": "parcoords"
           }
          ],
          "pie": [
           {
            "automargin": true,
            "type": "pie"
           }
          ],
          "scatter": [
           {
            "fillpattern": {
             "fillmode": "overlay",
             "size": 10,
             "solidity": 0.2
            },
            "type": "scatter"
           }
          ],
          "scatter3d": [
           {
            "line": {
             "colorbar": {
              "outlinewidth": 0,
              "ticks": ""
             }
            },
            "marker": {
             "colorbar": {
              "outlinewidth": 0,
              "ticks": ""
             }
            },
            "type": "scatter3d"
           }
          ],
          "scattercarpet": [
           {
            "marker": {
             "colorbar": {
              "outlinewidth": 0,
              "ticks": ""
             }
            },
            "type": "scattercarpet"
           }
          ],
          "scattergeo": [
           {
            "marker": {
             "colorbar": {
              "outlinewidth": 0,
              "ticks": ""
             }
            },
            "type": "scattergeo"
           }
          ],
          "scattergl": [
           {
            "marker": {
             "colorbar": {
              "outlinewidth": 0,
              "ticks": ""
             }
            },
            "type": "scattergl"
           }
          ],
          "scattermapbox": [
           {
            "marker": {
             "colorbar": {
              "outlinewidth": 0,
              "ticks": ""
             }
            },
            "type": "scattermapbox"
           }
          ],
          "scatterpolar": [
           {
            "marker": {
             "colorbar": {
              "outlinewidth": 0,
              "ticks": ""
             }
            },
            "type": "scatterpolar"
           }
          ],
          "scatterpolargl": [
           {
            "marker": {
             "colorbar": {
              "outlinewidth": 0,
              "ticks": ""
             }
            },
            "type": "scatterpolargl"
           }
          ],
          "scatterternary": [
           {
            "marker": {
             "colorbar": {
              "outlinewidth": 0,
              "ticks": ""
             }
            },
            "type": "scatterternary"
           }
          ],
          "surface": [
           {
            "colorbar": {
             "outlinewidth": 0,
             "ticks": ""
            },
            "colorscale": [
             [
              0,
              "#0d0887"
             ],
             [
              0.1111111111111111,
              "#46039f"
             ],
             [
              0.2222222222222222,
              "#7201a8"
             ],
             [
              0.3333333333333333,
              "#9c179e"
             ],
             [
              0.4444444444444444,
              "#bd3786"
             ],
             [
              0.5555555555555556,
              "#d8576b"
             ],
             [
              0.6666666666666666,
              "#ed7953"
             ],
             [
              0.7777777777777778,
              "#fb9f3a"
             ],
             [
              0.8888888888888888,
              "#fdca26"
             ],
             [
              1,
              "#f0f921"
             ]
            ],
            "type": "surface"
           }
          ],
          "table": [
           {
            "cells": {
             "fill": {
              "color": "#EBF0F8"
             },
             "line": {
              "color": "white"
             }
            },
            "header": {
             "fill": {
              "color": "#C8D4E3"
             },
             "line": {
              "color": "white"
             }
            },
            "type": "table"
           }
          ]
         },
         "layout": {
          "annotationdefaults": {
           "arrowcolor": "#2a3f5f",
           "arrowhead": 0,
           "arrowwidth": 1
          },
          "autotypenumbers": "strict",
          "coloraxis": {
           "colorbar": {
            "outlinewidth": 0,
            "ticks": ""
           }
          },
          "colorscale": {
           "diverging": [
            [
             0,
             "#8e0152"
            ],
            [
             0.1,
             "#c51b7d"
            ],
            [
             0.2,
             "#de77ae"
            ],
            [
             0.3,
             "#f1b6da"
            ],
            [
             0.4,
             "#fde0ef"
            ],
            [
             0.5,
             "#f7f7f7"
            ],
            [
             0.6,
             "#e6f5d0"
            ],
            [
             0.7,
             "#b8e186"
            ],
            [
             0.8,
             "#7fbc41"
            ],
            [
             0.9,
             "#4d9221"
            ],
            [
             1,
             "#276419"
            ]
           ],
           "sequential": [
            [
             0,
             "#0d0887"
            ],
            [
             0.1111111111111111,
             "#46039f"
            ],
            [
             0.2222222222222222,
             "#7201a8"
            ],
            [
             0.3333333333333333,
             "#9c179e"
            ],
            [
             0.4444444444444444,
             "#bd3786"
            ],
            [
             0.5555555555555556,
             "#d8576b"
            ],
            [
             0.6666666666666666,
             "#ed7953"
            ],
            [
             0.7777777777777778,
             "#fb9f3a"
            ],
            [
             0.8888888888888888,
             "#fdca26"
            ],
            [
             1,
             "#f0f921"
            ]
           ],
           "sequentialminus": [
            [
             0,
             "#0d0887"
            ],
            [
             0.1111111111111111,
             "#46039f"
            ],
            [
             0.2222222222222222,
             "#7201a8"
            ],
            [
             0.3333333333333333,
             "#9c179e"
            ],
            [
             0.4444444444444444,
             "#bd3786"
            ],
            [
             0.5555555555555556,
             "#d8576b"
            ],
            [
             0.6666666666666666,
             "#ed7953"
            ],
            [
             0.7777777777777778,
             "#fb9f3a"
            ],
            [
             0.8888888888888888,
             "#fdca26"
            ],
            [
             1,
             "#f0f921"
            ]
           ]
          },
          "colorway": [
           "#636efa",
           "#EF553B",
           "#00cc96",
           "#ab63fa",
           "#FFA15A",
           "#19d3f3",
           "#FF6692",
           "#B6E880",
           "#FF97FF",
           "#FECB52"
          ],
          "font": {
           "color": "#2a3f5f"
          },
          "geo": {
           "bgcolor": "white",
           "lakecolor": "white",
           "landcolor": "#E5ECF6",
           "showlakes": true,
           "showland": true,
           "subunitcolor": "white"
          },
          "hoverlabel": {
           "align": "left"
          },
          "hovermode": "closest",
          "mapbox": {
           "style": "light"
          },
          "paper_bgcolor": "white",
          "plot_bgcolor": "#E5ECF6",
          "polar": {
           "angularaxis": {
            "gridcolor": "white",
            "linecolor": "white",
            "ticks": ""
           },
           "bgcolor": "#E5ECF6",
           "radialaxis": {
            "gridcolor": "white",
            "linecolor": "white",
            "ticks": ""
           }
          },
          "scene": {
           "xaxis": {
            "backgroundcolor": "#E5ECF6",
            "gridcolor": "white",
            "gridwidth": 2,
            "linecolor": "white",
            "showbackground": true,
            "ticks": "",
            "zerolinecolor": "white"
           },
           "yaxis": {
            "backgroundcolor": "#E5ECF6",
            "gridcolor": "white",
            "gridwidth": 2,
            "linecolor": "white",
            "showbackground": true,
            "ticks": "",
            "zerolinecolor": "white"
           },
           "zaxis": {
            "backgroundcolor": "#E5ECF6",
            "gridcolor": "white",
            "gridwidth": 2,
            "linecolor": "white",
            "showbackground": true,
            "ticks": "",
            "zerolinecolor": "white"
           }
          },
          "shapedefaults": {
           "line": {
            "color": "#2a3f5f"
           }
          },
          "ternary": {
           "aaxis": {
            "gridcolor": "white",
            "linecolor": "white",
            "ticks": ""
           },
           "baxis": {
            "gridcolor": "white",
            "linecolor": "white",
            "ticks": ""
           },
           "bgcolor": "#E5ECF6",
           "caxis": {
            "gridcolor": "white",
            "linecolor": "white",
            "ticks": ""
           }
          },
          "title": {
           "x": 0.05
          },
          "xaxis": {
           "automargin": true,
           "gridcolor": "white",
           "linecolor": "white",
           "ticks": "",
           "title": {
            "standoff": 15
           },
           "zerolinecolor": "white",
           "zerolinewidth": 2
          },
          "yaxis": {
           "automargin": true,
           "gridcolor": "white",
           "linecolor": "white",
           "ticks": "",
           "title": {
            "standoff": 15
           },
           "zerolinecolor": "white",
           "zerolinewidth": 2
          }
         }
        },
        "width": 1500
       }
      }
     },
     "metadata": {},
     "output_type": "display_data"
    }
   ],
   "source": [
    "dset = pd.concat([pd.Series(X_train.columns), \n",
    "                  pd.Series(grid.best_estimator_.named_steps[\"regressor\"].feature_importances_)], axis= 1 )\n",
    "dset = dset.set_axis(['attr', 'importance'], \n",
    "                     axis=1).sort_values(by='importance', \n",
    "                                                ascending=True)\n",
    "fig = go.Figure(go.Bar(\n",
    "            x=dset[\"importance\"],\n",
    "            y=dset['attr'],\n",
    "            orientation='h'))\n",
    "\n",
    "fig.update_layout(width=1500, height=500)"
   ]
  },
  {
   "cell_type": "code",
   "execution_count": null,
   "metadata": {},
   "outputs": [],
   "source": []
  },
  {
   "cell_type": "code",
   "execution_count": 69,
   "metadata": {},
   "outputs": [
    {
     "name": "stdout",
     "output_type": "stream",
     "text": [
      "CPU times: total: 0 ns\n",
      "Wall time: 4 ms\n"
     ]
    }
   ],
   "source": [
    "%%time\n",
    "y_final = grid.best_estimator_.predict(X_test)"
   ]
  },
  {
   "cell_type": "code",
   "execution_count": 70,
   "metadata": {},
   "outputs": [
    {
     "data": {
      "text/plain": [
       "840.7404000988691"
      ]
     },
     "execution_count": 70,
     "metadata": {},
     "output_type": "execute_result"
    }
   ],
   "source": [
    "from sklearn.metrics import mean_squared_error\n",
    "mean_squared_error(y_test, y_final, squared=False)"
   ]
  },
  {
   "cell_type": "code",
   "execution_count": 71,
   "metadata": {},
   "outputs": [
    {
     "data": {
      "text/plain": [
       "['model.pkl']"
      ]
     },
     "execution_count": 71,
     "metadata": {},
     "output_type": "execute_result"
    }
   ],
   "source": [
    "import joblib\n",
    "joblib.dump(grid, \"model.pkl\")"
   ]
  }
 ],
 "metadata": {
  "kernelspec": {
   "display_name": ".venv",
   "language": "python",
   "name": "python3"
  },
  "language_info": {
   "codemirror_mode": {
    "name": "ipython",
    "version": 3
   },
   "file_extension": ".py",
   "mimetype": "text/x-python",
   "name": "python",
   "nbconvert_exporter": "python",
   "pygments_lexer": "ipython3",
   "version": "3.10.4"
  },
  "orig_nbformat": 4
 },
 "nbformat": 4,
 "nbformat_minor": 2
}
