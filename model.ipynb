{
 "cells": [
  {
   "cell_type": "code",
   "execution_count": null,
   "metadata": {},
   "outputs": [],
   "source": [
    "%pip install -r requirements.txt"
   ]
  },
  {
   "cell_type": "code",
   "execution_count": 2,
   "metadata": {},
   "outputs": [],
   "source": [
    "import numpy as np\n",
    "\n",
    "import pandas as pd\n",
    "\n",
    "from catboost import CatBoostRegressor\n",
    "\n",
    "from sklearn.model_selection import train_test_split\n",
    "from sklearn.pipeline import Pipeline\n",
    "from sklearn.model_selection import RandomizedSearchCV"
   ]
  },
  {
   "cell_type": "code",
   "execution_count": 52,
   "metadata": {},
   "outputs": [],
   "source": [
    "df = pd.read_csv('df_2.csv', index_col=0)"
   ]
  },
  {
   "cell_type": "code",
   "execution_count": 53,
   "metadata": {},
   "outputs": [],
   "source": [
    "df = df.drop(['date', 'day', 'month', 'year', 'dayofweek', 'street', 'lat_long', 'price_sq_meter'], axis=1)\n"
   ]
  },
  {
   "cell_type": "code",
   "execution_count": 72,
   "metadata": {},
   "outputs": [
    {
     "data": {
      "text/html": [
       "<div>\n",
       "<style scoped>\n",
       "    .dataframe tbody tr th:only-of-type {\n",
       "        vertical-align: middle;\n",
       "    }\n",
       "\n",
       "    .dataframe tbody tr th {\n",
       "        vertical-align: top;\n",
       "    }\n",
       "\n",
       "    .dataframe thead th {\n",
       "        text-align: right;\n",
       "    }\n",
       "</style>\n",
       "<table border=\"1\" class=\"dataframe\">\n",
       "  <thead>\n",
       "    <tr style=\"text-align: right;\">\n",
       "      <th></th>\n",
       "      <th>rooms</th>\n",
       "      <th>district</th>\n",
       "      <th>floor</th>\n",
       "      <th>total_floors</th>\n",
       "      <th>total_area</th>\n",
       "      <th>living_area</th>\n",
       "      <th>kitchen_area</th>\n",
       "      <th>price</th>\n",
       "      <th>park_eko</th>\n",
       "      <th>attraction</th>\n",
       "      <th>south</th>\n",
       "      <th>eternal_fire</th>\n",
       "      <th>veter</th>\n",
       "      <th>city_center</th>\n",
       "      <th>floor_type</th>\n",
       "    </tr>\n",
       "  </thead>\n",
       "  <tbody>\n",
       "    <tr>\n",
       "      <th>0</th>\n",
       "      <td>2</td>\n",
       "      <td>nan</td>\n",
       "      <td>5.0</td>\n",
       "      <td>9.0</td>\n",
       "      <td>49.8</td>\n",
       "      <td>30.0</td>\n",
       "      <td>9.0</td>\n",
       "      <td>4000.0</td>\n",
       "      <td>NaN</td>\n",
       "      <td>NaN</td>\n",
       "      <td>NaN</td>\n",
       "      <td>NaN</td>\n",
       "      <td>NaN</td>\n",
       "      <td>NaN</td>\n",
       "      <td>middle</td>\n",
       "    </tr>\n",
       "    <tr>\n",
       "      <th>1</th>\n",
       "      <td>2</td>\n",
       "      <td>Орджоникидзевский</td>\n",
       "      <td>13.0</td>\n",
       "      <td>14.0</td>\n",
       "      <td>66.2</td>\n",
       "      <td>40.0</td>\n",
       "      <td>10.5</td>\n",
       "      <td>3999.0</td>\n",
       "      <td>5.49</td>\n",
       "      <td>3.89</td>\n",
       "      <td>1.61</td>\n",
       "      <td>4.77</td>\n",
       "      <td>7.27</td>\n",
       "      <td>5.08</td>\n",
       "      <td>middle</td>\n",
       "    </tr>\n",
       "    <tr>\n",
       "      <th>2</th>\n",
       "      <td>3</td>\n",
       "      <td>Орджоникидзевский</td>\n",
       "      <td>7.0</td>\n",
       "      <td>10.0</td>\n",
       "      <td>65.0</td>\n",
       "      <td>46.0</td>\n",
       "      <td>9.0</td>\n",
       "      <td>5400.0</td>\n",
       "      <td>5.72</td>\n",
       "      <td>3.45</td>\n",
       "      <td>1.33</td>\n",
       "      <td>6.16</td>\n",
       "      <td>8.81</td>\n",
       "      <td>6.18</td>\n",
       "      <td>middle</td>\n",
       "    </tr>\n",
       "    <tr>\n",
       "      <th>3</th>\n",
       "      <td>3</td>\n",
       "      <td>Ленинский</td>\n",
       "      <td>5.0</td>\n",
       "      <td>5.0</td>\n",
       "      <td>62.4</td>\n",
       "      <td>43.0</td>\n",
       "      <td>8.0</td>\n",
       "      <td>4500.0</td>\n",
       "      <td>2.63</td>\n",
       "      <td>4.23</td>\n",
       "      <td>6.86</td>\n",
       "      <td>0.88</td>\n",
       "      <td>1.94</td>\n",
       "      <td>0.85</td>\n",
       "      <td>last</td>\n",
       "    </tr>\n",
       "    <tr>\n",
       "      <th>4</th>\n",
       "      <td>1</td>\n",
       "      <td>Ленинский</td>\n",
       "      <td>4.0</td>\n",
       "      <td>4.0</td>\n",
       "      <td>32.4</td>\n",
       "      <td>17.0</td>\n",
       "      <td>6.0</td>\n",
       "      <td>2300.0</td>\n",
       "      <td>4.14</td>\n",
       "      <td>6.30</td>\n",
       "      <td>9.34</td>\n",
       "      <td>3.38</td>\n",
       "      <td>1.50</td>\n",
       "      <td>3.16</td>\n",
       "      <td>last</td>\n",
       "    </tr>\n",
       "    <tr>\n",
       "      <th>...</th>\n",
       "      <td>...</td>\n",
       "      <td>...</td>\n",
       "      <td>...</td>\n",
       "      <td>...</td>\n",
       "      <td>...</td>\n",
       "      <td>...</td>\n",
       "      <td>...</td>\n",
       "      <td>...</td>\n",
       "      <td>...</td>\n",
       "      <td>...</td>\n",
       "      <td>...</td>\n",
       "      <td>...</td>\n",
       "      <td>...</td>\n",
       "      <td>...</td>\n",
       "      <td>...</td>\n",
       "    </tr>\n",
       "    <tr>\n",
       "      <th>460</th>\n",
       "      <td>3</td>\n",
       "      <td>Ленинский</td>\n",
       "      <td>5.0</td>\n",
       "      <td>5.0</td>\n",
       "      <td>74.0</td>\n",
       "      <td>56.0</td>\n",
       "      <td>9.0</td>\n",
       "      <td>5500.0</td>\n",
       "      <td>4.32</td>\n",
       "      <td>6.22</td>\n",
       "      <td>8.82</td>\n",
       "      <td>2.81</td>\n",
       "      <td>0.34</td>\n",
       "      <td>2.86</td>\n",
       "      <td>last</td>\n",
       "    </tr>\n",
       "    <tr>\n",
       "      <th>461</th>\n",
       "      <td>2</td>\n",
       "      <td>Ленинский</td>\n",
       "      <td>1.0</td>\n",
       "      <td>5.0</td>\n",
       "      <td>41.0</td>\n",
       "      <td>22.2</td>\n",
       "      <td>7.2</td>\n",
       "      <td>930.0</td>\n",
       "      <td>12.63</td>\n",
       "      <td>14.30</td>\n",
       "      <td>15.76</td>\n",
       "      <td>10.60</td>\n",
       "      <td>8.28</td>\n",
       "      <td>10.96</td>\n",
       "      <td>first</td>\n",
       "    </tr>\n",
       "    <tr>\n",
       "      <th>462</th>\n",
       "      <td>2</td>\n",
       "      <td>Правобережный</td>\n",
       "      <td>5.0</td>\n",
       "      <td>5.0</td>\n",
       "      <td>42.5</td>\n",
       "      <td>29.0</td>\n",
       "      <td>6.0</td>\n",
       "      <td>2650.0</td>\n",
       "      <td>1.74</td>\n",
       "      <td>3.41</td>\n",
       "      <td>6.40</td>\n",
       "      <td>1.03</td>\n",
       "      <td>2.77</td>\n",
       "      <td>0.31</td>\n",
       "      <td>last</td>\n",
       "    </tr>\n",
       "    <tr>\n",
       "      <th>463</th>\n",
       "      <td>2</td>\n",
       "      <td>Орджоникидзевский</td>\n",
       "      <td>3.0</td>\n",
       "      <td>9.0</td>\n",
       "      <td>50.0</td>\n",
       "      <td>30.0</td>\n",
       "      <td>9.0</td>\n",
       "      <td>3350.0</td>\n",
       "      <td>5.87</td>\n",
       "      <td>4.29</td>\n",
       "      <td>1.65</td>\n",
       "      <td>5.06</td>\n",
       "      <td>7.53</td>\n",
       "      <td>5.41</td>\n",
       "      <td>middle</td>\n",
       "    </tr>\n",
       "    <tr>\n",
       "      <th>464</th>\n",
       "      <td>3</td>\n",
       "      <td>Орджоникидзевский</td>\n",
       "      <td>1.0</td>\n",
       "      <td>7.0</td>\n",
       "      <td>70.0</td>\n",
       "      <td>46.0</td>\n",
       "      <td>8.0</td>\n",
       "      <td>4600.0</td>\n",
       "      <td>5.80</td>\n",
       "      <td>4.20</td>\n",
       "      <td>1.59</td>\n",
       "      <td>5.02</td>\n",
       "      <td>7.50</td>\n",
       "      <td>5.36</td>\n",
       "      <td>first</td>\n",
       "    </tr>\n",
       "  </tbody>\n",
       "</table>\n",
       "<p>459 rows × 15 columns</p>\n",
       "</div>"
      ],
      "text/plain": [
       "     rooms           district floor total_floors  total_area  living_area  \\\n",
       "0        2                nan   5.0          9.0        49.8         30.0   \n",
       "1        2  Орджоникидзевский  13.0         14.0        66.2         40.0   \n",
       "2        3  Орджоникидзевский   7.0         10.0        65.0         46.0   \n",
       "3        3          Ленинский   5.0          5.0        62.4         43.0   \n",
       "4        1          Ленинский   4.0          4.0        32.4         17.0   \n",
       "..     ...                ...   ...          ...         ...          ...   \n",
       "460      3          Ленинский   5.0          5.0        74.0         56.0   \n",
       "461      2          Ленинский   1.0          5.0        41.0         22.2   \n",
       "462      2      Правобережный   5.0          5.0        42.5         29.0   \n",
       "463      2  Орджоникидзевский   3.0          9.0        50.0         30.0   \n",
       "464      3  Орджоникидзевский   1.0          7.0        70.0         46.0   \n",
       "\n",
       "     kitchen_area   price  park_eko  attraction  south  eternal_fire  veter  \\\n",
       "0             9.0  4000.0       NaN         NaN    NaN           NaN    NaN   \n",
       "1            10.5  3999.0      5.49        3.89   1.61          4.77   7.27   \n",
       "2             9.0  5400.0      5.72        3.45   1.33          6.16   8.81   \n",
       "3             8.0  4500.0      2.63        4.23   6.86          0.88   1.94   \n",
       "4             6.0  2300.0      4.14        6.30   9.34          3.38   1.50   \n",
       "..            ...     ...       ...         ...    ...           ...    ...   \n",
       "460           9.0  5500.0      4.32        6.22   8.82          2.81   0.34   \n",
       "461           7.2   930.0     12.63       14.30  15.76         10.60   8.28   \n",
       "462           6.0  2650.0      1.74        3.41   6.40          1.03   2.77   \n",
       "463           9.0  3350.0      5.87        4.29   1.65          5.06   7.53   \n",
       "464           8.0  4600.0      5.80        4.20   1.59          5.02   7.50   \n",
       "\n",
       "     city_center floor_type  \n",
       "0            NaN     middle  \n",
       "1           5.08     middle  \n",
       "2           6.18     middle  \n",
       "3           0.85       last  \n",
       "4           3.16       last  \n",
       "..           ...        ...  \n",
       "460         2.86       last  \n",
       "461        10.96      first  \n",
       "462         0.31       last  \n",
       "463         5.41     middle  \n",
       "464         5.36      first  \n",
       "\n",
       "[459 rows x 15 columns]"
      ]
     },
     "execution_count": 72,
     "metadata": {},
     "output_type": "execute_result"
    }
   ],
   "source": [
    "df"
   ]
  },
  {
   "cell_type": "code",
   "execution_count": 57,
   "metadata": {},
   "outputs": [],
   "source": [
    "categorical = ['district', 'floor', 'total_floors', 'floor_type']\n",
    "\n",
    "df[categorical] = df[categorical].astype(str)"
   ]
  },
  {
   "cell_type": "code",
   "execution_count": 58,
   "metadata": {},
   "outputs": [],
   "source": [
    "X = df.drop(['price'], axis=1)\n",
    "y = df['price']\n",
    "\n",
    "X_train, X_test, y_train, y_test = train_test_split(X, y, \n",
    "                                                    test_size=0.25, \n",
    "                                                    random_state=47,\n",
    "                                                    shuffle=True,\n",
    "                                                    #stratify=df['price']\n",
    "                                                    )"
   ]
  },
  {
   "cell_type": "code",
   "execution_count": 59,
   "metadata": {},
   "outputs": [
    {
     "name": "stdout",
     "output_type": "stream",
     "text": [
      "Категориальные признаки: ['district', 'floor', 'total_floors', 'floor_type']\n",
      "Числовые признаки: ['eternal_fire', 'total_area', 'south', 'kitchen_area', 'park_eko', 'veter', 'city_center', 'rooms', 'living_area', 'attraction']\n"
     ]
    }
   ],
   "source": [
    "print(f\"Категориальные признаки: {categorical}\")\n",
    "\n",
    "numerical = list(set(X_train.columns) - set(categorical))\n",
    "print(f\"Числовые признаки: {numerical}\")"
   ]
  },
  {
   "cell_type": "code",
   "execution_count": 60,
   "metadata": {},
   "outputs": [],
   "source": [
    "pipe = Pipeline(\n",
    "    [\n",
    "        (\"regressor\", CatBoostRegressor())\n",
    "    ]\n",
    ")\n",
    "\n",
    "param_grid = [\n",
    "    {\n",
    "        'regressor': [CatBoostRegressor(random_state=47, \n",
    "                                        eval_metric='RMSE',\n",
    "                                        verbose=100,\n",
    "                                        #silent=True,\n",
    "                                        cat_features=categorical,\n",
    "                                        early_stopping_rounds=20)],\n",
    "        'regressor__depth': range(4, 12, 2),\n",
    "        'regressor__learning_rate': np.linspace(0.01, 0.09, 7),\n",
    "        'regressor__iterations': range(200, 1200, 200)\n",
    "    }\n",
    "]\n",
    "\n",
    "grid = RandomizedSearchCV(pipe, param_grid, \n",
    "                          n_iter=10 ,\n",
    "                          cv=3, \n",
    "                          scoring = 'neg_mean_squared_error', \n",
    "                          verbose=1)"
   ]
  },
  {
   "cell_type": "code",
   "execution_count": null,
   "metadata": {},
   "outputs": [],
   "source": [
    "%%time\n",
    "grid.fit(X_train, y_train)"
   ]
  },
  {
   "cell_type": "code",
   "execution_count": 62,
   "metadata": {},
   "outputs": [],
   "source": [
    "result = pd.DataFrame(grid.cv_results_)\n",
    "result[['split0_test_score','split1_test_score','split2_test_score','mean_test_score','std_test_score']] = \\\n",
    "(result[['split0_test_score','split1_test_score','split2_test_score','mean_test_score','std_test_score']]*-1)**0.5"
   ]
  },
  {
   "cell_type": "code",
   "execution_count": 63,
   "metadata": {},
   "outputs": [
    {
     "data": {
      "text/html": [
       "<div>\n",
       "<style scoped>\n",
       "    .dataframe tbody tr th:only-of-type {\n",
       "        vertical-align: middle;\n",
       "    }\n",
       "\n",
       "    .dataframe tbody tr th {\n",
       "        vertical-align: top;\n",
       "    }\n",
       "\n",
       "    .dataframe thead th {\n",
       "        text-align: right;\n",
       "    }\n",
       "</style>\n",
       "<table border=\"1\" class=\"dataframe\">\n",
       "  <thead>\n",
       "    <tr style=\"text-align: right;\">\n",
       "      <th></th>\n",
       "      <th>mean_fit_time</th>\n",
       "      <th>std_fit_time</th>\n",
       "      <th>mean_score_time</th>\n",
       "      <th>std_score_time</th>\n",
       "      <th>param_regressor__learning_rate</th>\n",
       "      <th>param_regressor__iterations</th>\n",
       "      <th>param_regressor__depth</th>\n",
       "      <th>param_regressor</th>\n",
       "      <th>params</th>\n",
       "      <th>split0_test_score</th>\n",
       "      <th>split1_test_score</th>\n",
       "      <th>split2_test_score</th>\n",
       "      <th>mean_test_score</th>\n",
       "      <th>std_test_score</th>\n",
       "      <th>rank_test_score</th>\n",
       "    </tr>\n",
       "  </thead>\n",
       "  <tbody>\n",
       "    <tr>\n",
       "      <th>6</th>\n",
       "      <td>10.902446</td>\n",
       "      <td>0.095686</td>\n",
       "      <td>0.003002</td>\n",
       "      <td>1.573482e-06</td>\n",
       "      <td>0.09</td>\n",
       "      <td>600</td>\n",
       "      <td>6</td>\n",
       "      <td>&lt;catboost.core.CatBoostRegressor object at 0x0...</td>\n",
       "      <td>{'regressor__learning_rate': 0.09, 'regressor_...</td>\n",
       "      <td>1101.061128</td>\n",
       "      <td>713.797674</td>\n",
       "      <td>899.876246</td>\n",
       "      <td>918.625783</td>\n",
       "      <td>NaN</td>\n",
       "      <td>1</td>\n",
       "    </tr>\n",
       "    <tr>\n",
       "      <th>0</th>\n",
       "      <td>20.639137</td>\n",
       "      <td>1.844969</td>\n",
       "      <td>0.004002</td>\n",
       "      <td>1.413830e-03</td>\n",
       "      <td>0.09</td>\n",
       "      <td>1000</td>\n",
       "      <td>6</td>\n",
       "      <td>&lt;catboost.core.CatBoostRegressor object at 0x0...</td>\n",
       "      <td>{'regressor__learning_rate': 0.09, 'regressor_...</td>\n",
       "      <td>1102.427564</td>\n",
       "      <td>715.262683</td>\n",
       "      <td>900.288303</td>\n",
       "      <td>919.685865</td>\n",
       "      <td>NaN</td>\n",
       "      <td>2</td>\n",
       "    </tr>\n",
       "    <tr>\n",
       "      <th>3</th>\n",
       "      <td>17.568792</td>\n",
       "      <td>0.063490</td>\n",
       "      <td>0.003333</td>\n",
       "      <td>4.709792e-04</td>\n",
       "      <td>0.09</td>\n",
       "      <td>600</td>\n",
       "      <td>8</td>\n",
       "      <td>&lt;catboost.core.CatBoostRegressor object at 0x0...</td>\n",
       "      <td>{'regressor__learning_rate': 0.09, 'regressor_...</td>\n",
       "      <td>1112.785800</td>\n",
       "      <td>718.937108</td>\n",
       "      <td>907.960439</td>\n",
       "      <td>927.281863</td>\n",
       "      <td>NaN</td>\n",
       "      <td>3</td>\n",
       "    </tr>\n",
       "    <tr>\n",
       "      <th>7</th>\n",
       "      <td>9.166378</td>\n",
       "      <td>0.074286</td>\n",
       "      <td>0.003673</td>\n",
       "      <td>4.766008e-04</td>\n",
       "      <td>0.036667</td>\n",
       "      <td>800</td>\n",
       "      <td>4</td>\n",
       "      <td>&lt;catboost.core.CatBoostRegressor object at 0x0...</td>\n",
       "      <td>{'regressor__learning_rate': 0.036666666666666...</td>\n",
       "      <td>1048.489060</td>\n",
       "      <td>707.378397</td>\n",
       "      <td>991.544296</td>\n",
       "      <td>927.878152</td>\n",
       "      <td>NaN</td>\n",
       "      <td>4</td>\n",
       "    </tr>\n",
       "    <tr>\n",
       "      <th>9</th>\n",
       "      <td>31.385876</td>\n",
       "      <td>2.348036</td>\n",
       "      <td>0.003667</td>\n",
       "      <td>4.710895e-04</td>\n",
       "      <td>0.023333</td>\n",
       "      <td>1000</td>\n",
       "      <td>8</td>\n",
       "      <td>&lt;catboost.core.CatBoostRegressor object at 0x0...</td>\n",
       "      <td>{'regressor__learning_rate': 0.023333333333333...</td>\n",
       "      <td>1130.569963</td>\n",
       "      <td>711.973277</td>\n",
       "      <td>937.798070</td>\n",
       "      <td>942.436489</td>\n",
       "      <td>NaN</td>\n",
       "      <td>5</td>\n",
       "    </tr>\n",
       "    <tr>\n",
       "      <th>4</th>\n",
       "      <td>22.105048</td>\n",
       "      <td>1.469353</td>\n",
       "      <td>0.003001</td>\n",
       "      <td>7.370010e-07</td>\n",
       "      <td>0.01</td>\n",
       "      <td>800</td>\n",
       "      <td>8</td>\n",
       "      <td>&lt;catboost.core.CatBoostRegressor object at 0x0...</td>\n",
       "      <td>{'regressor__learning_rate': 0.01, 'regressor_...</td>\n",
       "      <td>1129.355219</td>\n",
       "      <td>726.202150</td>\n",
       "      <td>949.873007</td>\n",
       "      <td>949.573852</td>\n",
       "      <td>NaN</td>\n",
       "      <td>6</td>\n",
       "    </tr>\n",
       "    <tr>\n",
       "      <th>2</th>\n",
       "      <td>35.873364</td>\n",
       "      <td>1.529871</td>\n",
       "      <td>0.004665</td>\n",
       "      <td>4.717638e-04</td>\n",
       "      <td>0.036667</td>\n",
       "      <td>800</td>\n",
       "      <td>10</td>\n",
       "      <td>&lt;catboost.core.CatBoostRegressor object at 0x0...</td>\n",
       "      <td>{'regressor__learning_rate': 0.036666666666666...</td>\n",
       "      <td>1163.754171</td>\n",
       "      <td>705.740281</td>\n",
       "      <td>938.398457</td>\n",
       "      <td>954.460542</td>\n",
       "      <td>NaN</td>\n",
       "      <td>7</td>\n",
       "    </tr>\n",
       "    <tr>\n",
       "      <th>8</th>\n",
       "      <td>17.303835</td>\n",
       "      <td>0.499827</td>\n",
       "      <td>0.003332</td>\n",
       "      <td>4.712580e-04</td>\n",
       "      <td>0.063333</td>\n",
       "      <td>400</td>\n",
       "      <td>10</td>\n",
       "      <td>&lt;catboost.core.CatBoostRegressor object at 0x0...</td>\n",
       "      <td>{'regressor__learning_rate': 0.063333333333333...</td>\n",
       "      <td>1160.823649</td>\n",
       "      <td>718.757529</td>\n",
       "      <td>945.394857</td>\n",
       "      <td>958.800530</td>\n",
       "      <td>NaN</td>\n",
       "      <td>8</td>\n",
       "    </tr>\n",
       "    <tr>\n",
       "      <th>5</th>\n",
       "      <td>2.351038</td>\n",
       "      <td>0.090777</td>\n",
       "      <td>0.001999</td>\n",
       "      <td>2.247832e-07</td>\n",
       "      <td>0.023333</td>\n",
       "      <td>200</td>\n",
       "      <td>4</td>\n",
       "      <td>&lt;catboost.core.CatBoostRegressor object at 0x0...</td>\n",
       "      <td>{'regressor__learning_rate': 0.023333333333333...</td>\n",
       "      <td>1122.715686</td>\n",
       "      <td>737.435080</td>\n",
       "      <td>986.138189</td>\n",
       "      <td>962.075800</td>\n",
       "      <td>NaN</td>\n",
       "      <td>9</td>\n",
       "    </tr>\n",
       "    <tr>\n",
       "      <th>1</th>\n",
       "      <td>8.434183</td>\n",
       "      <td>0.342995</td>\n",
       "      <td>0.193626</td>\n",
       "      <td>2.695863e-01</td>\n",
       "      <td>0.09</td>\n",
       "      <td>200</td>\n",
       "      <td>10</td>\n",
       "      <td>&lt;catboost.core.CatBoostRegressor object at 0x0...</td>\n",
       "      <td>{'regressor__learning_rate': 0.09, 'regressor_...</td>\n",
       "      <td>1161.871863</td>\n",
       "      <td>749.994083</td>\n",
       "      <td>965.858116</td>\n",
       "      <td>973.878714</td>\n",
       "      <td>NaN</td>\n",
       "      <td>10</td>\n",
       "    </tr>\n",
       "  </tbody>\n",
       "</table>\n",
       "</div>"
      ],
      "text/plain": [
       "   mean_fit_time  std_fit_time  mean_score_time  std_score_time  \\\n",
       "6      10.902446      0.095686         0.003002    1.573482e-06   \n",
       "0      20.639137      1.844969         0.004002    1.413830e-03   \n",
       "3      17.568792      0.063490         0.003333    4.709792e-04   \n",
       "7       9.166378      0.074286         0.003673    4.766008e-04   \n",
       "9      31.385876      2.348036         0.003667    4.710895e-04   \n",
       "4      22.105048      1.469353         0.003001    7.370010e-07   \n",
       "2      35.873364      1.529871         0.004665    4.717638e-04   \n",
       "8      17.303835      0.499827         0.003332    4.712580e-04   \n",
       "5       2.351038      0.090777         0.001999    2.247832e-07   \n",
       "1       8.434183      0.342995         0.193626    2.695863e-01   \n",
       "\n",
       "  param_regressor__learning_rate param_regressor__iterations  \\\n",
       "6                           0.09                         600   \n",
       "0                           0.09                        1000   \n",
       "3                           0.09                         600   \n",
       "7                       0.036667                         800   \n",
       "9                       0.023333                        1000   \n",
       "4                           0.01                         800   \n",
       "2                       0.036667                         800   \n",
       "8                       0.063333                         400   \n",
       "5                       0.023333                         200   \n",
       "1                           0.09                         200   \n",
       "\n",
       "  param_regressor__depth                                    param_regressor  \\\n",
       "6                      6  <catboost.core.CatBoostRegressor object at 0x0...   \n",
       "0                      6  <catboost.core.CatBoostRegressor object at 0x0...   \n",
       "3                      8  <catboost.core.CatBoostRegressor object at 0x0...   \n",
       "7                      4  <catboost.core.CatBoostRegressor object at 0x0...   \n",
       "9                      8  <catboost.core.CatBoostRegressor object at 0x0...   \n",
       "4                      8  <catboost.core.CatBoostRegressor object at 0x0...   \n",
       "2                     10  <catboost.core.CatBoostRegressor object at 0x0...   \n",
       "8                     10  <catboost.core.CatBoostRegressor object at 0x0...   \n",
       "5                      4  <catboost.core.CatBoostRegressor object at 0x0...   \n",
       "1                     10  <catboost.core.CatBoostRegressor object at 0x0...   \n",
       "\n",
       "                                              params  split0_test_score  \\\n",
       "6  {'regressor__learning_rate': 0.09, 'regressor_...        1101.061128   \n",
       "0  {'regressor__learning_rate': 0.09, 'regressor_...        1102.427564   \n",
       "3  {'regressor__learning_rate': 0.09, 'regressor_...        1112.785800   \n",
       "7  {'regressor__learning_rate': 0.036666666666666...        1048.489060   \n",
       "9  {'regressor__learning_rate': 0.023333333333333...        1130.569963   \n",
       "4  {'regressor__learning_rate': 0.01, 'regressor_...        1129.355219   \n",
       "2  {'regressor__learning_rate': 0.036666666666666...        1163.754171   \n",
       "8  {'regressor__learning_rate': 0.063333333333333...        1160.823649   \n",
       "5  {'regressor__learning_rate': 0.023333333333333...        1122.715686   \n",
       "1  {'regressor__learning_rate': 0.09, 'regressor_...        1161.871863   \n",
       "\n",
       "   split1_test_score  split2_test_score  mean_test_score  std_test_score  \\\n",
       "6         713.797674         899.876246       918.625783             NaN   \n",
       "0         715.262683         900.288303       919.685865             NaN   \n",
       "3         718.937108         907.960439       927.281863             NaN   \n",
       "7         707.378397         991.544296       927.878152             NaN   \n",
       "9         711.973277         937.798070       942.436489             NaN   \n",
       "4         726.202150         949.873007       949.573852             NaN   \n",
       "2         705.740281         938.398457       954.460542             NaN   \n",
       "8         718.757529         945.394857       958.800530             NaN   \n",
       "5         737.435080         986.138189       962.075800             NaN   \n",
       "1         749.994083         965.858116       973.878714             NaN   \n",
       "\n",
       "   rank_test_score  \n",
       "6                1  \n",
       "0                2  \n",
       "3                3  \n",
       "7                4  \n",
       "9                5  \n",
       "4                6  \n",
       "2                7  \n",
       "8                8  \n",
       "5                9  \n",
       "1               10  "
      ]
     },
     "execution_count": 63,
     "metadata": {},
     "output_type": "execute_result"
    }
   ],
   "source": [
    "result.sort_values('mean_test_score')"
   ]
  },
  {
   "cell_type": "code",
   "execution_count": 68,
   "metadata": {},
   "outputs": [
    {
     "data": {
      "application/vnd.plotly.v1+json": {
       "config": {
        "plotlyServerURL": "https://plot.ly"
       },
       "data": [
        {
         "orientation": "h",
         "type": "bar",
         "x": [
          1.522072198549276,
          2.2524274042158208,
          2.4327432083223295,
          2.850160430623931,
          2.9493858704281486,
          3.0947890023765305,
          4.195267102736407,
          4.968324048328171,
          5.512577254855047,
          6.087018244469327,
          7.170843715572551,
          8.123764332972446,
          10.703799727241217,
          38.136827459308726
         ],
         "y": [
          "eternal_fire",
          "veter",
          "floor",
          "city_center",
          "attraction",
          "south",
          "park_eko",
          "district",
          "rooms",
          "floor_type",
          "total_floors",
          "living_area",
          "kitchen_area",
          "total_area"
         ]
        }
       ],
       "layout": {
        "height": 500,
        "template": {
         "data": {
          "bar": [
           {
            "error_x": {
             "color": "#2a3f5f"
            },
            "error_y": {
             "color": "#2a3f5f"
            },
            "marker": {
             "line": {
              "color": "#E5ECF6",
              "width": 0.5
             },
             "pattern": {
              "fillmode": "overlay",
              "size": 10,
              "solidity": 0.2
             }
            },
            "type": "bar"
           }
          ],
          "barpolar": [
           {
            "marker": {
             "line": {
              "color": "#E5ECF6",
              "width": 0.5
             },
             "pattern": {
              "fillmode": "overlay",
              "size": 10,
              "solidity": 0.2
             }
            },
            "type": "barpolar"
           }
          ],
          "carpet": [
           {
            "aaxis": {
             "endlinecolor": "#2a3f5f",
             "gridcolor": "white",
             "linecolor": "white",
             "minorgridcolor": "white",
             "startlinecolor": "#2a3f5f"
            },
            "baxis": {
             "endlinecolor": "#2a3f5f",
             "gridcolor": "white",
             "linecolor": "white",
             "minorgridcolor": "white",
             "startlinecolor": "#2a3f5f"
            },
            "type": "carpet"
           }
          ],
          "choropleth": [
           {
            "colorbar": {
             "outlinewidth": 0,
             "ticks": ""
            },
            "type": "choropleth"
           }
          ],
          "contour": [
           {
            "colorbar": {
             "outlinewidth": 0,
             "ticks": ""
            },
            "colorscale": [
             [
              0,
              "#0d0887"
             ],
             [
              0.1111111111111111,
              "#46039f"
             ],
             [
              0.2222222222222222,
              "#7201a8"
             ],
             [
              0.3333333333333333,
              "#9c179e"
             ],
             [
              0.4444444444444444,
              "#bd3786"
             ],
             [
              0.5555555555555556,
              "#d8576b"
             ],
             [
              0.6666666666666666,
              "#ed7953"
             ],
             [
              0.7777777777777778,
              "#fb9f3a"
             ],
             [
              0.8888888888888888,
              "#fdca26"
             ],
             [
              1,
              "#f0f921"
             ]
            ],
            "type": "contour"
           }
          ],
          "contourcarpet": [
           {
            "colorbar": {
             "outlinewidth": 0,
             "ticks": ""
            },
            "type": "contourcarpet"
           }
          ],
          "heatmap": [
           {
            "colorbar": {
             "outlinewidth": 0,
             "ticks": ""
            },
            "colorscale": [
             [
              0,
              "#0d0887"
             ],
             [
              0.1111111111111111,
              "#46039f"
             ],
             [
              0.2222222222222222,
              "#7201a8"
             ],
             [
              0.3333333333333333,
              "#9c179e"
             ],
             [
              0.4444444444444444,
              "#bd3786"
             ],
             [
              0.5555555555555556,
              "#d8576b"
             ],
             [
              0.6666666666666666,
              "#ed7953"
             ],
             [
              0.7777777777777778,
              "#fb9f3a"
             ],
             [
              0.8888888888888888,
              "#fdca26"
             ],
             [
              1,
              "#f0f921"
             ]
            ],
            "type": "heatmap"
           }
          ],
          "heatmapgl": [
           {
            "colorbar": {
             "outlinewidth": 0,
             "ticks": ""
            },
            "colorscale": [
             [
              0,
              "#0d0887"
             ],
             [
              0.1111111111111111,
              "#46039f"
             ],
             [
              0.2222222222222222,
              "#7201a8"
             ],
             [
              0.3333333333333333,
              "#9c179e"
             ],
             [
              0.4444444444444444,
              "#bd3786"
             ],
             [
              0.5555555555555556,
              "#d8576b"
             ],
             [
              0.6666666666666666,
              "#ed7953"
             ],
             [
              0.7777777777777778,
              "#fb9f3a"
             ],
             [
              0.8888888888888888,
              "#fdca26"
             ],
             [
              1,
              "#f0f921"
             ]
            ],
            "type": "heatmapgl"
           }
          ],
          "histogram": [
           {
            "marker": {
             "pattern": {
              "fillmode": "overlay",
              "size": 10,
              "solidity": 0.2
             }
            },
            "type": "histogram"
           }
          ],
          "histogram2d": [
           {
            "colorbar": {
             "outlinewidth": 0,
             "ticks": ""
            },
            "colorscale": [
             [
              0,
              "#0d0887"
             ],
             [
              0.1111111111111111,
              "#46039f"
             ],
             [
              0.2222222222222222,
              "#7201a8"
             ],
             [
              0.3333333333333333,
              "#9c179e"
             ],
             [
              0.4444444444444444,
              "#bd3786"
             ],
             [
              0.5555555555555556,
              "#d8576b"
             ],
             [
              0.6666666666666666,
              "#ed7953"
             ],
             [
              0.7777777777777778,
              "#fb9f3a"
             ],
             [
              0.8888888888888888,
              "#fdca26"
             ],
             [
              1,
              "#f0f921"
             ]
            ],
            "type": "histogram2d"
           }
          ],
          "histogram2dcontour": [
           {
            "colorbar": {
             "outlinewidth": 0,
             "ticks": ""
            },
            "colorscale": [
             [
              0,
              "#0d0887"
             ],
             [
              0.1111111111111111,
              "#46039f"
             ],
             [
              0.2222222222222222,
              "#7201a8"
             ],
             [
              0.3333333333333333,
              "#9c179e"
             ],
             [
              0.4444444444444444,
              "#bd3786"
             ],
             [
              0.5555555555555556,
              "#d8576b"
             ],
             [
              0.6666666666666666,
              "#ed7953"
             ],
             [
              0.7777777777777778,
              "#fb9f3a"
             ],
             [
              0.8888888888888888,
              "#fdca26"
             ],
             [
              1,
              "#f0f921"
             ]
            ],
            "type": "histogram2dcontour"
           }
          ],
          "mesh3d": [
           {
            "colorbar": {
             "outlinewidth": 0,
             "ticks": ""
            },
            "type": "mesh3d"
           }
          ],
          "parcoords": [
           {
            "line": {
             "colorbar": {
              "outlinewidth": 0,
              "ticks": ""
             }
            },
            "type": "parcoords"
           }
          ],
          "pie": [
           {
            "automargin": true,
            "type": "pie"
           }
          ],
          "scatter": [
           {
            "fillpattern": {
             "fillmode": "overlay",
             "size": 10,
             "solidity": 0.2
            },
            "type": "scatter"
           }
          ],
          "scatter3d": [
           {
            "line": {
             "colorbar": {
              "outlinewidth": 0,
              "ticks": ""
             }
            },
            "marker": {
             "colorbar": {
              "outlinewidth": 0,
              "ticks": ""
             }
            },
            "type": "scatter3d"
           }
          ],
          "scattercarpet": [
           {
            "marker": {
             "colorbar": {
              "outlinewidth": 0,
              "ticks": ""
             }
            },
            "type": "scattercarpet"
           }
          ],
          "scattergeo": [
           {
            "marker": {
             "colorbar": {
              "outlinewidth": 0,
              "ticks": ""
             }
            },
            "type": "scattergeo"
           }
          ],
          "scattergl": [
           {
            "marker": {
             "colorbar": {
              "outlinewidth": 0,
              "ticks": ""
             }
            },
            "type": "scattergl"
           }
          ],
          "scattermapbox": [
           {
            "marker": {
             "colorbar": {
              "outlinewidth": 0,
              "ticks": ""
             }
            },
            "type": "scattermapbox"
           }
          ],
          "scatterpolar": [
           {
            "marker": {
             "colorbar": {
              "outlinewidth": 0,
              "ticks": ""
             }
            },
            "type": "scatterpolar"
           }
          ],
          "scatterpolargl": [
           {
            "marker": {
             "colorbar": {
              "outlinewidth": 0,
              "ticks": ""
             }
            },
            "type": "scatterpolargl"
           }
          ],
          "scatterternary": [
           {
            "marker": {
             "colorbar": {
              "outlinewidth": 0,
              "ticks": ""
             }
            },
            "type": "scatterternary"
           }
          ],
          "surface": [
           {
            "colorbar": {
             "outlinewidth": 0,
             "ticks": ""
            },
            "colorscale": [
             [
              0,
              "#0d0887"
             ],
             [
              0.1111111111111111,
              "#46039f"
             ],
             [
              0.2222222222222222,
              "#7201a8"
             ],
             [
              0.3333333333333333,
              "#9c179e"
             ],
             [
              0.4444444444444444,
              "#bd3786"
             ],
             [
              0.5555555555555556,
              "#d8576b"
             ],
             [
              0.6666666666666666,
              "#ed7953"
             ],
             [
              0.7777777777777778,
              "#fb9f3a"
             ],
             [
              0.8888888888888888,
              "#fdca26"
             ],
             [
              1,
              "#f0f921"
             ]
            ],
            "type": "surface"
           }
          ],
          "table": [
           {
            "cells": {
             "fill": {
              "color": "#EBF0F8"
             },
             "line": {
              "color": "white"
             }
            },
            "header": {
             "fill": {
              "color": "#C8D4E3"
             },
             "line": {
              "color": "white"
             }
            },
            "type": "table"
           }
          ]
         },
         "layout": {
          "annotationdefaults": {
           "arrowcolor": "#2a3f5f",
           "arrowhead": 0,
           "arrowwidth": 1
          },
          "autotypenumbers": "strict",
          "coloraxis": {
           "colorbar": {
            "outlinewidth": 0,
            "ticks": ""
           }
          },
          "colorscale": {
           "diverging": [
            [
             0,
             "#8e0152"
            ],
            [
             0.1,
             "#c51b7d"
            ],
            [
             0.2,
             "#de77ae"
            ],
            [
             0.3,
             "#f1b6da"
            ],
            [
             0.4,
             "#fde0ef"
            ],
            [
             0.5,
             "#f7f7f7"
            ],
            [
             0.6,
             "#e6f5d0"
            ],
            [
             0.7,
             "#b8e186"
            ],
            [
             0.8,
             "#7fbc41"
            ],
            [
             0.9,
             "#4d9221"
            ],
            [
             1,
             "#276419"
            ]
           ],
           "sequential": [
            [
             0,
             "#0d0887"
            ],
            [
             0.1111111111111111,
             "#46039f"
            ],
            [
             0.2222222222222222,
             "#7201a8"
            ],
            [
             0.3333333333333333,
             "#9c179e"
            ],
            [
             0.4444444444444444,
             "#bd3786"
            ],
            [
             0.5555555555555556,
             "#d8576b"
            ],
            [
             0.6666666666666666,
             "#ed7953"
            ],
            [
             0.7777777777777778,
             "#fb9f3a"
            ],
            [
             0.8888888888888888,
             "#fdca26"
            ],
            [
             1,
             "#f0f921"
            ]
           ],
           "sequentialminus": [
            [
             0,
             "#0d0887"
            ],
            [
             0.1111111111111111,
             "#46039f"
            ],
            [
             0.2222222222222222,
             "#7201a8"
            ],
            [
             0.3333333333333333,
             "#9c179e"
            ],
            [
             0.4444444444444444,
             "#bd3786"
            ],
            [
             0.5555555555555556,
             "#d8576b"
            ],
            [
             0.6666666666666666,
             "#ed7953"
            ],
            [
             0.7777777777777778,
             "#fb9f3a"
            ],
            [
             0.8888888888888888,
             "#fdca26"
            ],
            [
             1,
             "#f0f921"
            ]
           ]
          },
          "colorway": [
           "#636efa",
           "#EF553B",
           "#00cc96",
           "#ab63fa",
           "#FFA15A",
           "#19d3f3",
           "#FF6692",
           "#B6E880",
           "#FF97FF",
           "#FECB52"
          ],
          "font": {
           "color": "#2a3f5f"
          },
          "geo": {
           "bgcolor": "white",
           "lakecolor": "white",
           "landcolor": "#E5ECF6",
           "showlakes": true,
           "showland": true,
           "subunitcolor": "white"
          },
          "hoverlabel": {
           "align": "left"
          },
          "hovermode": "closest",
          "mapbox": {
           "style": "light"
          },
          "paper_bgcolor": "white",
          "plot_bgcolor": "#E5ECF6",
          "polar": {
           "angularaxis": {
            "gridcolor": "white",
            "linecolor": "white",
            "ticks": ""
           },
           "bgcolor": "#E5ECF6",
           "radialaxis": {
            "gridcolor": "white",
            "linecolor": "white",
            "ticks": ""
           }
          },
          "scene": {
           "xaxis": {
            "backgroundcolor": "#E5ECF6",
            "gridcolor": "white",
            "gridwidth": 2,
            "linecolor": "white",
            "showbackground": true,
            "ticks": "",
            "zerolinecolor": "white"
           },
           "yaxis": {
            "backgroundcolor": "#E5ECF6",
            "gridcolor": "white",
            "gridwidth": 2,
            "linecolor": "white",
            "showbackground": true,
            "ticks": "",
            "zerolinecolor": "white"
           },
           "zaxis": {
            "backgroundcolor": "#E5ECF6",
            "gridcolor": "white",
            "gridwidth": 2,
            "linecolor": "white",
            "showbackground": true,
            "ticks": "",
            "zerolinecolor": "white"
           }
          },
          "shapedefaults": {
           "line": {
            "color": "#2a3f5f"
           }
          },
          "ternary": {
           "aaxis": {
            "gridcolor": "white",
            "linecolor": "white",
            "ticks": ""
           },
           "baxis": {
            "gridcolor": "white",
            "linecolor": "white",
            "ticks": ""
           },
           "bgcolor": "#E5ECF6",
           "caxis": {
            "gridcolor": "white",
            "linecolor": "white",
            "ticks": ""
           }
          },
          "title": {
           "x": 0.05
          },
          "xaxis": {
           "automargin": true,
           "gridcolor": "white",
           "linecolor": "white",
           "ticks": "",
           "title": {
            "standoff": 15
           },
           "zerolinecolor": "white",
           "zerolinewidth": 2
          },
          "yaxis": {
           "automargin": true,
           "gridcolor": "white",
           "linecolor": "white",
           "ticks": "",
           "title": {
            "standoff": 15
           },
           "zerolinecolor": "white",
           "zerolinewidth": 2
          }
         }
        },
        "width": 1500
       }
      }
     },
     "metadata": {},
     "output_type": "display_data"
    }
   ],
   "source": [
    "dset = pd.concat([pd.Series(X_train.columns), \n",
    "                  pd.Series(grid.best_estimator_.named_steps[\"regressor\"].feature_importances_)], axis= 1 )\n",
    "dset = dset.set_axis(['attr', 'importance'], \n",
    "                     axis=1).sort_values(by='importance', \n",
    "                                                ascending=True)\n",
    "fig = go.Figure(go.Bar(\n",
    "            x=dset[\"importance\"],\n",
    "            y=dset['attr'],\n",
    "            orientation='h'))\n",
    "\n",
    "fig.update_layout(width=1500, height=500)"
   ]
  },
  {
   "cell_type": "code",
   "execution_count": 69,
   "metadata": {},
   "outputs": [
    {
     "name": "stdout",
     "output_type": "stream",
     "text": [
      "CPU times: total: 0 ns\n",
      "Wall time: 4 ms\n"
     ]
    }
   ],
   "source": [
    "%%time\n",
    "y_final = grid.best_estimator_.predict(X_test)"
   ]
  },
  {
   "cell_type": "code",
   "execution_count": 70,
   "metadata": {},
   "outputs": [
    {
     "data": {
      "text/plain": [
       "840.7404000988691"
      ]
     },
     "execution_count": 70,
     "metadata": {},
     "output_type": "execute_result"
    }
   ],
   "source": [
    "from sklearn.metrics import mean_squared_error\n",
    "mean_squared_error(y_test, y_final, squared=False)"
   ]
  },
  {
   "cell_type": "code",
   "execution_count": 71,
   "metadata": {},
   "outputs": [
    {
     "data": {
      "text/plain": [
       "['model.pkl']"
      ]
     },
     "execution_count": 71,
     "metadata": {},
     "output_type": "execute_result"
    }
   ],
   "source": [
    "import joblib\n",
    "joblib.dump(grid, \"model.pkl\")"
   ]
  }
 ],
 "metadata": {
  "kernelspec": {
   "display_name": ".venv",
   "language": "python",
   "name": "python3"
  },
  "language_info": {
   "codemirror_mode": {
    "name": "ipython",
    "version": 3
   },
   "file_extension": ".py",
   "mimetype": "text/x-python",
   "name": "python",
   "nbconvert_exporter": "python",
   "pygments_lexer": "ipython3",
   "version": "3.10.4"
  },
  "orig_nbformat": 4
 },
 "nbformat": 4,
 "nbformat_minor": 2
}
